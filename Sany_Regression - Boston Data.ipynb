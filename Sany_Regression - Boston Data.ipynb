{
 "cells": [
  {
   "cell_type": "code",
   "execution_count": 1,
   "metadata": {},
   "outputs": [],
   "source": [
    "import numpy as np\n",
    "import pandas as pd\n",
    "import seaborn as sns\n",
    "import matplotlib.pyplot as plt\n",
    "import statistics\n",
    "%matplotlib inline"
   ]
  },
  {
   "cell_type": "code",
   "execution_count": 2,
   "metadata": {},
   "outputs": [],
   "source": [
    "from sklearn.datasets import load_boston\n",
    "boston = load_boston()\n",
    "bos = pd.DataFrame(boston.data, columns = boston.feature_names)\n",
    "bos['Price'] = boston.target\n",
    "\n",
    "bos = bos.sample(frac = 1, random_state=3) \n",
    "\n",
    "y = bos['Price']\n",
    "X = bos.drop(['Price'], axis=1)"
   ]
  },
  {
   "cell_type": "code",
   "execution_count": 5,
   "metadata": {},
   "outputs": [],
   "source": [
    "from sklearn.linear_model import Lasso, LassoCV, Ridge, RidgeCV, ElasticNet, ElasticNetCV"
   ]
  },
  {
   "cell_type": "code",
   "execution_count": 12,
   "metadata": {},
   "outputs": [
    {
     "data": {
      "text/plain": [
       "Lasso(alpha=0.2, copy_X=True, fit_intercept=True, max_iter=1000,\n",
       "      normalize=False, positive=False, precompute=False, random_state=None,\n",
       "      selection='cyclic', tol=0.0001, warm_start=False)"
      ]
     },
     "execution_count": 12,
     "metadata": {},
     "output_type": "execute_result"
    }
   ],
   "source": [
    "lasso = Lasso(alpha=.2)\n",
    "lasso.fit(X, y)"
   ]
  },
  {
   "cell_type": "code",
   "execution_count": 13,
   "metadata": {},
   "outputs": [
    {
     "data": {
      "text/plain": [
       "array([-0.09562686,  0.04958111, -0.02340633,  0.        , -0.        ,\n",
       "        3.40600664, -0.00506212, -1.10330301,  0.28174797, -0.0151714 ,\n",
       "       -0.77893082,  0.01015377, -0.59440239])"
      ]
     },
     "execution_count": 13,
     "metadata": {},
     "output_type": "execute_result"
    }
   ],
   "source": [
    "lasso.coef_"
   ]
  },
  {
   "cell_type": "code",
   "execution_count": 14,
   "metadata": {},
   "outputs": [
    {
     "data": {
      "text/html": [
       "<div>\n",
       "<style scoped>\n",
       "    .dataframe tbody tr th:only-of-type {\n",
       "        vertical-align: middle;\n",
       "    }\n",
       "\n",
       "    .dataframe tbody tr th {\n",
       "        vertical-align: top;\n",
       "    }\n",
       "\n",
       "    .dataframe thead th {\n",
       "        text-align: right;\n",
       "    }\n",
       "</style>\n",
       "<table border=\"1\" class=\"dataframe\">\n",
       "  <thead>\n",
       "    <tr style=\"text-align: right;\">\n",
       "      <th></th>\n",
       "      <th>Coefs</th>\n",
       "    </tr>\n",
       "  </thead>\n",
       "  <tbody>\n",
       "    <tr>\n",
       "      <td>CRIM</td>\n",
       "      <td>-0.095627</td>\n",
       "    </tr>\n",
       "    <tr>\n",
       "      <td>ZN</td>\n",
       "      <td>0.049581</td>\n",
       "    </tr>\n",
       "    <tr>\n",
       "      <td>INDUS</td>\n",
       "      <td>-0.023406</td>\n",
       "    </tr>\n",
       "    <tr>\n",
       "      <td>CHAS</td>\n",
       "      <td>0.000000</td>\n",
       "    </tr>\n",
       "    <tr>\n",
       "      <td>NOX</td>\n",
       "      <td>-0.000000</td>\n",
       "    </tr>\n",
       "    <tr>\n",
       "      <td>RM</td>\n",
       "      <td>3.406007</td>\n",
       "    </tr>\n",
       "    <tr>\n",
       "      <td>AGE</td>\n",
       "      <td>-0.005062</td>\n",
       "    </tr>\n",
       "    <tr>\n",
       "      <td>DIS</td>\n",
       "      <td>-1.103303</td>\n",
       "    </tr>\n",
       "    <tr>\n",
       "      <td>RAD</td>\n",
       "      <td>0.281748</td>\n",
       "    </tr>\n",
       "    <tr>\n",
       "      <td>TAX</td>\n",
       "      <td>-0.015171</td>\n",
       "    </tr>\n",
       "    <tr>\n",
       "      <td>PTRATIO</td>\n",
       "      <td>-0.778931</td>\n",
       "    </tr>\n",
       "    <tr>\n",
       "      <td>B</td>\n",
       "      <td>0.010154</td>\n",
       "    </tr>\n",
       "    <tr>\n",
       "      <td>LSTAT</td>\n",
       "      <td>-0.594402</td>\n",
       "    </tr>\n",
       "  </tbody>\n",
       "</table>\n",
       "</div>"
      ],
      "text/plain": [
       "            Coefs\n",
       "CRIM    -0.095627\n",
       "ZN       0.049581\n",
       "INDUS   -0.023406\n",
       "CHAS     0.000000\n",
       "NOX     -0.000000\n",
       "RM       3.406007\n",
       "AGE     -0.005062\n",
       "DIS     -1.103303\n",
       "RAD      0.281748\n",
       "TAX     -0.015171\n",
       "PTRATIO -0.778931\n",
       "B        0.010154\n",
       "LSTAT   -0.594402"
      ]
     },
     "execution_count": 14,
     "metadata": {},
     "output_type": "execute_result"
    }
   ],
   "source": [
    "pd.DataFrame(lasso.coef_, index = X.columns, columns = ['Coefs']) # Giving row and column name to coefs."
   ]
  },
  {
   "cell_type": "markdown",
   "metadata": {},
   "source": [
    "Lasso helps in reducing the coefs size and the coefs of NOX became 0 and the other variables coefs have also decreased."
   ]
  },
  {
   "cell_type": "code",
   "execution_count": 19,
   "metadata": {},
   "outputs": [],
   "source": [
    "coefs = []\n",
    "alphas = np.linspace(0.01, 0.2, 100)\n",
    "\n",
    "for a in alphas:\n",
    "    lasso = Lasso(alpha=a)\n",
    "    lasso.fit(X, y)\n",
    "    coefs.append(lasso.coef_)\n"
   ]
  },
  {
   "cell_type": "code",
   "execution_count": 20,
   "metadata": {},
   "outputs": [
    {
     "data": {
      "text/plain": [
       "[array([-1.06228354e-01,  4.68603033e-02,  6.47427472e-03,  2.50419017e+00,\n",
       "        -1.43944776e+01,  3.81418583e+00, -1.81830336e-03, -1.42215548e+00,\n",
       "         2.98525812e-01, -1.26273172e-02, -9.16368723e-01,  9.48546597e-03,\n",
       "        -5.30481493e-01]),\n",
       " array([-1.05886320e-01,  4.69452528e-02,  3.76738139e-03,  2.46915632e+00,\n",
       "        -1.37472464e+01,  3.81499986e+00, -2.29962818e-03, -1.41191183e+00,\n",
       "         2.97080889e-01, -1.26834267e-02, -9.09383684e-01,  9.51878105e-03,\n",
       "        -5.31581327e-01]),\n",
       " array([-1.05543664e-01,  4.70300817e-02,  1.06417226e-03,  2.43411256e+00,\n",
       "        -1.30998182e+01,  3.81581455e+00, -2.78085553e-03, -1.40165644e+00,\n",
       "         2.95637212e-01, -1.27397086e-02, -9.02398690e-01,  9.55213262e-03,\n",
       "        -5.32682535e-01]),\n",
       " array([-1.05171827e-01,  4.71542152e-02, -0.00000000e+00,  2.39669688e+00,\n",
       "        -1.24796303e+01,  3.81763868e+00, -3.26264413e-03, -1.39029172e+00,\n",
       "         2.94700160e-01, -1.28403587e-02, -8.95873947e-01,  9.58789087e-03,\n",
       "        -5.33884767e-01]),\n",
       " array([-1.04800894e-01,  4.72702852e-02, -1.33788359e-03,  2.35971217e+00,\n",
       "        -1.18549778e+01,  3.81934993e+00, -3.74537546e-03, -1.37910585e+00,\n",
       "         2.93655003e-01, -1.29325771e-02, -8.89268506e-01,  9.62319263e-03,\n",
       "        -5.35066503e-01]),\n",
       " array([-1.04452841e-01,  4.73626427e-02, -3.71345110e-03,  2.32420085e+00,\n",
       "        -1.12131758e+01,  3.82037614e+00, -4.22710007e-03, -1.36863156e+00,\n",
       "         2.92312809e-01, -1.29976652e-02, -8.82378108e-01,  9.65702617e-03,\n",
       "        -5.36185912e-01]),\n",
       " array([-1.04104789e-01,  4.74550002e-02, -6.08901861e-03,  2.28868953e+00,\n",
       "        -1.05713738e+01,  3.82140234e+00, -4.70882468e-03, -1.35815727e+00,\n",
       "         2.90970614e-01, -1.30627532e-02, -8.75487711e-01,  9.69085971e-03,\n",
       "        -5.37305321e-01]),\n",
       " array([-1.03756736e-01,  4.75473577e-02, -8.46458612e-03,  2.25317821e+00,\n",
       "        -9.92957186e+00,  3.82242855e+00, -5.19054929e-03, -1.34768298e+00,\n",
       "         2.89628420e-01, -1.31278413e-02, -8.68597313e-01,  9.72469324e-03,\n",
       "        -5.38424730e-01]),\n",
       " array([-1.03408684e-01,  4.76397152e-02, -1.08401536e-02,  2.21766689e+00,\n",
       "        -9.28776988e+00,  3.82345476e+00, -5.67227391e-03, -1.33720869e+00,\n",
       "         2.88286225e-01, -1.31929293e-02, -8.61706915e-01,  9.75852678e-03,\n",
       "        -5.39544139e-01]),\n",
       " array([-1.03060631e-01,  4.77320727e-02, -1.32157211e-02,  2.18215558e+00,\n",
       "        -8.64596789e+00,  3.82448096e+00, -6.15399852e-03, -1.32673439e+00,\n",
       "         2.86944031e-01, -1.32580174e-02, -8.54816517e-01,  9.79236031e-03,\n",
       "        -5.40663548e-01]),\n",
       " array([-1.02712578e-01,  4.78244302e-02, -1.55912886e-02,  2.14664426e+00,\n",
       "        -8.00416590e+00,  3.82550717e+00, -6.63572313e-03, -1.31626010e+00,\n",
       "         2.85601837e-01, -1.33231054e-02, -8.47926119e-01,  9.82619385e-03,\n",
       "        -5.41782957e-01]),\n",
       " array([-1.02364526e-01,  4.79167877e-02, -1.79668562e-02,  2.11113294e+00,\n",
       "        -7.36236392e+00,  3.82653337e+00, -7.11744774e-03, -1.30578581e+00,\n",
       "         2.84259642e-01, -1.33881934e-02, -8.41035722e-01,  9.86002738e-03,\n",
       "        -5.42902366e-01]),\n",
       " array([-0.10201592,  0.04800943, -0.02034607,  2.07562471, -6.72043373,\n",
       "         3.82755168, -0.00759884, -1.29531497,  0.2829136 , -0.01345311,\n",
       "        -0.83414126,  0.00989383, -0.54402303]),\n",
       " array([-0.10166788,  0.0481018 , -0.02272167,  2.04011322, -6.07863069,\n",
       "         3.82857749, -0.00808055, -1.28484077,  0.28157146, -0.01351821,\n",
       "        -0.82725082,  0.00992766, -0.54514248]),\n",
       " array([-0.10131984,  0.04819417, -0.02509727,  2.00460173, -5.43682764,\n",
       "         3.82960329, -0.00856226, -1.27436656,  0.28022933, -0.0135833 ,\n",
       "        -0.82036039,  0.0099615 , -0.54626193]),\n",
       " array([-0.1009718 ,  0.04828654, -0.02747287,  1.96909025, -4.79502459,\n",
       "         3.8306291 , -0.00904398, -1.26389235,  0.27888719, -0.01364839,\n",
       "        -0.81346995,  0.00999533, -0.54738138]),\n",
       " array([-0.10062376,  0.04837891, -0.02984847,  1.93357876, -4.15322154,\n",
       "         3.8316549 , -0.00952569, -1.25341814,  0.27754506, -0.01371348,\n",
       "        -0.80657952,  0.01002916, -0.54850083]),\n",
       " array([-0.10027572,  0.04847128, -0.03222407,  1.89806727, -3.51141849,\n",
       "         3.83268071, -0.0100074 , -1.24294393,  0.27620292, -0.01377857,\n",
       "        -0.79968909,  0.010063  , -0.54962028]),\n",
       " array([-0.09992768,  0.04856365, -0.03459966,  1.86255578, -2.86961544,\n",
       "         3.83370651, -0.01048911, -1.23246972,  0.27486079, -0.01384366,\n",
       "        -0.79279865,  0.01009683, -0.55073973]),\n",
       " array([-0.09957964,  0.04865602, -0.03697526,  1.8270443 , -2.2278124 ,\n",
       "         3.83473232, -0.01097082, -1.22199551,  0.27351865, -0.01390875,\n",
       "        -0.78590822,  0.01013066, -0.55185918]),\n",
       " array([-0.09923033,  0.04874856, -0.03935338,  1.79153358, -1.58573667,\n",
       "         3.83575268, -0.01145218, -1.2115184 ,  0.27217122, -0.01397368,\n",
       "        -0.77901269,  0.01016448, -0.55298062]),\n",
       " array([-0.0988803 ,  0.04884073, -0.0417299 ,  1.75602442, -0.94358681,\n",
       "         3.83678302, -0.01193378, -1.20103502,  0.2708218 , -0.01403856,\n",
       "        -0.77211736,  0.01019832, -0.5541017 ]),\n",
       " array([-0.09853014,  0.04893231, -0.04410466,  1.72052326, -0.30157813,\n",
       "         3.83783217, -0.01241603, -1.19054994,  0.26947121, -0.01410336,\n",
       "        -0.76522503,  0.01023217, -0.55522033]),\n",
       " array([-0.09835165,  0.0489786 , -0.04502739,  1.68762469, -0.        ,\n",
       "         3.83545598, -0.01258774, -1.18506355,  0.26894706, -0.0141426 ,\n",
       "        -0.76217647,  0.01024814, -0.5560242 ]),\n",
       " array([-0.09833265,  0.04898836, -0.04467534,  1.65697089, -0.        ,\n",
       "         3.82992045, -0.012481  , -1.18403711,  0.269189  , -0.01416053,\n",
       "        -0.76253153,  0.01024818, -0.55655754]),\n",
       " array([-0.09831365,  0.04899811, -0.04432328,  1.62631704, -0.        ,\n",
       "         3.82438487, -0.01237426, -1.18301066,  0.26943096, -0.01417847,\n",
       "        -0.76288659,  0.01024823, -0.55709089]),\n",
       " array([-0.09829466,  0.04900787, -0.04397121,  1.59566311, -0.        ,\n",
       "         3.81884919, -0.01226752, -1.1819842 ,  0.26967296, -0.0141964 ,\n",
       "        -0.76324166,  0.01024828, -0.55762426]),\n",
       " array([-0.09827568,  0.04901763, -0.04361914,  1.56500911, -0.        ,\n",
       "         3.81331342, -0.01216077, -1.18095775,  0.269915  , -0.01421434,\n",
       "        -0.76359673,  0.01024832, -0.55815763]),\n",
       " array([-0.09825669,  0.04902739, -0.04326706,  1.53435511, -0.        ,\n",
       "         3.80777765, -0.01205402, -1.17993129,  0.27015703, -0.01423227,\n",
       "        -0.7639518 ,  0.01024837, -0.558691  ]),\n",
       " array([-0.0982356 ,  0.04903676, -0.04291724,  1.5037185 , -0.        ,\n",
       "         3.80225371, -0.0119473 , -1.17890558,  0.27038778, -0.01424971,\n",
       "        -0.76430384,  0.01024838, -0.55922422]),\n",
       " array([-0.09821662,  0.04904652, -0.04256515,  1.47306442, -0.        ,\n",
       "         3.79671784, -0.01184055, -1.17787914,  0.27062985, -0.01426765,\n",
       "        -0.76465891,  0.01024843, -0.55975761]),\n",
       " array([-0.09819764,  0.04905629, -0.04221307,  1.44241035, -0.        ,\n",
       "         3.79118196, -0.0117338 , -1.1768527 ,  0.27087192, -0.01428559,\n",
       "        -0.76501398,  0.01024847, -0.56029099]),\n",
       " array([-0.09817867,  0.04906605, -0.04186098,  1.41175623, -0.        ,\n",
       "         3.78564603, -0.01162705, -1.17582626,  0.27111401, -0.01430353,\n",
       "        -0.76536906,  0.01024852, -0.56082438]),\n",
       " array([-0.0981597 ,  0.04907582, -0.04150889,  1.38110206, -0.        ,\n",
       "         3.78011004, -0.0115203 , -1.17479983,  0.27135612, -0.01432147,\n",
       "        -0.76572413,  0.01024857, -0.56135777]),\n",
       " array([-0.09814073,  0.04908559, -0.04115679,  1.35044789, -0.        ,\n",
       "         3.77457404, -0.01141355, -1.17377339,  0.27159824, -0.01433941,\n",
       "        -0.76607921,  0.01024861, -0.56189117]),\n",
       " array([-0.09812176,  0.04909536, -0.04080469,  1.31979368, -0.        ,\n",
       "         3.769038  , -0.01130679, -1.17274696,  0.27184038, -0.01435735,\n",
       "        -0.76643429,  0.01024866, -0.56242456]),\n",
       " array([-0.0981028 ,  0.04910513, -0.04045259,  1.28913943, -0.        ,\n",
       "         3.7635019 , -0.01120004, -1.17172054,  0.27208253, -0.01437529,\n",
       "        -0.76678937,  0.01024871, -0.56295797]),\n",
       " array([-0.09808384,  0.0491149 , -0.04010049,  1.25848518, -0.        ,\n",
       "         3.7579658 , -0.01109328, -1.17069411,  0.27232469, -0.01439323,\n",
       "        -0.76714445,  0.01024875, -0.56349137]),\n",
       " array([-0.09806488,  0.04912467, -0.03974839,  1.22783093, -0.        ,\n",
       "         3.7524297 , -0.01098653, -1.16966769,  0.27256685, -0.01441117,\n",
       "        -0.76749953,  0.0102488 , -0.56402477]),\n",
       " array([-0.09804591,  0.04913445, -0.03939629,  1.19717667, -0.        ,\n",
       "         3.7468936 , -0.01087977, -1.16864126,  0.27280901, -0.01442912,\n",
       "        -0.76785461,  0.01024885, -0.56455818]),\n",
       " array([-0.09802695,  0.04914422, -0.03904419,  1.16652242, -0.        ,\n",
       "         3.7413575 , -0.01077302, -1.16761484,  0.27305117, -0.01444706,\n",
       "        -0.76820969,  0.01024889, -0.56509158]),\n",
       " array([-0.09800799,  0.04915399, -0.03869208,  1.13586817, -0.        ,\n",
       "         3.73582139, -0.01066626, -1.16658842,  0.27329333, -0.014465  ,\n",
       "        -0.76856477,  0.01024894, -0.56562498]),\n",
       " array([-0.09798903,  0.04916376, -0.03833998,  1.10521392, -0.        ,\n",
       "         3.73028529, -0.01055951, -1.16556199,  0.27353549, -0.01448294,\n",
       "        -0.76891985,  0.01024899, -0.56615838]),\n",
       " array([-0.09797007,  0.04917354, -0.03798788,  1.07455966, -0.        ,\n",
       "         3.72474919, -0.01045275, -1.16453557,  0.27377765, -0.01450088,\n",
       "        -0.76927493,  0.01024903, -0.56669179]),\n",
       " array([-0.09795111,  0.04918331, -0.03763578,  1.04390541, -0.        ,\n",
       "         3.71921309, -0.01034599, -1.16350914,  0.27401981, -0.01451882,\n",
       "        -0.76963001,  0.01024908, -0.56722519]),\n",
       " array([-0.09792956,  0.0491926 , -0.03728619,  1.01327174, -0.        ,\n",
       "         3.71369119, -0.01023925, -1.16248314,  0.2742484 , -0.01453617,\n",
       "        -0.76998156,  0.01024909, -0.56775848]),\n",
       " array([-0.0979106 ,  0.04920237, -0.03693409,  0.98261751, -0.        ,\n",
       "         3.7081551 , -0.0101325 , -1.16145672,  0.27449055, -0.01455411,\n",
       "        -0.77033664,  0.01024913, -0.56829188]),\n",
       " array([-0.09789163,  0.04921214, -0.03658199,  0.95196327, -0.        ,\n",
       "         3.70261901, -0.01002574, -1.1604303 ,  0.2747327 , -0.01457206,\n",
       "        -0.77069172,  0.01024918, -0.56882528]),\n",
       " array([-0.09787267,  0.04922191, -0.03622989,  0.92130903, -0.        ,\n",
       "         3.69708291, -0.00991899, -1.15940388,  0.27497485, -0.01459   ,\n",
       "        -0.77104679,  0.01024923, -0.56935869]),\n",
       " array([-0.09785371,  0.04923168, -0.03587779,  0.8906548 , -0.        ,\n",
       "         3.69154682, -0.00981223, -1.15837745,  0.27521699, -0.01460794,\n",
       "        -0.77140187,  0.01024927, -0.56989209]),\n",
       " array([-0.09783474,  0.04924145, -0.03552569,  0.86000056, -0.        ,\n",
       "         3.68601072, -0.00970548, -1.15735103,  0.27545914, -0.01462588,\n",
       "        -0.77175694,  0.01024932, -0.57042549]),\n",
       " array([-0.09781578,  0.04925123, -0.0351736 ,  0.82934632, -0.        ,\n",
       "         3.68047463, -0.00959872, -1.15632461,  0.27570129, -0.01464382,\n",
       "        -0.77211202,  0.01024937, -0.5709589 ]),\n",
       " array([-0.09779682,  0.049261  , -0.0348215 ,  0.79869209, -0.        ,\n",
       "         3.67493853, -0.00949197, -1.15529819,  0.27594344, -0.01466176,\n",
       "        -0.7724671 ,  0.01024941, -0.5714923 ]),\n",
       " array([-0.09777785,  0.04927077, -0.0344694 ,  0.76803785, -0.        ,\n",
       "         3.66940244, -0.00938521, -1.15427177,  0.27618558, -0.0146797 ,\n",
       "        -0.77282217,  0.01024946, -0.5720257 ]),\n",
       " array([-0.09775889,  0.04928054, -0.0341173 ,  0.73738362, -0.        ,\n",
       "         3.66386635, -0.00927845, -1.15324535,  0.27642773, -0.01469764,\n",
       "        -0.77317725,  0.01024951, -0.57255911]),\n",
       " array([-0.09773993,  0.04929031, -0.0337652 ,  0.70672938, -0.        ,\n",
       "         3.65833025, -0.0091717 , -1.15221892,  0.27666988, -0.01471559,\n",
       "        -0.77353233,  0.01024955, -0.57309251]),\n",
       " array([-0.09772096,  0.04930009, -0.0334131 ,  0.67607514, -0.        ,\n",
       "         3.65279416, -0.00906494, -1.1511925 ,  0.27691203, -0.01473353,\n",
       "        -0.7738874 ,  0.0102496 , -0.57362592]),\n",
       " array([-0.097702  ,  0.04930986, -0.033061  ,  0.64542091, -0.        ,\n",
       "         3.64725806, -0.00895819, -1.15016608,  0.27715417, -0.01475147,\n",
       "        -0.77424248,  0.01024965, -0.57415932]),\n",
       " array([-0.09768304,  0.04931963, -0.0327089 ,  0.61476667, -0.        ,\n",
       "         3.64172197, -0.00885143, -1.14913966,  0.27739632, -0.01476941,\n",
       "        -0.77459756,  0.01024969, -0.57469272]),\n",
       " array([-0.09766407,  0.0493294 , -0.0323568 ,  0.58411243, -0.        ,\n",
       "         3.63618587, -0.00874468, -1.14811324,  0.27763847, -0.01478735,\n",
       "        -0.77495263,  0.01024974, -0.57522613]),\n",
       " array([-0.09764511,  0.04933917, -0.0320047 ,  0.5534582 , -0.        ,\n",
       "         3.63064978, -0.00863792, -1.14708682,  0.27788062, -0.01480529,\n",
       "        -0.77530771,  0.01024979, -0.57575953]),\n",
       " array([-0.09762614,  0.04934895, -0.0316526 ,  0.52280396, -0.        ,\n",
       "         3.62511369, -0.00853117, -1.14606039,  0.27812277, -0.01482323,\n",
       "        -0.77566279,  0.01024983, -0.57629293]),\n",
       " array([-0.09760718,  0.04935872, -0.0313005 ,  0.49214973, -0.        ,\n",
       "         3.61957759, -0.00842441, -1.14503397,  0.27836491, -0.01484118,\n",
       "        -0.77601786,  0.01024988, -0.57682634]),\n",
       " array([-0.09758822,  0.04936849, -0.0309484 ,  0.46149549, -0.        ,\n",
       "         3.6140415 , -0.00831766, -1.14400755,  0.27860706, -0.01485912,\n",
       "        -0.77637294,  0.01024992, -0.57735974]),\n",
       " array([-0.09756925,  0.04937826, -0.03059631,  0.43084125, -0.        ,\n",
       "         3.6085054 , -0.0082109 , -1.14298113,  0.27884921, -0.01487706,\n",
       "        -0.77672802,  0.01024997, -0.57789314]),\n",
       " array([-0.09755029,  0.04938803, -0.03024421,  0.40018702, -0.        ,\n",
       "         3.60296931, -0.00810414, -1.14195471,  0.27909136, -0.014895  ,\n",
       "        -0.77708309,  0.01025002, -0.57842655]),\n",
       " array([-0.09753133,  0.0493978 , -0.02989211,  0.36953278, -0.        ,\n",
       "         3.59743322, -0.00799739, -1.14092829,  0.2793335 , -0.01491294,\n",
       "        -0.77743817,  0.01025006, -0.57895995]),\n",
       " array([-0.09751236,  0.04940758, -0.02954001,  0.33887854, -0.        ,\n",
       "         3.59189712, -0.00789063, -1.13990186,  0.27957565, -0.01493088,\n",
       "        -0.77779325,  0.01025011, -0.57949335]),\n",
       " array([-0.09749023,  0.04941675, -0.02919064,  0.30824859, -0.        ,\n",
       "         3.58637803, -0.00778387, -1.13887527,  0.2798015 , -0.01494811,\n",
       "        -0.77814423,  0.01025011, -0.58002672]),\n",
       " array([-0.09747126,  0.04942652, -0.02883854,  0.27759437, -0.        ,\n",
       "         3.58084195, -0.00767711, -1.13784885,  0.28004363, -0.01496606,\n",
       "        -0.7784993 ,  0.01025016, -0.58056012]),\n",
       " array([-0.0974523 ,  0.04943629, -0.02848645,  0.24694015, -0.        ,\n",
       "         3.57530586, -0.00757036, -1.13682243,  0.28028577, -0.014984  ,\n",
       "        -0.77885437,  0.0102502 , -0.58109353]),\n",
       " array([-0.09743333,  0.04944606, -0.02813435,  0.21628594, -0.        ,\n",
       "         3.56976977, -0.0074636 , -1.13579601,  0.2805279 , -0.01500194,\n",
       "        -0.77920944,  0.01025025, -0.58162693]),\n",
       " array([-0.09741437,  0.04945584, -0.02778225,  0.18563172, -0.        ,\n",
       "         3.56423369, -0.00735685, -1.13476959,  0.28077004, -0.01501988,\n",
       "        -0.77956451,  0.0102503 , -0.58216034]),\n",
       " array([-0.0973954 ,  0.04946561, -0.02743016,  0.1549775 , -0.        ,\n",
       "         3.5586976 , -0.00725009, -1.13374317,  0.28101217, -0.01503782,\n",
       "        -0.77991959,  0.01025034, -0.58269374]),\n",
       " array([-0.09737643,  0.04947538, -0.02707806,  0.12432328, -0.        ,\n",
       "         3.55316151, -0.00714333, -1.13271675,  0.2812543 , -0.01505576,\n",
       "        -0.78027466,  0.01025039, -0.58322715]),\n",
       " array([-0.09735747,  0.04948515, -0.02672596,  0.09366906, -0.        ,\n",
       "         3.54762542, -0.00703658, -1.13169033,  0.28149644, -0.0150737 ,\n",
       "        -0.78062973,  0.01025044, -0.58376055]),\n",
       " array([-0.0973385 ,  0.04949492, -0.02637387,  0.06301485, -0.        ,\n",
       "         3.54208934, -0.00692982, -1.13066391,  0.28173857, -0.01509164,\n",
       "        -0.7809848 ,  0.01025048, -0.58429396]),\n",
       " array([-0.09731953,  0.04950469, -0.02602177,  0.03236063, -0.        ,\n",
       "         3.53655325, -0.00682307, -1.12963749,  0.28198071, -0.01510958,\n",
       "        -0.78133988,  0.01025053, -0.58482736]),\n",
       " array([-9.73005682e-02,  4.95144651e-02, -2.56696734e-02,  1.70640915e-03,\n",
       "        -0.00000000e+00,  3.53101716e+00, -6.71631086e-03, -1.12861107e+00,\n",
       "         2.82222840e-01, -1.51275228e-02, -7.81694949e-01,  1.02505756e-02,\n",
       "        -5.85360764e-01]),\n",
       " array([-0.09722259,  0.04951785, -0.02554958,  0.        , -0.        ,\n",
       "         3.52508964, -0.00663587, -1.12741573,  0.28220649, -0.01513012,\n",
       "        -0.78158711,  0.01024619, -0.58579766]),\n",
       " array([-0.09714295,  0.04952106, -0.02544228,  0.        , -0.        ,\n",
       "         3.51913421, -0.00655716, -1.12621012,  0.28218438, -0.01513222,\n",
       "        -0.78145445,  0.01024157, -0.58622795]),\n",
       " array([-0.09706326,  0.04952425, -0.02533503,  0.        , -0.        ,\n",
       "         3.5131793 , -0.00647847, -1.12500451,  0.28216196, -0.01513431,\n",
       "        -0.78132172,  0.01023695, -0.58665822]),\n",
       " array([-0.09698355,  0.04952743, -0.02522782,  0.        , -0.        ,\n",
       "         3.50722464, -0.00639977, -1.1237989 ,  0.28213938, -0.01513639,\n",
       "        -0.78118897,  0.01023233, -0.58708847]),\n",
       " array([-0.09690381,  0.04953061, -0.02512061,  0.        , -0.        ,\n",
       "         3.50127013, -0.00632108, -1.12259328,  0.28211671, -0.01513846,\n",
       "        -0.78105621,  0.01022771, -0.58751872]),\n",
       " array([-0.09682405,  0.04953378, -0.02501343,  0.        , -0.        ,\n",
       "         3.49531578, -0.0062424 , -1.12138765,  0.28209393, -0.01514053,\n",
       "        -0.78092342,  0.01022309, -0.58794896]),\n",
       " array([-0.09674428,  0.04953694, -0.02490625,  0.        , -0.        ,\n",
       "         3.4893615 , -0.00616371, -1.12018202,  0.2820711 , -0.0151426 ,\n",
       "        -0.78079063,  0.01021846, -0.5883792 ]),\n",
       " array([-0.09666451,  0.04954011, -0.02479908,  0.        , -0.        ,\n",
       "         3.4834073 , -0.00608502, -1.11897639,  0.28204822, -0.01514467,\n",
       "        -0.78065782,  0.01021384, -0.58880944]),\n",
       " array([-0.09658472,  0.04954327, -0.02469192,  0.        , -0.        ,\n",
       "         3.47745319, -0.00600634, -1.11777075,  0.28202528, -0.01514673,\n",
       "        -0.780525  ,  0.01020922, -0.58923967]),\n",
       " array([-0.09650492,  0.04954643, -0.02458477,  0.        , -0.        ,\n",
       "         3.47149913, -0.00592765, -1.11656511,  0.2820023 , -0.01514879,\n",
       "        -0.78039218,  0.0102046 , -0.5896699 ]),\n",
       " array([-0.09642512,  0.04954959, -0.02447762,  0.        , -0.        ,\n",
       "         3.46554514, -0.00584896, -1.11535947,  0.28197928, -0.01515085,\n",
       "        -0.78025935,  0.01019998, -0.59010013]),\n",
       " array([-0.0963453 ,  0.04955274, -0.02437048,  0.        , -0.        ,\n",
       "         3.45959121, -0.00577028, -1.11415382,  0.2819562 , -0.01515291,\n",
       "        -0.78012651,  0.01019536, -0.59053036]),\n",
       " array([-0.09626549,  0.0495559 , -0.02426335,  0.        , -0.        ,\n",
       "         3.45363729, -0.0056916 , -1.11294818,  0.28193312, -0.01515496,\n",
       "        -0.77999367,  0.01019074, -0.59096059]),\n",
       " array([-0.09618566,  0.04955905, -0.02415622,  0.        , -0.        ,\n",
       "         3.44768344, -0.00561291, -1.11174253,  0.28191   , -0.01515702,\n",
       "        -0.77986081,  0.01018612, -0.59139081]),\n",
       " array([-0.09610584,  0.0495622 , -0.02404909,  0.        , -0.        ,\n",
       "         3.44172959, -0.00553423, -1.11053688,  0.28188687, -0.01515907,\n",
       "        -0.77972796,  0.01018149, -0.59182104]),\n",
       " array([-0.09602601,  0.04956535, -0.02394196,  0.        , -0.        ,\n",
       "         3.43577574, -0.00545554, -1.10933124,  0.28186374, -0.01516113,\n",
       "        -0.77959511,  0.01017687, -0.59225126]),\n",
       " array([-0.09594619,  0.04956851, -0.02383483,  0.        , -0.        ,\n",
       "         3.42982188, -0.00537686, -1.10812559,  0.28184061, -0.01516318,\n",
       "        -0.77946226,  0.01017225, -0.59268149]),\n",
       " array([-0.09586636,  0.04957166, -0.0237277 ,  0.        , -0.        ,\n",
       "         3.42386803, -0.00529817, -1.10691995,  0.28181748, -0.01516524,\n",
       "        -0.7793294 ,  0.01016763, -0.59311171]),\n",
       " array([-0.09578653,  0.04957481, -0.02362057,  0.        , -0.        ,\n",
       "         3.41791424, -0.00521949, -1.1057143 ,  0.28179431, -0.01516729,\n",
       "        -0.77919654,  0.01016301, -0.59354194]),\n",
       " array([-0.0957067 ,  0.04957796, -0.02351345,  0.        , -0.        ,\n",
       "         3.41196044, -0.00514081, -1.10450865,  0.28177114, -0.01516935,\n",
       "        -0.77906368,  0.01015839, -0.59397216]),\n",
       " array([-0.09562686,  0.04958111, -0.02340633,  0.        , -0.        ,\n",
       "         3.40600664, -0.00506212, -1.10330301,  0.28174797, -0.0151714 ,\n",
       "        -0.77893082,  0.01015377, -0.59440239])]"
      ]
     },
     "execution_count": 20,
     "metadata": {},
     "output_type": "execute_result"
    }
   ],
   "source": [
    "coefs"
   ]
  },
  {
   "cell_type": "code",
   "execution_count": 21,
   "metadata": {},
   "outputs": [
    {
     "data": {
      "image/png": "[encoded data removed]",
      "text/plain": [
       "<Figure size 432x288 with 1 Axes>"
      ]
     },
     "metadata": {
      "needs_background": "light"
     },
     "output_type": "display_data"
    }
   ],
   "source": [
    "plt.plot(coefs)\n",
    "plt.show()"
   ]
  },
  {
   "cell_type": "markdown",
   "metadata": {},
   "source": [
    "The figure above illustrate the behavior of Lasso Regulariztion. It shows that as we increase alpha, it is setting more and more coefficients to zero."
   ]
  },
  {
   "cell_type": "markdown",
   "metadata": {},
   "source": [
    "To determine the right alpha for us, for that we'll do Hyper Parameter tuning."
   ]
  },
  {
   "cell_type": "markdown",
   "metadata": {},
   "source": [
    "### Hyper Parameter tuning to find the best alpha(penalty term) for this data"
   ]
  },
  {
   "cell_type": "code",
   "execution_count": 24,
   "metadata": {},
   "outputs": [
    {
     "data": {
      "text/plain": [
       "LassoCV(alphas=array([0.1       , 0.10909091, 0.11818182, 0.12727273, 0.13636364,\n",
       "       0.14545455, 0.15454545, 0.16363636, 0.17272727, 0.18181818,\n",
       "       0.19090909, 0.2       , 0.20909091, 0.21818182, 0.22727273,\n",
       "       0.23636364, 0.24545455, 0.25454545, 0.26363636, 0.27272727,\n",
       "       0.28181818, 0.29090909, 0.3       , 0.30909091, 0.31818182,\n",
       "       0.32727273, 0.33636364, 0.34545455, 0.35454545, 0.36363636,\n",
       "       0.37272727, 0.381818...\n",
       "       0.82727273, 0.83636364, 0.84545455, 0.85454545, 0.86363636,\n",
       "       0.87272727, 0.88181818, 0.89090909, 0.9       , 0.90909091,\n",
       "       0.91818182, 0.92727273, 0.93636364, 0.94545455, 0.95454545,\n",
       "       0.96363636, 0.97272727, 0.98181818, 0.99090909, 1.        ]),\n",
       "        copy_X=True, cv=3, eps=0.001, fit_intercept=True, max_iter=1000,\n",
       "        n_alphas=100, n_jobs=None, normalize=False, positive=False,\n",
       "        precompute='auto', random_state=3, selection='cyclic', tol=0.0001,\n",
       "        verbose=False)"
      ]
     },
     "execution_count": 24,
     "metadata": {},
     "output_type": "execute_result"
    }
   ],
   "source": [
    "alphas = np.linspace(0.1, 1, 100)\n",
    "\n",
    "lasso_cv = LassoCV(alphas=alphas, cv=3, random_state=3)\n",
    "lasso_cv.fit(X, y)"
   ]
  },
  {
   "cell_type": "code",
   "execution_count": 27,
   "metadata": {},
   "outputs": [
    {
     "data": {
      "text/plain": [
       "0.1"
      ]
     },
     "execution_count": 27,
     "metadata": {},
     "output_type": "execute_result"
    }
   ],
   "source": [
    "lasso_cv.alpha_  # To determine the best alpha"
   ]
  },
  {
   "cell_type": "markdown",
   "metadata": {},
   "source": [
    "Lasso CV chose 0.1 as the best alpha (lowest in the range). Such a low value of alpha suggest that Lasso Regularization is not required for this model."
   ]
  },
  {
   "cell_type": "code",
   "execution_count": 28,
   "metadata": {},
   "outputs": [],
   "source": [
    "# So we'll make our model complex\n",
    "\n",
    "X['CRIM2'] = np.square(X['CRIM'])\n",
    "X['CRIM3'] = (X['CRIM']**3)\n",
    "X['CRIM4'] = (X['CRIM']**4)\n",
    "\n",
    "X['AGE2'] = np.square(X['AGE'])\n",
    "X['AGE3'] = (X['AGE']**3)\n",
    "X['AGE4'] = (X['AGE']**4)"
   ]
  },
  {
   "cell_type": "code",
   "execution_count": 29,
   "metadata": {},
   "outputs": [
    {
     "name": "stderr",
     "output_type": "stream",
     "text": [
      "C:\\Users\\satyam\\Anaconda3\\lib\\site-packages\\sklearn\\linear_model\\coordinate_descent.py:471: ConvergenceWarning: Objective did not converge. You might want to increase the number of iterations. Duality gap: 5271.604019768071, tolerance: 2.905135560830861\n",
      "  tol, rng, random, positive)\n",
      "C:\\Users\\satyam\\Anaconda3\\lib\\site-packages\\sklearn\\linear_model\\coordinate_descent.py:471: ConvergenceWarning: Objective did not converge. You might want to increase the number of iterations. Duality gap: 3160.6189504752774, tolerance: 2.905135560830861\n",
      "  tol, rng, random, positive)\n",
      "C:\\Users\\satyam\\Anaconda3\\lib\\site-packages\\sklearn\\linear_model\\coordinate_descent.py:471: ConvergenceWarning: Objective did not converge. You might want to increase the number of iterations. Duality gap: 476.73650804164026, tolerance: 2.905135560830861\n",
      "  tol, rng, random, positive)\n",
      "C:\\Users\\satyam\\Anaconda3\\lib\\site-packages\\sklearn\\linear_model\\coordinate_descent.py:471: ConvergenceWarning: Objective did not converge. You might want to increase the number of iterations. Duality gap: 212.0676929879637, tolerance: 2.905135560830861\n",
      "  tol, rng, random, positive)\n",
      "C:\\Users\\satyam\\Anaconda3\\lib\\site-packages\\sklearn\\linear_model\\coordinate_descent.py:471: ConvergenceWarning: Objective did not converge. You might want to increase the number of iterations. Duality gap: 199.1545281320814, tolerance: 2.905135560830861\n",
      "  tol, rng, random, positive)\n",
      "C:\\Users\\satyam\\Anaconda3\\lib\\site-packages\\sklearn\\linear_model\\coordinate_descent.py:471: ConvergenceWarning: Objective did not converge. You might want to increase the number of iterations. Duality gap: 200.68422084223857, tolerance: 2.905135560830861\n",
      "  tol, rng, random, positive)\n",
      "C:\\Users\\satyam\\Anaconda3\\lib\\site-packages\\sklearn\\linear_model\\coordinate_descent.py:471: ConvergenceWarning: Objective did not converge. You might want to increase the number of iterations. Duality gap: 203.12325498874088, tolerance: 2.905135560830861\n",
      "  tol, rng, random, positive)\n",
      "C:\\Users\\satyam\\Anaconda3\\lib\\site-packages\\sklearn\\linear_model\\coordinate_descent.py:471: ConvergenceWarning: Objective did not converge. You might want to increase the number of iterations. Duality gap: 205.63923104167316, tolerance: 2.905135560830861\n",
      "  tol, rng, random, positive)\n",
      "C:\\Users\\satyam\\Anaconda3\\lib\\site-packages\\sklearn\\linear_model\\coordinate_descent.py:471: ConvergenceWarning: Objective did not converge. You might want to increase the number of iterations. Duality gap: 208.18096191370933, tolerance: 2.905135560830861\n",
      "  tol, rng, random, positive)\n",
      "C:\\Users\\satyam\\Anaconda3\\lib\\site-packages\\sklearn\\linear_model\\coordinate_descent.py:471: ConvergenceWarning: Objective did not converge. You might want to increase the number of iterations. Duality gap: 210.7461890102586, tolerance: 2.905135560830861\n",
      "  tol, rng, random, positive)\n",
      "C:\\Users\\satyam\\Anaconda3\\lib\\site-packages\\sklearn\\linear_model\\coordinate_descent.py:471: ConvergenceWarning: Objective did not converge. You might want to increase the number of iterations. Duality gap: 213.33560723055598, tolerance: 2.905135560830861\n",
      "  tol, rng, random, positive)\n",
      "C:\\Users\\satyam\\Anaconda3\\lib\\site-packages\\sklearn\\linear_model\\coordinate_descent.py:471: ConvergenceWarning: Objective did not converge. You might want to increase the number of iterations. Duality gap: 215.95005727127864, tolerance: 2.905135560830861\n",
      "  tol, rng, random, positive)\n",
      "C:\\Users\\satyam\\Anaconda3\\lib\\site-packages\\sklearn\\linear_model\\coordinate_descent.py:471: ConvergenceWarning: Objective did not converge. You might want to increase the number of iterations. Duality gap: 218.59046348528045, tolerance: 2.905135560830861\n",
      "  tol, rng, random, positive)\n",
      "C:\\Users\\satyam\\Anaconda3\\lib\\site-packages\\sklearn\\linear_model\\coordinate_descent.py:471: ConvergenceWarning: Objective did not converge. You might want to increase the number of iterations. Duality gap: 221.25792453111535, tolerance: 2.905135560830861\n",
      "  tol, rng, random, positive)\n",
      "C:\\Users\\satyam\\Anaconda3\\lib\\site-packages\\sklearn\\linear_model\\coordinate_descent.py:471: ConvergenceWarning: Objective did not converge. You might want to increase the number of iterations. Duality gap: 223.95348463723167, tolerance: 2.905135560830861\n",
      "  tol, rng, random, positive)\n",
      "C:\\Users\\satyam\\Anaconda3\\lib\\site-packages\\sklearn\\linear_model\\coordinate_descent.py:471: ConvergenceWarning: Objective did not converge. You might want to increase the number of iterations. Duality gap: 226.6781627995615, tolerance: 2.905135560830861\n",
      "  tol, rng, random, positive)\n",
      "C:\\Users\\satyam\\Anaconda3\\lib\\site-packages\\sklearn\\linear_model\\coordinate_descent.py:471: ConvergenceWarning: Objective did not converge. You might want to increase the number of iterations. Duality gap: 229.43311617084146, tolerance: 2.905135560830861\n",
      "  tol, rng, random, positive)\n",
      "C:\\Users\\satyam\\Anaconda3\\lib\\site-packages\\sklearn\\linear_model\\coordinate_descent.py:471: ConvergenceWarning: Objective did not converge. You might want to increase the number of iterations. Duality gap: 232.2196004578691, tolerance: 2.905135560830861\n",
      "  tol, rng, random, positive)\n",
      "C:\\Users\\satyam\\Anaconda3\\lib\\site-packages\\sklearn\\linear_model\\coordinate_descent.py:471: ConvergenceWarning: Objective did not converge. You might want to increase the number of iterations. Duality gap: 235.0387985178686, tolerance: 2.905135560830861\n",
      "  tol, rng, random, positive)\n",
      "C:\\Users\\satyam\\Anaconda3\\lib\\site-packages\\sklearn\\linear_model\\coordinate_descent.py:471: ConvergenceWarning: Objective did not converge. You might want to increase the number of iterations. Duality gap: 237.89206626803207, tolerance: 2.905135560830861\n",
      "  tol, rng, random, positive)\n",
      "C:\\Users\\satyam\\Anaconda3\\lib\\site-packages\\sklearn\\linear_model\\coordinate_descent.py:471: ConvergenceWarning: Objective did not converge. You might want to increase the number of iterations. Duality gap: 240.78083147283724, tolerance: 2.905135560830861\n",
      "  tol, rng, random, positive)\n",
      "C:\\Users\\satyam\\Anaconda3\\lib\\site-packages\\sklearn\\linear_model\\coordinate_descent.py:471: ConvergenceWarning: Objective did not converge. You might want to increase the number of iterations. Duality gap: 243.70649017828873, tolerance: 2.905135560830861\n",
      "  tol, rng, random, positive)\n",
      "C:\\Users\\satyam\\Anaconda3\\lib\\site-packages\\sklearn\\linear_model\\coordinate_descent.py:471: ConvergenceWarning: Objective did not converge. You might want to increase the number of iterations. Duality gap: 246.6706070190985, tolerance: 2.905135560830861\n",
      "  tol, rng, random, positive)\n",
      "C:\\Users\\satyam\\Anaconda3\\lib\\site-packages\\sklearn\\linear_model\\coordinate_descent.py:471: ConvergenceWarning: Objective did not converge. You might want to increase the number of iterations. Duality gap: 249.67477042930932, tolerance: 2.905135560830861\n",
      "  tol, rng, random, positive)\n",
      "C:\\Users\\satyam\\Anaconda3\\lib\\site-packages\\sklearn\\linear_model\\coordinate_descent.py:471: ConvergenceWarning: Objective did not converge. You might want to increase the number of iterations. Duality gap: 252.72071685477567, tolerance: 2.905135560830861\n",
      "  tol, rng, random, positive)\n",
      "C:\\Users\\satyam\\Anaconda3\\lib\\site-packages\\sklearn\\linear_model\\coordinate_descent.py:471: ConvergenceWarning: Objective did not converge. You might want to increase the number of iterations. Duality gap: 255.8101811121087, tolerance: 2.905135560830861\n",
      "  tol, rng, random, positive)\n",
      "C:\\Users\\satyam\\Anaconda3\\lib\\site-packages\\sklearn\\linear_model\\coordinate_descent.py:471: ConvergenceWarning: Objective did not converge. You might want to increase the number of iterations. Duality gap: 258.9450516404595, tolerance: 2.905135560830861\n",
      "  tol, rng, random, positive)\n",
      "C:\\Users\\satyam\\Anaconda3\\lib\\site-packages\\sklearn\\linear_model\\coordinate_descent.py:471: ConvergenceWarning: Objective did not converge. You might want to increase the number of iterations. Duality gap: 262.12729570726424, tolerance: 2.905135560830861\n",
      "  tol, rng, random, positive)\n",
      "C:\\Users\\satyam\\Anaconda3\\lib\\site-packages\\sklearn\\linear_model\\coordinate_descent.py:471: ConvergenceWarning: Objective did not converge. You might want to increase the number of iterations. Duality gap: 265.35889692869296, tolerance: 2.905135560830861\n",
      "  tol, rng, random, positive)\n",
      "C:\\Users\\satyam\\Anaconda3\\lib\\site-packages\\sklearn\\linear_model\\coordinate_descent.py:471: ConvergenceWarning: Objective did not converge. You might want to increase the number of iterations. Duality gap: 268.64216747656064, tolerance: 2.905135560830861\n",
      "  tol, rng, random, positive)\n",
      "C:\\Users\\satyam\\Anaconda3\\lib\\site-packages\\sklearn\\linear_model\\coordinate_descent.py:471: ConvergenceWarning: Objective did not converge. You might want to increase the number of iterations. Duality gap: 271.9793903279369, tolerance: 2.905135560830861\n",
      "  tol, rng, random, positive)\n",
      "C:\\Users\\satyam\\Anaconda3\\lib\\site-packages\\sklearn\\linear_model\\coordinate_descent.py:471: ConvergenceWarning: Objective did not converge. You might want to increase the number of iterations. Duality gap: 275.3729175292319, tolerance: 2.905135560830861\n",
      "  tol, rng, random, positive)\n",
      "C:\\Users\\satyam\\Anaconda3\\lib\\site-packages\\sklearn\\linear_model\\coordinate_descent.py:471: ConvergenceWarning: Objective did not converge. You might want to increase the number of iterations. Duality gap: 278.8253142562471, tolerance: 2.905135560830861\n",
      "  tol, rng, random, positive)\n"
     ]
    },
    {
     "name": "stderr",
     "output_type": "stream",
     "text": [
      "C:\\Users\\satyam\\Anaconda3\\lib\\site-packages\\sklearn\\linear_model\\coordinate_descent.py:471: ConvergenceWarning: Objective did not converge. You might want to increase the number of iterations. Duality gap: 282.3394477693946, tolerance: 2.905135560830861\n",
      "  tol, rng, random, positive)\n",
      "C:\\Users\\satyam\\Anaconda3\\lib\\site-packages\\sklearn\\linear_model\\coordinate_descent.py:471: ConvergenceWarning: Objective did not converge. You might want to increase the number of iterations. Duality gap: 285.9180134729977, tolerance: 2.905135560830861\n",
      "  tol, rng, random, positive)\n",
      "C:\\Users\\satyam\\Anaconda3\\lib\\site-packages\\sklearn\\linear_model\\coordinate_descent.py:471: ConvergenceWarning: Objective did not converge. You might want to increase the number of iterations. Duality gap: 289.56411320872576, tolerance: 2.905135560830861\n",
      "  tol, rng, random, positive)\n",
      "C:\\Users\\satyam\\Anaconda3\\lib\\site-packages\\sklearn\\linear_model\\coordinate_descent.py:471: ConvergenceWarning: Objective did not converge. You might want to increase the number of iterations. Duality gap: 293.2808855457606, tolerance: 2.905135560830861\n",
      "  tol, rng, random, positive)\n",
      "C:\\Users\\satyam\\Anaconda3\\lib\\site-packages\\sklearn\\linear_model\\coordinate_descent.py:471: ConvergenceWarning: Objective did not converge. You might want to increase the number of iterations. Duality gap: 297.0717900337613, tolerance: 2.905135560830861\n",
      "  tol, rng, random, positive)\n",
      "C:\\Users\\satyam\\Anaconda3\\lib\\site-packages\\sklearn\\linear_model\\coordinate_descent.py:471: ConvergenceWarning: Objective did not converge. You might want to increase the number of iterations. Duality gap: 300.9404313388186, tolerance: 2.905135560830861\n",
      "  tol, rng, random, positive)\n",
      "C:\\Users\\satyam\\Anaconda3\\lib\\site-packages\\sklearn\\linear_model\\coordinate_descent.py:471: ConvergenceWarning: Objective did not converge. You might want to increase the number of iterations. Duality gap: 304.89052973779417, tolerance: 2.905135560830861\n",
      "  tol, rng, random, positive)\n",
      "C:\\Users\\satyam\\Anaconda3\\lib\\site-packages\\sklearn\\linear_model\\coordinate_descent.py:471: ConvergenceWarning: Objective did not converge. You might want to increase the number of iterations. Duality gap: 308.9260787957455, tolerance: 2.905135560830861\n",
      "  tol, rng, random, positive)\n",
      "C:\\Users\\satyam\\Anaconda3\\lib\\site-packages\\sklearn\\linear_model\\coordinate_descent.py:471: ConvergenceWarning: Objective did not converge. You might want to increase the number of iterations. Duality gap: 313.051527671656, tolerance: 2.905135560830861\n",
      "  tol, rng, random, positive)\n",
      "C:\\Users\\satyam\\Anaconda3\\lib\\site-packages\\sklearn\\linear_model\\coordinate_descent.py:471: ConvergenceWarning: Objective did not converge. You might want to increase the number of iterations. Duality gap: 317.27130478368235, tolerance: 2.905135560830861\n",
      "  tol, rng, random, positive)\n",
      "C:\\Users\\satyam\\Anaconda3\\lib\\site-packages\\sklearn\\linear_model\\coordinate_descent.py:471: ConvergenceWarning: Objective did not converge. You might want to increase the number of iterations. Duality gap: 321.59022921755604, tolerance: 2.905135560830861\n",
      "  tol, rng, random, positive)\n",
      "C:\\Users\\satyam\\Anaconda3\\lib\\site-packages\\sklearn\\linear_model\\coordinate_descent.py:471: ConvergenceWarning: Objective did not converge. You might want to increase the number of iterations. Duality gap: 326.01342524982647, tolerance: 2.905135560830861\n",
      "  tol, rng, random, positive)\n",
      "C:\\Users\\satyam\\Anaconda3\\lib\\site-packages\\sklearn\\linear_model\\coordinate_descent.py:471: ConvergenceWarning: Objective did not converge. You might want to increase the number of iterations. Duality gap: 330.546308920756, tolerance: 2.905135560830861\n",
      "  tol, rng, random, positive)\n",
      "C:\\Users\\satyam\\Anaconda3\\lib\\site-packages\\sklearn\\linear_model\\coordinate_descent.py:471: ConvergenceWarning: Objective did not converge. You might want to increase the number of iterations. Duality gap: 335.19490036314346, tolerance: 2.905135560830861\n",
      "  tol, rng, random, positive)\n",
      "C:\\Users\\satyam\\Anaconda3\\lib\\site-packages\\sklearn\\linear_model\\coordinate_descent.py:471: ConvergenceWarning: Objective did not converge. You might want to increase the number of iterations. Duality gap: 339.96533534951595, tolerance: 2.905135560830861\n",
      "  tol, rng, random, positive)\n",
      "C:\\Users\\satyam\\Anaconda3\\lib\\site-packages\\sklearn\\linear_model\\coordinate_descent.py:471: ConvergenceWarning: Objective did not converge. You might want to increase the number of iterations. Duality gap: 344.8639930681875, tolerance: 2.905135560830861\n",
      "  tol, rng, random, positive)\n",
      "C:\\Users\\satyam\\Anaconda3\\lib\\site-packages\\sklearn\\linear_model\\coordinate_descent.py:471: ConvergenceWarning: Objective did not converge. You might want to increase the number of iterations. Duality gap: 349.89816417148177, tolerance: 2.905135560830861\n",
      "  tol, rng, random, positive)\n",
      "C:\\Users\\satyam\\Anaconda3\\lib\\site-packages\\sklearn\\linear_model\\coordinate_descent.py:471: ConvergenceWarning: Objective did not converge. You might want to increase the number of iterations. Duality gap: 355.075360775003, tolerance: 2.905135560830861\n",
      "  tol, rng, random, positive)\n",
      "C:\\Users\\satyam\\Anaconda3\\lib\\site-packages\\sklearn\\linear_model\\coordinate_descent.py:471: ConvergenceWarning: Objective did not converge. You might want to increase the number of iterations. Duality gap: 360.40358892301083, tolerance: 2.905135560830861\n",
      "  tol, rng, random, positive)\n",
      "C:\\Users\\satyam\\Anaconda3\\lib\\site-packages\\sklearn\\linear_model\\coordinate_descent.py:471: ConvergenceWarning: Objective did not converge. You might want to increase the number of iterations. Duality gap: 365.89143473393597, tolerance: 2.905135560830861\n",
      "  tol, rng, random, positive)\n",
      "C:\\Users\\satyam\\Anaconda3\\lib\\site-packages\\sklearn\\linear_model\\coordinate_descent.py:471: ConvergenceWarning: Objective did not converge. You might want to increase the number of iterations. Duality gap: 371.54816521108114, tolerance: 2.905135560830861\n",
      "  tol, rng, random, positive)\n",
      "C:\\Users\\satyam\\Anaconda3\\lib\\site-packages\\sklearn\\linear_model\\coordinate_descent.py:471: ConvergenceWarning: Objective did not converge. You might want to increase the number of iterations. Duality gap: 377.3838211015445, tolerance: 2.905135560830861\n",
      "  tol, rng, random, positive)\n",
      "C:\\Users\\satyam\\Anaconda3\\lib\\site-packages\\sklearn\\linear_model\\coordinate_descent.py:471: ConvergenceWarning: Objective did not converge. You might want to increase the number of iterations. Duality gap: 383.4086931415841, tolerance: 2.905135560830861\n",
      "  tol, rng, random, positive)\n",
      "C:\\Users\\satyam\\Anaconda3\\lib\\site-packages\\sklearn\\linear_model\\coordinate_descent.py:471: ConvergenceWarning: Objective did not converge. You might want to increase the number of iterations. Duality gap: 389.63438539972503, tolerance: 2.905135560830861\n",
      "  tol, rng, random, positive)\n",
      "C:\\Users\\satyam\\Anaconda3\\lib\\site-packages\\sklearn\\linear_model\\coordinate_descent.py:471: ConvergenceWarning: Objective did not converge. You might want to increase the number of iterations. Duality gap: 396.0732820955136, tolerance: 2.905135560830861\n",
      "  tol, rng, random, positive)\n",
      "C:\\Users\\satyam\\Anaconda3\\lib\\site-packages\\sklearn\\linear_model\\coordinate_descent.py:471: ConvergenceWarning: Objective did not converge. You might want to increase the number of iterations. Duality gap: 402.7382062517545, tolerance: 2.905135560830861\n",
      "  tol, rng, random, positive)\n",
      "C:\\Users\\satyam\\Anaconda3\\lib\\site-packages\\sklearn\\linear_model\\coordinate_descent.py:471: ConvergenceWarning: Objective did not converge. You might want to increase the number of iterations. Duality gap: 409.64377499033435, tolerance: 2.905135560830861\n",
      "  tol, rng, random, positive)\n",
      "C:\\Users\\satyam\\Anaconda3\\lib\\site-packages\\sklearn\\linear_model\\coordinate_descent.py:471: ConvergenceWarning: Objective did not converge. You might want to increase the number of iterations. Duality gap: 416.80510358321226, tolerance: 2.905135560830861\n",
      "  tol, rng, random, positive)\n",
      "C:\\Users\\satyam\\Anaconda3\\lib\\site-packages\\sklearn\\linear_model\\coordinate_descent.py:471: ConvergenceWarning: Objective did not converge. You might want to increase the number of iterations. Duality gap: 424.2386196516827, tolerance: 2.905135560830861\n",
      "  tol, rng, random, positive)\n",
      "C:\\Users\\satyam\\Anaconda3\\lib\\site-packages\\sklearn\\linear_model\\coordinate_descent.py:471: ConvergenceWarning: Objective did not converge. You might want to increase the number of iterations. Duality gap: 431.9624015845966, tolerance: 2.905135560830861\n",
      "  tol, rng, random, positive)\n",
      "C:\\Users\\satyam\\Anaconda3\\lib\\site-packages\\sklearn\\linear_model\\coordinate_descent.py:471: ConvergenceWarning: Objective did not converge. You might want to increase the number of iterations. Duality gap: 439.995765229296, tolerance: 2.905135560830861\n",
      "  tol, rng, random, positive)\n",
      "C:\\Users\\satyam\\Anaconda3\\lib\\site-packages\\sklearn\\linear_model\\coordinate_descent.py:471: ConvergenceWarning: Objective did not converge. You might want to increase the number of iterations. Duality gap: 448.35941473786716, tolerance: 2.905135560830861\n",
      "  tol, rng, random, positive)\n"
     ]
    },
    {
     "name": "stderr",
     "output_type": "stream",
     "text": [
      "C:\\Users\\satyam\\Anaconda3\\lib\\site-packages\\sklearn\\linear_model\\coordinate_descent.py:471: ConvergenceWarning: Objective did not converge. You might want to increase the number of iterations. Duality gap: 457.0763383577705, tolerance: 2.905135560830861\n",
      "  tol, rng, random, positive)\n",
      "C:\\Users\\satyam\\Anaconda3\\lib\\site-packages\\sklearn\\linear_model\\coordinate_descent.py:471: ConvergenceWarning: Objective did not converge. You might want to increase the number of iterations. Duality gap: 466.17117026586675, tolerance: 2.905135560830861\n",
      "  tol, rng, random, positive)\n",
      "C:\\Users\\satyam\\Anaconda3\\lib\\site-packages\\sklearn\\linear_model\\coordinate_descent.py:471: ConvergenceWarning: Objective did not converge. You might want to increase the number of iterations. Duality gap: 475.67068342811217, tolerance: 2.905135560830861\n",
      "  tol, rng, random, positive)\n",
      "C:\\Users\\satyam\\Anaconda3\\lib\\site-packages\\sklearn\\linear_model\\coordinate_descent.py:471: ConvergenceWarning: Objective did not converge. You might want to increase the number of iterations. Duality gap: 485.60414797735484, tolerance: 2.905135560830861\n",
      "  tol, rng, random, positive)\n",
      "C:\\Users\\satyam\\Anaconda3\\lib\\site-packages\\sklearn\\linear_model\\coordinate_descent.py:471: ConvergenceWarning: Objective did not converge. You might want to increase the number of iterations. Duality gap: 489.1284714675212, tolerance: 2.905135560830861\n",
      "  tol, rng, random, positive)\n",
      "C:\\Users\\satyam\\Anaconda3\\lib\\site-packages\\sklearn\\linear_model\\coordinate_descent.py:471: ConvergenceWarning: Objective did not converge. You might want to increase the number of iterations. Duality gap: 3063.7134853200077, tolerance: 2.905135560830861\n",
      "  tol, rng, random, positive)\n",
      "C:\\Users\\satyam\\Anaconda3\\lib\\site-packages\\sklearn\\linear_model\\coordinate_descent.py:471: ConvergenceWarning: Objective did not converge. You might want to increase the number of iterations. Duality gap: 3415.273298040513, tolerance: 2.905135560830861\n",
      "  tol, rng, random, positive)\n",
      "C:\\Users\\satyam\\Anaconda3\\lib\\site-packages\\sklearn\\linear_model\\coordinate_descent.py:471: ConvergenceWarning: Objective did not converge. You might want to increase the number of iterations. Duality gap: 3469.002633618387, tolerance: 2.905135560830861\n",
      "  tol, rng, random, positive)\n",
      "C:\\Users\\satyam\\Anaconda3\\lib\\site-packages\\sklearn\\linear_model\\coordinate_descent.py:471: ConvergenceWarning: Objective did not converge. You might want to increase the number of iterations. Duality gap: 3485.5121846926527, tolerance: 2.905135560830861\n",
      "  tol, rng, random, positive)\n",
      "C:\\Users\\satyam\\Anaconda3\\lib\\site-packages\\sklearn\\linear_model\\coordinate_descent.py:471: ConvergenceWarning: Objective did not converge. You might want to increase the number of iterations. Duality gap: 3496.6778388689154, tolerance: 2.905135560830861\n",
      "  tol, rng, random, positive)\n",
      "C:\\Users\\satyam\\Anaconda3\\lib\\site-packages\\sklearn\\linear_model\\coordinate_descent.py:471: ConvergenceWarning: Objective did not converge. You might want to increase the number of iterations. Duality gap: 3507.003699887573, tolerance: 2.905135560830861\n",
      "  tol, rng, random, positive)\n",
      "C:\\Users\\satyam\\Anaconda3\\lib\\site-packages\\sklearn\\linear_model\\coordinate_descent.py:471: ConvergenceWarning: Objective did not converge. You might want to increase the number of iterations. Duality gap: 3517.1224706767925, tolerance: 2.905135560830861\n",
      "  tol, rng, random, positive)\n",
      "C:\\Users\\satyam\\Anaconda3\\lib\\site-packages\\sklearn\\linear_model\\coordinate_descent.py:471: ConvergenceWarning: Objective did not converge. You might want to increase the number of iterations. Duality gap: 3527.1222034646103, tolerance: 2.905135560830861\n",
      "  tol, rng, random, positive)\n",
      "C:\\Users\\satyam\\Anaconda3\\lib\\site-packages\\sklearn\\linear_model\\coordinate_descent.py:471: ConvergenceWarning: Objective did not converge. You might want to increase the number of iterations. Duality gap: 3537.0169397368777, tolerance: 2.905135560830861\n",
      "  tol, rng, random, positive)\n",
      "C:\\Users\\satyam\\Anaconda3\\lib\\site-packages\\sklearn\\linear_model\\coordinate_descent.py:471: ConvergenceWarning: Objective did not converge. You might want to increase the number of iterations. Duality gap: 3179.0249290665133, tolerance: 2.905135560830861\n",
      "  tol, rng, random, positive)\n",
      "C:\\Users\\satyam\\Anaconda3\\lib\\site-packages\\sklearn\\linear_model\\coordinate_descent.py:471: ConvergenceWarning: Objective did not converge. You might want to increase the number of iterations. Duality gap: 1502.012149280682, tolerance: 2.905135560830861\n",
      "  tol, rng, random, positive)\n",
      "C:\\Users\\satyam\\Anaconda3\\lib\\site-packages\\sklearn\\linear_model\\coordinate_descent.py:471: ConvergenceWarning: Objective did not converge. You might want to increase the number of iterations. Duality gap: 1266.185491892813, tolerance: 2.905135560830861\n",
      "  tol, rng, random, positive)\n",
      "C:\\Users\\satyam\\Anaconda3\\lib\\site-packages\\sklearn\\linear_model\\coordinate_descent.py:471: ConvergenceWarning: Objective did not converge. You might want to increase the number of iterations. Duality gap: 3156.281442756575, tolerance: 2.905135560830861\n",
      "  tol, rng, random, positive)\n",
      "C:\\Users\\satyam\\Anaconda3\\lib\\site-packages\\sklearn\\linear_model\\coordinate_descent.py:471: ConvergenceWarning: Objective did not converge. You might want to increase the number of iterations. Duality gap: 3585.394296930261, tolerance: 2.905135560830861\n",
      "  tol, rng, random, positive)\n",
      "C:\\Users\\satyam\\Anaconda3\\lib\\site-packages\\sklearn\\linear_model\\coordinate_descent.py:471: ConvergenceWarning: Objective did not converge. You might want to increase the number of iterations. Duality gap: 3582.6854092829644, tolerance: 2.905135560830861\n",
      "  tol, rng, random, positive)\n",
      "C:\\Users\\satyam\\Anaconda3\\lib\\site-packages\\sklearn\\linear_model\\coordinate_descent.py:471: ConvergenceWarning: Objective did not converge. You might want to increase the number of iterations. Duality gap: 3522.781895449715, tolerance: 2.905135560830861\n",
      "  tol, rng, random, positive)\n",
      "C:\\Users\\satyam\\Anaconda3\\lib\\site-packages\\sklearn\\linear_model\\coordinate_descent.py:471: ConvergenceWarning: Objective did not converge. You might want to increase the number of iterations. Duality gap: 3528.836905927118, tolerance: 2.905135560830861\n",
      "  tol, rng, random, positive)\n",
      "C:\\Users\\satyam\\Anaconda3\\lib\\site-packages\\sklearn\\linear_model\\coordinate_descent.py:471: ConvergenceWarning: Objective did not converge. You might want to increase the number of iterations. Duality gap: 3512.3654981099567, tolerance: 2.905135560830861\n",
      "  tol, rng, random, positive)\n",
      "C:\\Users\\satyam\\Anaconda3\\lib\\site-packages\\sklearn\\linear_model\\coordinate_descent.py:471: ConvergenceWarning: Objective did not converge. You might want to increase the number of iterations. Duality gap: 3547.0178486315667, tolerance: 2.905135560830861\n",
      "  tol, rng, random, positive)\n",
      "C:\\Users\\satyam\\Anaconda3\\lib\\site-packages\\sklearn\\linear_model\\coordinate_descent.py:471: ConvergenceWarning: Objective did not converge. You might want to increase the number of iterations. Duality gap: 3562.3948147981387, tolerance: 2.905135560830861\n",
      "  tol, rng, random, positive)\n",
      "C:\\Users\\satyam\\Anaconda3\\lib\\site-packages\\sklearn\\linear_model\\coordinate_descent.py:471: ConvergenceWarning: Objective did not converge. You might want to increase the number of iterations. Duality gap: 3573.349671996873, tolerance: 2.905135560830861\n",
      "  tol, rng, random, positive)\n",
      "C:\\Users\\satyam\\Anaconda3\\lib\\site-packages\\sklearn\\linear_model\\coordinate_descent.py:471: ConvergenceWarning: Objective did not converge. You might want to increase the number of iterations. Duality gap: 3583.0827645346476, tolerance: 2.905135560830861\n",
      "  tol, rng, random, positive)\n",
      "C:\\Users\\satyam\\Anaconda3\\lib\\site-packages\\sklearn\\linear_model\\coordinate_descent.py:471: ConvergenceWarning: Objective did not converge. You might want to increase the number of iterations. Duality gap: 3592.4513231637284, tolerance: 2.905135560830861\n",
      "  tol, rng, random, positive)\n",
      "C:\\Users\\satyam\\Anaconda3\\lib\\site-packages\\sklearn\\linear_model\\coordinate_descent.py:471: ConvergenceWarning: Objective did not converge. You might want to increase the number of iterations. Duality gap: 3601.230816672989, tolerance: 2.905135560830861\n",
      "  tol, rng, random, positive)\n",
      "C:\\Users\\satyam\\Anaconda3\\lib\\site-packages\\sklearn\\linear_model\\coordinate_descent.py:471: ConvergenceWarning: Objective did not converge. You might want to increase the number of iterations. Duality gap: 3609.4946891661148, tolerance: 2.905135560830861\n",
      "  tol, rng, random, positive)\n",
      "C:\\Users\\satyam\\Anaconda3\\lib\\site-packages\\sklearn\\linear_model\\coordinate_descent.py:471: ConvergenceWarning: Objective did not converge. You might want to increase the number of iterations. Duality gap: 3617.260724483317, tolerance: 2.905135560830861\n",
      "  tol, rng, random, positive)\n",
      "C:\\Users\\satyam\\Anaconda3\\lib\\site-packages\\sklearn\\linear_model\\coordinate_descent.py:471: ConvergenceWarning: Objective did not converge. You might want to increase the number of iterations. Duality gap: 3624.53280478984, tolerance: 2.905135560830861\n",
      "  tol, rng, random, positive)\n",
      "C:\\Users\\satyam\\Anaconda3\\lib\\site-packages\\sklearn\\linear_model\\coordinate_descent.py:471: ConvergenceWarning: Objective did not converge. You might want to increase the number of iterations. Duality gap: 3631.2710690504928, tolerance: 2.905135560830861\n",
      "  tol, rng, random, positive)\n"
     ]
    },
    {
     "name": "stderr",
     "output_type": "stream",
     "text": [
      "C:\\Users\\satyam\\Anaconda3\\lib\\site-packages\\sklearn\\linear_model\\coordinate_descent.py:471: ConvergenceWarning: Objective did not converge. You might want to increase the number of iterations. Duality gap: 3962.905819279302, tolerance: 2.905135560830861\n",
      "  tol, rng, random, positive)\n",
      "C:\\Users\\satyam\\Anaconda3\\lib\\site-packages\\sklearn\\linear_model\\coordinate_descent.py:471: ConvergenceWarning: Objective did not converge. You might want to increase the number of iterations. Duality gap: 3982.9374165086233, tolerance: 2.905135560830861\n",
      "  tol, rng, random, positive)\n",
      "C:\\Users\\satyam\\Anaconda3\\lib\\site-packages\\sklearn\\linear_model\\coordinate_descent.py:471: ConvergenceWarning: Objective did not converge. You might want to increase the number of iterations. Duality gap: 5497.289808202282, tolerance: 2.8375366587537094\n",
      "  tol, rng, random, positive)\n",
      "C:\\Users\\satyam\\Anaconda3\\lib\\site-packages\\sklearn\\linear_model\\coordinate_descent.py:471: ConvergenceWarning: Objective did not converge. You might want to increase the number of iterations. Duality gap: 4340.137773637767, tolerance: 2.8375366587537094\n",
      "  tol, rng, random, positive)\n",
      "C:\\Users\\satyam\\Anaconda3\\lib\\site-packages\\sklearn\\linear_model\\coordinate_descent.py:471: ConvergenceWarning: Objective did not converge. You might want to increase the number of iterations. Duality gap: 135.60833226615068, tolerance: 2.8375366587537094\n",
      "  tol, rng, random, positive)\n",
      "C:\\Users\\satyam\\Anaconda3\\lib\\site-packages\\sklearn\\linear_model\\coordinate_descent.py:471: ConvergenceWarning: Objective did not converge. You might want to increase the number of iterations. Duality gap: 4083.1118454781204, tolerance: 2.8375366587537094\n",
      "  tol, rng, random, positive)\n",
      "C:\\Users\\satyam\\Anaconda3\\lib\\site-packages\\sklearn\\linear_model\\coordinate_descent.py:471: ConvergenceWarning: Objective did not converge. You might want to increase the number of iterations. Duality gap: 4273.875969757957, tolerance: 2.8375366587537094\n",
      "  tol, rng, random, positive)\n",
      "C:\\Users\\satyam\\Anaconda3\\lib\\site-packages\\sklearn\\linear_model\\coordinate_descent.py:471: ConvergenceWarning: Objective did not converge. You might want to increase the number of iterations. Duality gap: 4313.5809758020905, tolerance: 2.8375366587537094\n",
      "  tol, rng, random, positive)\n",
      "C:\\Users\\satyam\\Anaconda3\\lib\\site-packages\\sklearn\\linear_model\\coordinate_descent.py:471: ConvergenceWarning: Objective did not converge. You might want to increase the number of iterations. Duality gap: 4322.180497107319, tolerance: 2.8375366587537094\n",
      "  tol, rng, random, positive)\n",
      "C:\\Users\\satyam\\Anaconda3\\lib\\site-packages\\sklearn\\linear_model\\coordinate_descent.py:471: ConvergenceWarning: Objective did not converge. You might want to increase the number of iterations. Duality gap: 4319.165734922592, tolerance: 2.8375366587537094\n",
      "  tol, rng, random, positive)\n",
      "C:\\Users\\satyam\\Anaconda3\\lib\\site-packages\\sklearn\\linear_model\\coordinate_descent.py:471: ConvergenceWarning: Objective did not converge. You might want to increase the number of iterations. Duality gap: 4310.52281115927, tolerance: 2.8375366587537094\n",
      "  tol, rng, random, positive)\n",
      "C:\\Users\\satyam\\Anaconda3\\lib\\site-packages\\sklearn\\linear_model\\coordinate_descent.py:471: ConvergenceWarning: Objective did not converge. You might want to increase the number of iterations. Duality gap: 4214.945316023215, tolerance: 2.8375366587537094\n",
      "  tol, rng, random, positive)\n",
      "C:\\Users\\satyam\\Anaconda3\\lib\\site-packages\\sklearn\\linear_model\\coordinate_descent.py:471: ConvergenceWarning: Objective did not converge. You might want to increase the number of iterations. Duality gap: 4244.0757511458805, tolerance: 2.8375366587537094\n",
      "  tol, rng, random, positive)\n",
      "C:\\Users\\satyam\\Anaconda3\\lib\\site-packages\\sklearn\\linear_model\\coordinate_descent.py:471: ConvergenceWarning: Objective did not converge. You might want to increase the number of iterations. Duality gap: 4247.251894184365, tolerance: 2.8375366587537094\n",
      "  tol, rng, random, positive)\n",
      "C:\\Users\\satyam\\Anaconda3\\lib\\site-packages\\sklearn\\linear_model\\coordinate_descent.py:471: ConvergenceWarning: Objective did not converge. You might want to increase the number of iterations. Duality gap: 4240.709247970512, tolerance: 2.8375366587537094\n",
      "  tol, rng, random, positive)\n",
      "C:\\Users\\satyam\\Anaconda3\\lib\\site-packages\\sklearn\\linear_model\\coordinate_descent.py:471: ConvergenceWarning: Objective did not converge. You might want to increase the number of iterations. Duality gap: 4229.442709276824, tolerance: 2.8375366587537094\n",
      "  tol, rng, random, positive)\n",
      "C:\\Users\\satyam\\Anaconda3\\lib\\site-packages\\sklearn\\linear_model\\coordinate_descent.py:471: ConvergenceWarning: Objective did not converge. You might want to increase the number of iterations. Duality gap: 4215.536978815588, tolerance: 2.8375366587537094\n",
      "  tol, rng, random, positive)\n",
      "C:\\Users\\satyam\\Anaconda3\\lib\\site-packages\\sklearn\\linear_model\\coordinate_descent.py:471: ConvergenceWarning: Objective did not converge. You might want to increase the number of iterations. Duality gap: 4200.223897695034, tolerance: 2.8375366587537094\n",
      "  tol, rng, random, positive)\n",
      "C:\\Users\\satyam\\Anaconda3\\lib\\site-packages\\sklearn\\linear_model\\coordinate_descent.py:471: ConvergenceWarning: Objective did not converge. You might want to increase the number of iterations. Duality gap: 4183.697279382285, tolerance: 2.8375366587537094\n",
      "  tol, rng, random, positive)\n",
      "C:\\Users\\satyam\\Anaconda3\\lib\\site-packages\\sklearn\\linear_model\\coordinate_descent.py:471: ConvergenceWarning: Objective did not converge. You might want to increase the number of iterations. Duality gap: 4166.566154450379, tolerance: 2.8375366587537094\n",
      "  tol, rng, random, positive)\n",
      "C:\\Users\\satyam\\Anaconda3\\lib\\site-packages\\sklearn\\linear_model\\coordinate_descent.py:471: ConvergenceWarning: Objective did not converge. You might want to increase the number of iterations. Duality gap: 4148.95968869161, tolerance: 2.8375366587537094\n",
      "  tol, rng, random, positive)\n",
      "C:\\Users\\satyam\\Anaconda3\\lib\\site-packages\\sklearn\\linear_model\\coordinate_descent.py:471: ConvergenceWarning: Objective did not converge. You might want to increase the number of iterations. Duality gap: 4130.491620591301, tolerance: 2.8375366587537094\n",
      "  tol, rng, random, positive)\n",
      "C:\\Users\\satyam\\Anaconda3\\lib\\site-packages\\sklearn\\linear_model\\coordinate_descent.py:471: ConvergenceWarning: Objective did not converge. You might want to increase the number of iterations. Duality gap: 4111.367127658074, tolerance: 2.8375366587537094\n",
      "  tol, rng, random, positive)\n",
      "C:\\Users\\satyam\\Anaconda3\\lib\\site-packages\\sklearn\\linear_model\\coordinate_descent.py:471: ConvergenceWarning: Objective did not converge. You might want to increase the number of iterations. Duality gap: 4091.6995493328186, tolerance: 2.8375366587537094\n",
      "  tol, rng, random, positive)\n",
      "C:\\Users\\satyam\\Anaconda3\\lib\\site-packages\\sklearn\\linear_model\\coordinate_descent.py:471: ConvergenceWarning: Objective did not converge. You might want to increase the number of iterations. Duality gap: 4071.813866329127, tolerance: 2.8375366587537094\n",
      "  tol, rng, random, positive)\n",
      "C:\\Users\\satyam\\Anaconda3\\lib\\site-packages\\sklearn\\linear_model\\coordinate_descent.py:471: ConvergenceWarning: Objective did not converge. You might want to increase the number of iterations. Duality gap: 4050.940079635561, tolerance: 2.8375366587537094\n",
      "  tol, rng, random, positive)\n",
      "C:\\Users\\satyam\\Anaconda3\\lib\\site-packages\\sklearn\\linear_model\\coordinate_descent.py:471: ConvergenceWarning: Objective did not converge. You might want to increase the number of iterations. Duality gap: 4029.102542300655, tolerance: 2.8375366587537094\n",
      "  tol, rng, random, positive)\n",
      "C:\\Users\\satyam\\Anaconda3\\lib\\site-packages\\sklearn\\linear_model\\coordinate_descent.py:471: ConvergenceWarning: Objective did not converge. You might want to increase the number of iterations. Duality gap: 4006.368592416261, tolerance: 2.8375366587537094\n",
      "  tol, rng, random, positive)\n",
      "C:\\Users\\satyam\\Anaconda3\\lib\\site-packages\\sklearn\\linear_model\\coordinate_descent.py:471: ConvergenceWarning: Objective did not converge. You might want to increase the number of iterations. Duality gap: 5431.854839314448, tolerance: 2.7965138343195264\n",
      "  tol, rng, random, positive)\n",
      "C:\\Users\\satyam\\Anaconda3\\lib\\site-packages\\sklearn\\linear_model\\coordinate_descent.py:471: ConvergenceWarning: Objective did not converge. You might want to increase the number of iterations. Duality gap: 4188.416712798312, tolerance: 2.7965138343195264\n",
      "  tol, rng, random, positive)\n",
      "C:\\Users\\satyam\\Anaconda3\\lib\\site-packages\\sklearn\\linear_model\\coordinate_descent.py:471: ConvergenceWarning: Objective did not converge. You might want to increase the number of iterations. Duality gap: 1176.4578830388327, tolerance: 2.7965138343195264\n",
      "  tol, rng, random, positive)\n",
      "C:\\Users\\satyam\\Anaconda3\\lib\\site-packages\\sklearn\\linear_model\\coordinate_descent.py:471: ConvergenceWarning: Objective did not converge. You might want to increase the number of iterations. Duality gap: 517.7705070088214, tolerance: 2.7965138343195264\n",
      "  tol, rng, random, positive)\n",
      "C:\\Users\\satyam\\Anaconda3\\lib\\site-packages\\sklearn\\linear_model\\coordinate_descent.py:471: ConvergenceWarning: Objective did not converge. You might want to increase the number of iterations. Duality gap: 472.9798534105539, tolerance: 2.7965138343195264\n",
      "  tol, rng, random, positive)\n",
      "C:\\Users\\satyam\\Anaconda3\\lib\\site-packages\\sklearn\\linear_model\\coordinate_descent.py:471: ConvergenceWarning: Objective did not converge. You might want to increase the number of iterations. Duality gap: 473.64974813109984, tolerance: 2.7965138343195264\n",
      "  tol, rng, random, positive)\n"
     ]
    },
    {
     "name": "stderr",
     "output_type": "stream",
     "text": [
      "C:\\Users\\satyam\\Anaconda3\\lib\\site-packages\\sklearn\\linear_model\\coordinate_descent.py:471: ConvergenceWarning: Objective did not converge. You might want to increase the number of iterations. Duality gap: 477.5560769003787, tolerance: 2.7965138343195264\n",
      "  tol, rng, random, positive)\n",
      "C:\\Users\\satyam\\Anaconda3\\lib\\site-packages\\sklearn\\linear_model\\coordinate_descent.py:471: ConvergenceWarning: Objective did not converge. You might want to increase the number of iterations. Duality gap: 481.7271160454875, tolerance: 2.7965138343195264\n",
      "  tol, rng, random, positive)\n",
      "C:\\Users\\satyam\\Anaconda3\\lib\\site-packages\\sklearn\\linear_model\\coordinate_descent.py:471: ConvergenceWarning: Objective did not converge. You might want to increase the number of iterations. Duality gap: 485.9543318919841, tolerance: 2.7965138343195264\n",
      "  tol, rng, random, positive)\n",
      "C:\\Users\\satyam\\Anaconda3\\lib\\site-packages\\sklearn\\linear_model\\coordinate_descent.py:471: ConvergenceWarning: Objective did not converge. You might want to increase the number of iterations. Duality gap: 490.22473544367494, tolerance: 2.7965138343195264\n",
      "  tol, rng, random, positive)\n",
      "C:\\Users\\satyam\\Anaconda3\\lib\\site-packages\\sklearn\\linear_model\\coordinate_descent.py:471: ConvergenceWarning: Objective did not converge. You might want to increase the number of iterations. Duality gap: 494.5385119641578, tolerance: 2.7965138343195264\n",
      "  tol, rng, random, positive)\n",
      "C:\\Users\\satyam\\Anaconda3\\lib\\site-packages\\sklearn\\linear_model\\coordinate_descent.py:471: ConvergenceWarning: Objective did not converge. You might want to increase the number of iterations. Duality gap: 498.8974559099306, tolerance: 2.7965138343195264\n",
      "  tol, rng, random, positive)\n",
      "C:\\Users\\satyam\\Anaconda3\\lib\\site-packages\\sklearn\\linear_model\\coordinate_descent.py:471: ConvergenceWarning: Objective did not converge. You might want to increase the number of iterations. Duality gap: 503.3026886925836, tolerance: 2.7965138343195264\n",
      "  tol, rng, random, positive)\n",
      "C:\\Users\\satyam\\Anaconda3\\lib\\site-packages\\sklearn\\linear_model\\coordinate_descent.py:471: ConvergenceWarning: Objective did not converge. You might want to increase the number of iterations. Duality gap: 507.75625359443075, tolerance: 2.7965138343195264\n",
      "  tol, rng, random, positive)\n",
      "C:\\Users\\satyam\\Anaconda3\\lib\\site-packages\\sklearn\\linear_model\\coordinate_descent.py:471: ConvergenceWarning: Objective did not converge. You might want to increase the number of iterations. Duality gap: 512.2596071741737, tolerance: 2.7965138343195264\n",
      "  tol, rng, random, positive)\n",
      "C:\\Users\\satyam\\Anaconda3\\lib\\site-packages\\sklearn\\linear_model\\coordinate_descent.py:471: ConvergenceWarning: Objective did not converge. You might want to increase the number of iterations. Duality gap: 516.8148926263166, tolerance: 2.7965138343195264\n",
      "  tol, rng, random, positive)\n",
      "C:\\Users\\satyam\\Anaconda3\\lib\\site-packages\\sklearn\\linear_model\\coordinate_descent.py:471: ConvergenceWarning: Objective did not converge. You might want to increase the number of iterations. Duality gap: 521.4237508751739, tolerance: 2.7965138343195264\n",
      "  tol, rng, random, positive)\n",
      "C:\\Users\\satyam\\Anaconda3\\lib\\site-packages\\sklearn\\linear_model\\coordinate_descent.py:471: ConvergenceWarning: Objective did not converge. You might want to increase the number of iterations. Duality gap: 526.0881238870788, tolerance: 2.7965138343195264\n",
      "  tol, rng, random, positive)\n",
      "C:\\Users\\satyam\\Anaconda3\\lib\\site-packages\\sklearn\\linear_model\\coordinate_descent.py:471: ConvergenceWarning: Objective did not converge. You might want to increase the number of iterations. Duality gap: 530.8103396317465, tolerance: 2.7965138343195264\n",
      "  tol, rng, random, positive)\n",
      "C:\\Users\\satyam\\Anaconda3\\lib\\site-packages\\sklearn\\linear_model\\coordinate_descent.py:471: ConvergenceWarning: Objective did not converge. You might want to increase the number of iterations. Duality gap: 535.5922707937752, tolerance: 2.7965138343195264\n",
      "  tol, rng, random, positive)\n",
      "C:\\Users\\satyam\\Anaconda3\\lib\\site-packages\\sklearn\\linear_model\\coordinate_descent.py:471: ConvergenceWarning: Objective did not converge. You might want to increase the number of iterations. Duality gap: 540.4362996481905, tolerance: 2.7965138343195264\n",
      "  tol, rng, random, positive)\n",
      "C:\\Users\\satyam\\Anaconda3\\lib\\site-packages\\sklearn\\linear_model\\coordinate_descent.py:471: ConvergenceWarning: Objective did not converge. You might want to increase the number of iterations. Duality gap: 545.3448329393386, tolerance: 2.7965138343195264\n",
      "  tol, rng, random, positive)\n",
      "C:\\Users\\satyam\\Anaconda3\\lib\\site-packages\\sklearn\\linear_model\\coordinate_descent.py:471: ConvergenceWarning: Objective did not converge. You might want to increase the number of iterations. Duality gap: 550.3201848121262, tolerance: 2.7965138343195264\n",
      "  tol, rng, random, positive)\n",
      "C:\\Users\\satyam\\Anaconda3\\lib\\site-packages\\sklearn\\linear_model\\coordinate_descent.py:471: ConvergenceWarning: Objective did not converge. You might want to increase the number of iterations. Duality gap: 555.3650914121772, tolerance: 2.7965138343195264\n",
      "  tol, rng, random, positive)\n",
      "C:\\Users\\satyam\\Anaconda3\\lib\\site-packages\\sklearn\\linear_model\\coordinate_descent.py:471: ConvergenceWarning: Objective did not converge. You might want to increase the number of iterations. Duality gap: 560.4822871986544, tolerance: 2.7965138343195264\n",
      "  tol, rng, random, positive)\n",
      "C:\\Users\\satyam\\Anaconda3\\lib\\site-packages\\sklearn\\linear_model\\coordinate_descent.py:471: ConvergenceWarning: Objective did not converge. You might want to increase the number of iterations. Duality gap: 565.6741495334172, tolerance: 2.7965138343195264\n",
      "  tol, rng, random, positive)\n",
      "C:\\Users\\satyam\\Anaconda3\\lib\\site-packages\\sklearn\\linear_model\\coordinate_descent.py:471: ConvergenceWarning: Objective did not converge. You might want to increase the number of iterations. Duality gap: 570.9441735423607, tolerance: 2.7965138343195264\n",
      "  tol, rng, random, positive)\n",
      "C:\\Users\\satyam\\Anaconda3\\lib\\site-packages\\sklearn\\linear_model\\coordinate_descent.py:471: ConvergenceWarning: Objective did not converge. You might want to increase the number of iterations. Duality gap: 576.2952212969976, tolerance: 2.7965138343195264\n",
      "  tol, rng, random, positive)\n",
      "C:\\Users\\satyam\\Anaconda3\\lib\\site-packages\\sklearn\\linear_model\\coordinate_descent.py:471: ConvergenceWarning: Objective did not converge. You might want to increase the number of iterations. Duality gap: 581.7304662557563, tolerance: 2.7965138343195264\n",
      "  tol, rng, random, positive)\n",
      "C:\\Users\\satyam\\Anaconda3\\lib\\site-packages\\sklearn\\linear_model\\coordinate_descent.py:471: ConvergenceWarning: Objective did not converge. You might want to increase the number of iterations. Duality gap: 587.2534495854234, tolerance: 2.7965138343195264\n",
      "  tol, rng, random, positive)\n",
      "C:\\Users\\satyam\\Anaconda3\\lib\\site-packages\\sklearn\\linear_model\\coordinate_descent.py:471: ConvergenceWarning: Objective did not converge. You might want to increase the number of iterations. Duality gap: 592.8676398414445, tolerance: 2.7965138343195264\n",
      "  tol, rng, random, positive)\n",
      "C:\\Users\\satyam\\Anaconda3\\lib\\site-packages\\sklearn\\linear_model\\coordinate_descent.py:471: ConvergenceWarning: Objective did not converge. You might want to increase the number of iterations. Duality gap: 578.367620670746, tolerance: 2.7965138343195264\n",
      "  tol, rng, random, positive)\n",
      "C:\\Users\\satyam\\Anaconda3\\lib\\site-packages\\sklearn\\linear_model\\coordinate_descent.py:471: ConvergenceWarning: Objective did not converge. You might want to increase the number of iterations. Duality gap: 616.8418537301941, tolerance: 2.7965138343195264\n",
      "  tol, rng, random, positive)\n",
      "C:\\Users\\satyam\\Anaconda3\\lib\\site-packages\\sklearn\\linear_model\\coordinate_descent.py:471: ConvergenceWarning: Objective did not converge. You might want to increase the number of iterations. Duality gap: 610.9960326398223, tolerance: 2.7965138343195264\n",
      "  tol, rng, random, positive)\n",
      "C:\\Users\\satyam\\Anaconda3\\lib\\site-packages\\sklearn\\linear_model\\coordinate_descent.py:471: ConvergenceWarning: Objective did not converge. You might want to increase the number of iterations. Duality gap: 616.1827726680149, tolerance: 2.7965138343195264\n",
      "  tol, rng, random, positive)\n",
      "C:\\Users\\satyam\\Anaconda3\\lib\\site-packages\\sklearn\\linear_model\\coordinate_descent.py:471: ConvergenceWarning: Objective did not converge. You might want to increase the number of iterations. Duality gap: 622.2526465734663, tolerance: 2.7965138343195264\n",
      "  tol, rng, random, positive)\n",
      "C:\\Users\\satyam\\Anaconda3\\lib\\site-packages\\sklearn\\linear_model\\coordinate_descent.py:471: ConvergenceWarning: Objective did not converge. You might want to increase the number of iterations. Duality gap: 628.4938577822295, tolerance: 2.7965138343195264\n",
      "  tol, rng, random, positive)\n",
      "C:\\Users\\satyam\\Anaconda3\\lib\\site-packages\\sklearn\\linear_model\\coordinate_descent.py:471: ConvergenceWarning: Objective did not converge. You might want to increase the number of iterations. Duality gap: 634.8604405814076, tolerance: 2.7965138343195264\n",
      "  tol, rng, random, positive)\n",
      "C:\\Users\\satyam\\Anaconda3\\lib\\site-packages\\sklearn\\linear_model\\coordinate_descent.py:471: ConvergenceWarning: Objective did not converge. You might want to increase the number of iterations. Duality gap: 641.3541986975088, tolerance: 2.7965138343195264\n",
      "  tol, rng, random, positive)\n"
     ]
    },
    {
     "name": "stderr",
     "output_type": "stream",
     "text": [
      "C:\\Users\\satyam\\Anaconda3\\lib\\site-packages\\sklearn\\linear_model\\coordinate_descent.py:471: ConvergenceWarning: Objective did not converge. You might want to increase the number of iterations. Duality gap: 647.9803734246143, tolerance: 2.7965138343195264\n",
      "  tol, rng, random, positive)\n",
      "C:\\Users\\satyam\\Anaconda3\\lib\\site-packages\\sklearn\\linear_model\\coordinate_descent.py:471: ConvergenceWarning: Objective did not converge. You might want to increase the number of iterations. Duality gap: 654.7450586733057, tolerance: 2.7965138343195264\n",
      "  tol, rng, random, positive)\n",
      "C:\\Users\\satyam\\Anaconda3\\lib\\site-packages\\sklearn\\linear_model\\coordinate_descent.py:471: ConvergenceWarning: Objective did not converge. You might want to increase the number of iterations. Duality gap: 661.654376758479, tolerance: 2.7965138343195264\n",
      "  tol, rng, random, positive)\n",
      "C:\\Users\\satyam\\Anaconda3\\lib\\site-packages\\sklearn\\linear_model\\coordinate_descent.py:471: ConvergenceWarning: Objective did not converge. You might want to increase the number of iterations. Duality gap: 668.7148662399795, tolerance: 2.7965138343195264\n",
      "  tol, rng, random, positive)\n",
      "C:\\Users\\satyam\\Anaconda3\\lib\\site-packages\\sklearn\\linear_model\\coordinate_descent.py:471: ConvergenceWarning: Objective did not converge. You might want to increase the number of iterations. Duality gap: 675.9329996662318, tolerance: 2.7965138343195264\n",
      "  tol, rng, random, positive)\n",
      "C:\\Users\\satyam\\Anaconda3\\lib\\site-packages\\sklearn\\linear_model\\coordinate_descent.py:471: ConvergenceWarning: Objective did not converge. You might want to increase the number of iterations. Duality gap: 683.3164811536935, tolerance: 2.7965138343195264\n",
      "  tol, rng, random, positive)\n",
      "C:\\Users\\satyam\\Anaconda3\\lib\\site-packages\\sklearn\\linear_model\\coordinate_descent.py:471: ConvergenceWarning: Objective did not converge. You might want to increase the number of iterations. Duality gap: 690.873070390312, tolerance: 2.7965138343195264\n",
      "  tol, rng, random, positive)\n",
      "C:\\Users\\satyam\\Anaconda3\\lib\\site-packages\\sklearn\\linear_model\\coordinate_descent.py:471: ConvergenceWarning: Objective did not converge. You might want to increase the number of iterations. Duality gap: 698.6101982917407, tolerance: 2.7965138343195264\n",
      "  tol, rng, random, positive)\n",
      "C:\\Users\\satyam\\Anaconda3\\lib\\site-packages\\sklearn\\linear_model\\coordinate_descent.py:471: ConvergenceWarning: Objective did not converge. You might want to increase the number of iterations. Duality gap: 706.5370982167951, tolerance: 2.7965138343195264\n",
      "  tol, rng, random, positive)\n",
      "C:\\Users\\satyam\\Anaconda3\\lib\\site-packages\\sklearn\\linear_model\\coordinate_descent.py:471: ConvergenceWarning: Objective did not converge. You might want to increase the number of iterations. Duality gap: 714.6625328096588, tolerance: 2.7965138343195264\n",
      "  tol, rng, random, positive)\n",
      "C:\\Users\\satyam\\Anaconda3\\lib\\site-packages\\sklearn\\linear_model\\coordinate_descent.py:471: ConvergenceWarning: Objective did not converge. You might want to increase the number of iterations. Duality gap: 722.9963399127064, tolerance: 2.7965138343195264\n",
      "  tol, rng, random, positive)\n",
      "C:\\Users\\satyam\\Anaconda3\\lib\\site-packages\\sklearn\\linear_model\\coordinate_descent.py:471: ConvergenceWarning: Objective did not converge. You might want to increase the number of iterations. Duality gap: 731.5482134132899, tolerance: 2.7965138343195264\n",
      "  tol, rng, random, positive)\n",
      "C:\\Users\\satyam\\Anaconda3\\lib\\site-packages\\sklearn\\linear_model\\coordinate_descent.py:471: ConvergenceWarning: Objective did not converge. You might want to increase the number of iterations. Duality gap: 740.3293575409234, tolerance: 2.7965138343195264\n",
      "  tol, rng, random, positive)\n",
      "C:\\Users\\satyam\\Anaconda3\\lib\\site-packages\\sklearn\\linear_model\\coordinate_descent.py:471: ConvergenceWarning: Objective did not converge. You might want to increase the number of iterations. Duality gap: 749.35073910348, tolerance: 2.7965138343195264\n",
      "  tol, rng, random, positive)\n",
      "C:\\Users\\satyam\\Anaconda3\\lib\\site-packages\\sklearn\\linear_model\\coordinate_descent.py:471: ConvergenceWarning: Objective did not converge. You might want to increase the number of iterations. Duality gap: 758.6248633809964, tolerance: 2.7965138343195264\n",
      "  tol, rng, random, positive)\n",
      "C:\\Users\\satyam\\Anaconda3\\lib\\site-packages\\sklearn\\linear_model\\coordinate_descent.py:471: ConvergenceWarning: Objective did not converge. You might want to increase the number of iterations. Duality gap: 768.2015310683792, tolerance: 2.7965138343195264\n",
      "  tol, rng, random, positive)\n",
      "C:\\Users\\satyam\\Anaconda3\\lib\\site-packages\\sklearn\\linear_model\\coordinate_descent.py:471: ConvergenceWarning: Objective did not converge. You might want to increase the number of iterations. Duality gap: 778.1771498862281, tolerance: 2.7965138343195264\n",
      "  tol, rng, random, positive)\n",
      "C:\\Users\\satyam\\Anaconda3\\lib\\site-packages\\sklearn\\linear_model\\coordinate_descent.py:471: ConvergenceWarning: Objective did not converge. You might want to increase the number of iterations. Duality gap: 788.313828633407, tolerance: 2.7965138343195264\n",
      "  tol, rng, random, positive)\n",
      "C:\\Users\\satyam\\Anaconda3\\lib\\site-packages\\sklearn\\linear_model\\coordinate_descent.py:471: ConvergenceWarning: Objective did not converge. You might want to increase the number of iterations. Duality gap: 798.7497809023807, tolerance: 2.7965138343195264\n",
      "  tol, rng, random, positive)\n",
      "C:\\Users\\satyam\\Anaconda3\\lib\\site-packages\\sklearn\\linear_model\\coordinate_descent.py:471: ConvergenceWarning: Objective did not converge. You might want to increase the number of iterations. Duality gap: 809.5099454641022, tolerance: 2.7965138343195264\n",
      "  tol, rng, random, positive)\n",
      "C:\\Users\\satyam\\Anaconda3\\lib\\site-packages\\sklearn\\linear_model\\coordinate_descent.py:471: ConvergenceWarning: Objective did not converge. You might want to increase the number of iterations. Duality gap: 820.6124001194612, tolerance: 2.7965138343195264\n",
      "  tol, rng, random, positive)\n",
      "C:\\Users\\satyam\\Anaconda3\\lib\\site-packages\\sklearn\\linear_model\\coordinate_descent.py:471: ConvergenceWarning: Objective did not converge. You might want to increase the number of iterations. Duality gap: 832.0758265388731, tolerance: 2.7965138343195264\n",
      "  tol, rng, random, positive)\n",
      "C:\\Users\\satyam\\Anaconda3\\lib\\site-packages\\sklearn\\linear_model\\coordinate_descent.py:471: ConvergenceWarning: Objective did not converge. You might want to increase the number of iterations. Duality gap: 843.9209025055006, tolerance: 2.7965138343195264\n",
      "  tol, rng, random, positive)\n",
      "C:\\Users\\satyam\\Anaconda3\\lib\\site-packages\\sklearn\\linear_model\\coordinate_descent.py:471: ConvergenceWarning: Objective did not converge. You might want to increase the number of iterations. Duality gap: 856.1680083479823, tolerance: 2.7965138343195264\n",
      "  tol, rng, random, positive)\n",
      "C:\\Users\\satyam\\Anaconda3\\lib\\site-packages\\sklearn\\linear_model\\coordinate_descent.py:471: ConvergenceWarning: Objective did not converge. You might want to increase the number of iterations. Duality gap: 868.8398095284283, tolerance: 2.7965138343195264\n",
      "  tol, rng, random, positive)\n",
      "C:\\Users\\satyam\\Anaconda3\\lib\\site-packages\\sklearn\\linear_model\\coordinate_descent.py:471: ConvergenceWarning: Objective did not converge. You might want to increase the number of iterations. Duality gap: 881.9610199634217, tolerance: 2.7965138343195264\n",
      "  tol, rng, random, positive)\n",
      "C:\\Users\\satyam\\Anaconda3\\lib\\site-packages\\sklearn\\linear_model\\coordinate_descent.py:471: ConvergenceWarning: Objective did not converge. You might want to increase the number of iterations. Duality gap: 895.5576793936943, tolerance: 2.7965138343195264\n",
      "  tol, rng, random, positive)\n",
      "C:\\Users\\satyam\\Anaconda3\\lib\\site-packages\\sklearn\\linear_model\\coordinate_descent.py:471: ConvergenceWarning: Objective did not converge. You might want to increase the number of iterations. Duality gap: 909.6575009806575, tolerance: 2.7965138343195264\n",
      "  tol, rng, random, positive)\n",
      "C:\\Users\\satyam\\Anaconda3\\lib\\site-packages\\sklearn\\linear_model\\coordinate_descent.py:471: ConvergenceWarning: Objective did not converge. You might want to increase the number of iterations. Duality gap: 924.29014376959, tolerance: 2.7965138343195264\n",
      "  tol, rng, random, positive)\n",
      "C:\\Users\\satyam\\Anaconda3\\lib\\site-packages\\sklearn\\linear_model\\coordinate_descent.py:471: ConvergenceWarning: Objective did not converge. You might want to increase the number of iterations. Duality gap: 939.4881427140826, tolerance: 2.7965138343195264\n",
      "  tol, rng, random, positive)\n"
     ]
    },
    {
     "name": "stderr",
     "output_type": "stream",
     "text": [
      "C:\\Users\\satyam\\Anaconda3\\lib\\site-packages\\sklearn\\linear_model\\coordinate_descent.py:471: ConvergenceWarning: Objective did not converge. You might want to increase the number of iterations. Duality gap: 955.2856378025435, tolerance: 2.7965138343195264\n",
      "  tol, rng, random, positive)\n",
      "C:\\Users\\satyam\\Anaconda3\\lib\\site-packages\\sklearn\\linear_model\\coordinate_descent.py:471: ConvergenceWarning: Objective did not converge. You might want to increase the number of iterations. Duality gap: 971.7197002974981, tolerance: 2.7965138343195264\n",
      "  tol, rng, random, positive)\n",
      "C:\\Users\\satyam\\Anaconda3\\lib\\site-packages\\sklearn\\linear_model\\coordinate_descent.py:471: ConvergenceWarning: Objective did not converge. You might want to increase the number of iterations. Duality gap: 988.8307370384573, tolerance: 2.7965138343195264\n",
      "  tol, rng, random, positive)\n",
      "C:\\Users\\satyam\\Anaconda3\\lib\\site-packages\\sklearn\\linear_model\\coordinate_descent.py:471: ConvergenceWarning: Objective did not converge. You might want to increase the number of iterations. Duality gap: 1006.6607589092546, tolerance: 2.7965138343195264\n",
      "  tol, rng, random, positive)\n",
      "C:\\Users\\satyam\\Anaconda3\\lib\\site-packages\\sklearn\\linear_model\\coordinate_descent.py:471: ConvergenceWarning: Objective did not converge. You might want to increase the number of iterations. Duality gap: 1025.2571335298362, tolerance: 2.7965138343195264\n",
      "  tol, rng, random, positive)\n",
      "C:\\Users\\satyam\\Anaconda3\\lib\\site-packages\\sklearn\\linear_model\\coordinate_descent.py:471: ConvergenceWarning: Objective did not converge. You might want to increase the number of iterations. Duality gap: 1044.6695096419826, tolerance: 2.7965138343195264\n",
      "  tol, rng, random, positive)\n",
      "C:\\Users\\satyam\\Anaconda3\\lib\\site-packages\\sklearn\\linear_model\\coordinate_descent.py:471: ConvergenceWarning: Objective did not converge. You might want to increase the number of iterations. Duality gap: 1064.9522003197235, tolerance: 2.7965138343195264\n",
      "  tol, rng, random, positive)\n",
      "C:\\Users\\satyam\\Anaconda3\\lib\\site-packages\\sklearn\\linear_model\\coordinate_descent.py:471: ConvergenceWarning: Objective did not converge. You might want to increase the number of iterations. Duality gap: 1086.1639586787478, tolerance: 2.7965138343195264\n",
      "  tol, rng, random, positive)\n",
      "C:\\Users\\satyam\\Anaconda3\\lib\\site-packages\\sklearn\\linear_model\\coordinate_descent.py:471: ConvergenceWarning: Objective did not converge. You might want to increase the number of iterations. Duality gap: 1108.368259417357, tolerance: 2.7965138343195264\n",
      "  tol, rng, random, positive)\n",
      "C:\\Users\\satyam\\Anaconda3\\lib\\site-packages\\sklearn\\linear_model\\coordinate_descent.py:471: ConvergenceWarning: Objective did not converge. You might want to increase the number of iterations. Duality gap: 1131.6340245062302, tolerance: 2.7965138343195264\n",
      "  tol, rng, random, positive)\n",
      "C:\\Users\\satyam\\Anaconda3\\lib\\site-packages\\sklearn\\linear_model\\coordinate_descent.py:471: ConvergenceWarning: Objective did not converge. You might want to increase the number of iterations. Duality gap: 1156.036493995858, tolerance: 2.7965138343195264\n",
      "  tol, rng, random, positive)\n",
      "C:\\Users\\satyam\\Anaconda3\\lib\\site-packages\\sklearn\\linear_model\\coordinate_descent.py:471: ConvergenceWarning: Objective did not converge. You might want to increase the number of iterations. Duality gap: 1181.6569563985322, tolerance: 2.7965138343195264\n",
      "  tol, rng, random, positive)\n",
      "C:\\Users\\satyam\\Anaconda3\\lib\\site-packages\\sklearn\\linear_model\\coordinate_descent.py:471: ConvergenceWarning: Objective did not converge. You might want to increase the number of iterations. Duality gap: 1208.5843327434968, tolerance: 2.7965138343195264\n",
      "  tol, rng, random, positive)\n",
      "C:\\Users\\satyam\\Anaconda3\\lib\\site-packages\\sklearn\\linear_model\\coordinate_descent.py:471: ConvergenceWarning: Objective did not converge. You might want to increase the number of iterations. Duality gap: 1236.9160111546134, tolerance: 2.7965138343195264\n",
      "  tol, rng, random, positive)\n",
      "C:\\Users\\satyam\\Anaconda3\\lib\\site-packages\\sklearn\\linear_model\\coordinate_descent.py:471: ConvergenceWarning: Objective did not converge. You might want to increase the number of iterations. Duality gap: 1266.7569877022888, tolerance: 2.7965138343195264\n",
      "  tol, rng, random, positive)\n",
      "C:\\Users\\satyam\\Anaconda3\\lib\\site-packages\\sklearn\\linear_model\\coordinate_descent.py:471: ConvergenceWarning: Objective did not converge. You might want to increase the number of iterations. Duality gap: 1298.2240750111623, tolerance: 2.7965138343195264\n",
      "  tol, rng, random, positive)\n",
      "C:\\Users\\satyam\\Anaconda3\\lib\\site-packages\\sklearn\\linear_model\\coordinate_descent.py:471: ConvergenceWarning: Objective did not converge. You might want to increase the number of iterations. Duality gap: 1331.444134569244, tolerance: 2.7965138343195264\n",
      "  tol, rng, random, positive)\n",
      "C:\\Users\\satyam\\Anaconda3\\lib\\site-packages\\sklearn\\linear_model\\coordinate_descent.py:471: ConvergenceWarning: Objective did not converge. You might want to increase the number of iterations. Duality gap: 1366.5563487324425, tolerance: 2.7965138343195264\n",
      "  tol, rng, random, positive)\n",
      "C:\\Users\\satyam\\Anaconda3\\lib\\site-packages\\sklearn\\linear_model\\coordinate_descent.py:471: ConvergenceWarning: Objective did not converge. You might want to increase the number of iterations. Duality gap: 1403.7149013154149, tolerance: 2.7965138343195264\n",
      "  tol, rng, random, positive)\n",
      "C:\\Users\\satyam\\Anaconda3\\lib\\site-packages\\sklearn\\linear_model\\coordinate_descent.py:471: ConvergenceWarning: Objective did not converge. You might want to increase the number of iterations. Duality gap: 1416.378943384554, tolerance: 2.7965138343195264\n",
      "  tol, rng, random, positive)\n",
      "C:\\Users\\satyam\\Anaconda3\\lib\\site-packages\\sklearn\\linear_model\\coordinate_descent.py:471: ConvergenceWarning: Objective did not converge. You might want to increase the number of iterations. Duality gap: 1480.7224201649406, tolerance: 2.7965138343195264\n",
      "  tol, rng, random, positive)\n",
      "C:\\Users\\satyam\\Anaconda3\\lib\\site-packages\\sklearn\\linear_model\\coordinate_descent.py:471: ConvergenceWarning: Objective did not converge. You might want to increase the number of iterations. Duality gap: 1529.266482966158, tolerance: 2.7965138343195264\n",
      "  tol, rng, random, positive)\n",
      "C:\\Users\\satyam\\Anaconda3\\lib\\site-packages\\sklearn\\linear_model\\coordinate_descent.py:471: ConvergenceWarning: Objective did not converge. You might want to increase the number of iterations. Duality gap: 1576.7783104805985, tolerance: 2.7965138343195264\n",
      "  tol, rng, random, positive)\n",
      "C:\\Users\\satyam\\Anaconda3\\lib\\site-packages\\sklearn\\linear_model\\coordinate_descent.py:471: ConvergenceWarning: Objective did not converge. You might want to increase the number of iterations. Duality gap: 1627.107254782115, tolerance: 2.7965138343195264\n",
      "  tol, rng, random, positive)\n",
      "C:\\Users\\satyam\\Anaconda3\\lib\\site-packages\\sklearn\\linear_model\\coordinate_descent.py:471: ConvergenceWarning: Objective did not converge. You might want to increase the number of iterations. Duality gap: 1680.7879440246033, tolerance: 2.7965138343195264\n",
      "  tol, rng, random, positive)\n",
      "C:\\Users\\satyam\\Anaconda3\\lib\\site-packages\\sklearn\\linear_model\\coordinate_descent.py:471: ConvergenceWarning: Objective did not converge. You might want to increase the number of iterations. Duality gap: 1998.3103047158556, tolerance: 2.7965138343195264\n",
      "  tol, rng, random, positive)\n",
      "C:\\Users\\satyam\\Anaconda3\\lib\\site-packages\\sklearn\\linear_model\\coordinate_descent.py:471: ConvergenceWarning: Objective did not converge. You might want to increase the number of iterations. Duality gap: 2393.304657622605, tolerance: 2.7965138343195264\n",
      "  tol, rng, random, positive)\n",
      "C:\\Users\\satyam\\Anaconda3\\lib\\site-packages\\sklearn\\linear_model\\coordinate_descent.py:471: ConvergenceWarning: Objective did not converge. You might want to increase the number of iterations. Duality gap: 2433.171098510431, tolerance: 2.7965138343195264\n",
      "  tol, rng, random, positive)\n",
      "C:\\Users\\satyam\\Anaconda3\\lib\\site-packages\\sklearn\\linear_model\\coordinate_descent.py:471: ConvergenceWarning: Objective did not converge. You might want to increase the number of iterations. Duality gap: 2490.343927428816, tolerance: 2.7965138343195264\n",
      "  tol, rng, random, positive)\n",
      "C:\\Users\\satyam\\Anaconda3\\lib\\site-packages\\sklearn\\linear_model\\coordinate_descent.py:471: ConvergenceWarning: Objective did not converge. You might want to increase the number of iterations. Duality gap: 2895.87702132745, tolerance: 2.7965138343195264\n",
      "  tol, rng, random, positive)\n",
      "C:\\Users\\satyam\\Anaconda3\\lib\\site-packages\\sklearn\\linear_model\\coordinate_descent.py:471: ConvergenceWarning: Objective did not converge. You might want to increase the number of iterations. Duality gap: 3027.7737581888337, tolerance: 2.7965138343195264\n",
      "  tol, rng, random, positive)\n"
     ]
    },
    {
     "name": "stderr",
     "output_type": "stream",
     "text": [
      "C:\\Users\\satyam\\Anaconda3\\lib\\site-packages\\sklearn\\linear_model\\coordinate_descent.py:475: ConvergenceWarning: Objective did not converge. You might want to increase the number of iterations. Duality gap: 6241.571258729317, tolerance: 4.2716295415019765\n",
      "  positive)\n"
     ]
    },
    {
     "data": {
      "text/plain": [
       "LassoCV(alphas=array([0.1       , 0.10909091, 0.11818182, 0.12727273, 0.13636364,\n",
       "       0.14545455, 0.15454545, 0.16363636, 0.17272727, 0.18181818,\n",
       "       0.19090909, 0.2       , 0.20909091, 0.21818182, 0.22727273,\n",
       "       0.23636364, 0.24545455, 0.25454545, 0.26363636, 0.27272727,\n",
       "       0.28181818, 0.29090909, 0.3       , 0.30909091, 0.31818182,\n",
       "       0.32727273, 0.33636364, 0.34545455, 0.35454545, 0.36363636,\n",
       "       0.37272727, 0.381818...\n",
       "       0.82727273, 0.83636364, 0.84545455, 0.85454545, 0.86363636,\n",
       "       0.87272727, 0.88181818, 0.89090909, 0.9       , 0.90909091,\n",
       "       0.91818182, 0.92727273, 0.93636364, 0.94545455, 0.95454545,\n",
       "       0.96363636, 0.97272727, 0.98181818, 0.99090909, 1.        ]),\n",
       "        copy_X=True, cv=3, eps=0.001, fit_intercept=True, max_iter=10000,\n",
       "        n_alphas=100, n_jobs=None, normalize=False, positive=False,\n",
       "        precompute='auto', random_state=3, selection='cyclic', tol=0.0001,\n",
       "        verbose=False)"
      ]
     },
     "execution_count": 29,
     "metadata": {},
     "output_type": "execute_result"
    }
   ],
   "source": [
    "alphas = np.linspace(0.1, 1, 100)\n",
    "\n",
    "lasso_cv = LassoCV(alphas=alphas, cv=3, random_state=3, max_iter=10000)\n",
    "lasso_cv.fit(X, y)"
   ]
  },
  {
   "cell_type": "code",
   "execution_count": 30,
   "metadata": {},
   "outputs": [
    {
     "data": {
      "text/plain": [
       "0.13636363636363635"
      ]
     },
     "execution_count": 30,
     "metadata": {},
     "output_type": "execute_result"
    }
   ],
   "source": [
    "lasso_cv.alpha_"
   ]
  },
  {
   "cell_type": "code",
   "execution_count": 32,
   "metadata": {},
   "outputs": [
    {
     "data": {
      "text/plain": [
       "array([-2.50041532e-01,  4.07441741e-02, -5.41909499e-02,  4.22218898e-01,\n",
       "       -0.00000000e+00,  3.67835300e+00, -0.00000000e+00, -1.13405912e+00,\n",
       "        3.12700597e-01, -1.53544659e-02, -7.61095671e-01,  9.54959756e-03,\n",
       "       -5.96050782e-01,  7.65807676e-03, -1.06216119e-04,  3.57051406e-07,\n",
       "        6.50009475e-04, -3.05023214e-05,  2.44260911e-07])"
      ]
     },
     "execution_count": 32,
     "metadata": {},
     "output_type": "execute_result"
    }
   ],
   "source": [
    "lasso_cv.coef_"
   ]
  },
  {
   "cell_type": "code",
   "execution_count": 33,
   "metadata": {},
   "outputs": [
    {
     "data": {
      "text/html": [
       "<div>\n",
       "<style scoped>\n",
       "    .dataframe tbody tr th:only-of-type {\n",
       "        vertical-align: middle;\n",
       "    }\n",
       "\n",
       "    .dataframe tbody tr th {\n",
       "        vertical-align: top;\n",
       "    }\n",
       "\n",
       "    .dataframe thead th {\n",
       "        text-align: right;\n",
       "    }\n",
       "</style>\n",
       "<table border=\"1\" class=\"dataframe\">\n",
       "  <thead>\n",
       "    <tr style=\"text-align: right;\">\n",
       "      <th></th>\n",
       "      <th>coefs</th>\n",
       "    </tr>\n",
       "  </thead>\n",
       "  <tbody>\n",
       "    <tr>\n",
       "      <td>CRIM</td>\n",
       "      <td>-2.500415e-01</td>\n",
       "    </tr>\n",
       "    <tr>\n",
       "      <td>ZN</td>\n",
       "      <td>4.074417e-02</td>\n",
       "    </tr>\n",
       "    <tr>\n",
       "      <td>INDUS</td>\n",
       "      <td>-5.419095e-02</td>\n",
       "    </tr>\n",
       "    <tr>\n",
       "      <td>CHAS</td>\n",
       "      <td>4.222189e-01</td>\n",
       "    </tr>\n",
       "    <tr>\n",
       "      <td>NOX</td>\n",
       "      <td>-0.000000e+00</td>\n",
       "    </tr>\n",
       "    <tr>\n",
       "      <td>RM</td>\n",
       "      <td>3.678353e+00</td>\n",
       "    </tr>\n",
       "    <tr>\n",
       "      <td>AGE</td>\n",
       "      <td>-0.000000e+00</td>\n",
       "    </tr>\n",
       "    <tr>\n",
       "      <td>DIS</td>\n",
       "      <td>-1.134059e+00</td>\n",
       "    </tr>\n",
       "    <tr>\n",
       "      <td>RAD</td>\n",
       "      <td>3.127006e-01</td>\n",
       "    </tr>\n",
       "    <tr>\n",
       "      <td>TAX</td>\n",
       "      <td>-1.535447e-02</td>\n",
       "    </tr>\n",
       "    <tr>\n",
       "      <td>PTRATIO</td>\n",
       "      <td>-7.610957e-01</td>\n",
       "    </tr>\n",
       "    <tr>\n",
       "      <td>B</td>\n",
       "      <td>9.549598e-03</td>\n",
       "    </tr>\n",
       "    <tr>\n",
       "      <td>LSTAT</td>\n",
       "      <td>-5.960508e-01</td>\n",
       "    </tr>\n",
       "    <tr>\n",
       "      <td>CRIM2</td>\n",
       "      <td>7.658077e-03</td>\n",
       "    </tr>\n",
       "    <tr>\n",
       "      <td>CRIM3</td>\n",
       "      <td>-1.062161e-04</td>\n",
       "    </tr>\n",
       "    <tr>\n",
       "      <td>CRIM4</td>\n",
       "      <td>3.570514e-07</td>\n",
       "    </tr>\n",
       "    <tr>\n",
       "      <td>AGE2</td>\n",
       "      <td>6.500095e-04</td>\n",
       "    </tr>\n",
       "    <tr>\n",
       "      <td>AGE3</td>\n",
       "      <td>-3.050232e-05</td>\n",
       "    </tr>\n",
       "    <tr>\n",
       "      <td>AGE4</td>\n",
       "      <td>2.442609e-07</td>\n",
       "    </tr>\n",
       "  </tbody>\n",
       "</table>\n",
       "</div>"
      ],
      "text/plain": [
       "                coefs\n",
       "CRIM    -2.500415e-01\n",
       "ZN       4.074417e-02\n",
       "INDUS   -5.419095e-02\n",
       "CHAS     4.222189e-01\n",
       "NOX     -0.000000e+00\n",
       "RM       3.678353e+00\n",
       "AGE     -0.000000e+00\n",
       "DIS     -1.134059e+00\n",
       "RAD      3.127006e-01\n",
       "TAX     -1.535447e-02\n",
       "PTRATIO -7.610957e-01\n",
       "B        9.549598e-03\n",
       "LSTAT   -5.960508e-01\n",
       "CRIM2    7.658077e-03\n",
       "CRIM3   -1.062161e-04\n",
       "CRIM4    3.570514e-07\n",
       "AGE2     6.500095e-04\n",
       "AGE3    -3.050232e-05\n",
       "AGE4     2.442609e-07"
      ]
     },
     "execution_count": 33,
     "metadata": {},
     "output_type": "execute_result"
    }
   ],
   "source": [
    "pd.DataFrame(lasso_cv.coef_, index = X.columns, columns=['coefs'])"
   ]
  },
  {
   "cell_type": "code",
   "execution_count": 36,
   "metadata": {},
   "outputs": [
    {
     "data": {
      "text/plain": [
       "array([[31.54820146, 27.34208191, 47.47606062],\n",
       "       [31.44303731, 27.34362724, 50.33833703],\n",
       "       [31.33157384, 27.29822243, 50.22060198],\n",
       "       [31.22056558, 27.2486152 , 49.88506552],\n",
       "       [31.11043293, 27.19804691, 49.53694143],\n",
       "       [31.00120165, 27.14806042, 49.19053262],\n",
       "       [30.89287332, 27.09864126, 48.84683302],\n",
       "       [30.78544802, 27.04978906, 48.50591157],\n",
       "       [30.67892577, 27.00150411, 48.16777301],\n",
       "       [30.57330656, 26.95378646, 47.83241773],\n",
       "       [30.46859039, 26.9066358 , 47.49984579],\n",
       "       [30.36477727, 26.8600524 , 47.17005721],\n",
       "       [30.2618672 , 26.8140363 , 46.84305191],\n",
       "       [30.15986017, 26.76858721, 46.51882988],\n",
       "       [30.05875618, 26.72370537, 46.19739115],\n",
       "       [29.95855524, 26.67939054, 45.8787358 ],\n",
       "       [29.85925734, 26.63564296, 45.56286375],\n",
       "       [29.76086249, 26.59246241, 45.24977495],\n",
       "       [29.66337068, 26.54984941, 44.93946947],\n",
       "       [29.56678192, 26.50780322, 44.63194735],\n",
       "       [29.4710962 , 26.46632424, 44.32720855],\n",
       "       [29.37631353, 26.42541257, 44.02525299],\n",
       "       [29.2824339 , 26.38506796, 43.72608075],\n",
       "       [29.18945731, 26.34529062, 43.42969187],\n",
       "       [29.09738377, 26.30608034, 43.1360863 ],\n",
       "       [29.00621328, 26.26743707, 42.84526399],\n",
       "       [28.91594583, 26.22936108, 42.55722498],\n",
       "       [28.82658142, 26.19185242, 42.27196935],\n",
       "       [28.73812006, 26.15491085, 41.98949698],\n",
       "       [28.65056174, 26.11853632, 41.70980797],\n",
       "       [28.56390647, 26.08272907, 41.43290221],\n",
       "       [28.47815424, 26.04748892, 41.15912229],\n",
       "       [28.39330506, 26.01281606, 40.92924806],\n",
       "       [28.30935892, 25.97871008, 40.6599568 ],\n",
       "       [28.22631582, 25.94517159, 40.39329566],\n",
       "       [28.14417577, 25.91220003, 40.12941622],\n",
       "       [28.06293877, 25.87979574, 39.86832905],\n",
       "       [27.98260481, 25.84795857, 39.61003478],\n",
       "       [27.90317389, 25.81668872, 39.35453342],\n",
       "       [27.82464602, 25.78598579, 39.10182504],\n",
       "       [27.7470212 , 25.75585015, 38.85190968],\n",
       "       [27.67029941, 25.72628166, 38.6047873 ],\n",
       "       [27.59448068, 25.69728049, 38.36045784],\n",
       "       [27.51956498, 25.66884628, 38.11892135],\n",
       "       [27.44555234, 25.64097917, 37.88017787],\n",
       "       [27.37244273, 25.6136794 , 37.64422738],\n",
       "       [27.30023617, 25.5869468 , 37.41106983],\n",
       "       [27.22893266, 25.56078118, 37.18070523],\n",
       "       [27.15853219, 25.53518287, 36.9531336 ],\n",
       "       [27.08903476, 25.51015176, 36.72835499],\n",
       "       [27.02044038, 25.48568764, 36.50636935],\n",
       "       [26.95274905, 25.46179086, 36.28717663],\n",
       "       [26.88596076, 25.43846112, 36.07077691],\n",
       "       [26.82007551, 25.41569855, 35.85717018],\n",
       "       [26.75509331, 25.39350319, 35.7020363 ],\n",
       "       [26.69101415, 25.37187503, 35.59808318],\n",
       "       [26.62783804, 25.35081394, 35.49519527],\n",
       "       [26.56556497, 25.33032006, 35.39337062],\n",
       "       [26.50419495, 25.3103934 , 35.29260911],\n",
       "       [26.44372797, 25.29103384, 35.19291069],\n",
       "       [26.38416403, 25.27224137, 35.09427539],\n",
       "       [26.32550314, 25.25401614, 34.99670326],\n",
       "       [26.2677453 , 25.23635816, 34.90019426],\n",
       "       [26.2108905 , 25.2192672 , 34.80474835],\n",
       "       [26.15493874, 25.20274348, 34.71036556],\n",
       "       [26.09989003, 25.18678692, 34.61704593],\n",
       "       [26.04574436, 25.17139752, 34.52478945],\n",
       "       [25.99250174, 25.15657529, 34.43359608],\n",
       "       [25.94016216, 25.14232012, 34.34346581],\n",
       "       [25.88872587, 25.12863225, 34.25439867],\n",
       "       [25.83957882, 25.11551138, 34.16639469],\n",
       "       [25.79197752, 25.10295782, 34.07945385],\n",
       "       [25.7461246 , 25.0909714 , 33.99357609],\n",
       "       [25.702222  , 25.07955212, 33.90876146],\n",
       "       [25.6602924 , 25.06869999, 33.82500999],\n",
       "       [25.62033846, 25.058415  , 33.74232166],\n",
       "       [25.58236048, 25.04869722, 33.66069641],\n",
       "       [25.5463585 , 25.04658897, 33.58013429],\n",
       "       [25.51233252, 25.04868765, 33.50063534],\n",
       "       [25.48018157, 25.05224299, 33.42219952],\n",
       "       [25.45060842, 25.05722607, 33.34482679],\n",
       "       [25.42197347, 25.06362374, 33.26851718],\n",
       "       [25.39431218, 25.07142992, 33.19327075],\n",
       "       [25.36838556, 25.07694653, 33.11908741],\n",
       "       [25.34368723, 25.08476877, 33.04596723],\n",
       "       [25.32158928, 25.09418267, 32.97391014],\n",
       "       [25.30341797, 25.10332364, 32.90291617],\n",
       "       [25.28928113, 25.11410054, 32.83298537],\n",
       "       [25.27897288, 25.12648745, 32.75624349],\n",
       "       [25.27263056, 25.13458423, 32.68869487],\n",
       "       [25.27024578, 25.14184957, 32.62233839],\n",
       "       [25.2718171 , 25.14509555, 32.55706233],\n",
       "       [25.27734258, 25.14064645, 32.49284644],\n",
       "       [25.28682321, 25.13708927, 32.42968932],\n",
       "       [25.30025888, 25.1352963 , 30.37594723],\n",
       "       [25.31764957, 25.13535789, 27.07694165],\n",
       "       [25.33899528, 25.07976481, 27.5346064 ],\n",
       "       [25.36429603, 25.02192059, 31.92329328],\n",
       "       [25.39061125, 24.96929621, 41.16384322],\n",
       "       [25.41907702, 24.92186035, 55.5849715 ]])"
      ]
     },
     "execution_count": 36,
     "metadata": {},
     "output_type": "execute_result"
    }
   ],
   "source": [
    "lasso_cv.mse_path_   # We are getting the MSE of each fold."
   ]
  },
  {
   "cell_type": "code",
   "execution_count": 38,
   "metadata": {},
   "outputs": [
    {
     "data": {
      "text/plain": [
       "30.670821612062706"
      ]
     },
     "execution_count": 38,
     "metadata": {},
     "output_type": "execute_result"
    }
   ],
   "source": [
    "lasso_cv.mse_path_.mean()"
   ]
  },
  {
   "cell_type": "code",
   "execution_count": 40,
   "metadata": {},
   "outputs": [
    {
     "data": {
      "text/plain": [
       "[<matplotlib.lines.Line2D at 0x1cb584483c8>]"
      ]
     },
     "execution_count": 40,
     "metadata": {},
     "output_type": "execute_result"
    },
    {
     "data": {
      "image/png": "[encoded data removed]",
      "text/plain": [
       "<Figure size 432x288 with 1 Axes>"
      ]
     },
     "metadata": {
      "needs_background": "light"
     },
     "output_type": "display_data"
    }
   ],
   "source": [
    "lasso_cv.mse_path_.mean(1)\n",
    "\n",
    "plt.plot(lasso_cv.mse_path_.mean(1))"
   ]
  },
  {
   "cell_type": "markdown",
   "metadata": {},
   "source": [
    "### Ridge Regularization"
   ]
  },
  {
   "cell_type": "code",
   "execution_count": 41,
   "metadata": {},
   "outputs": [],
   "source": [
    "from sklearn.datasets import load_boston\n",
    "boston = load_boston()\n",
    "bos = pd.DataFrame(boston.data, columns = boston.feature_names)\n",
    "bos['Price'] = boston.target\n",
    "\n",
    "bos = bos.sample(frac = 1, random_state=3) \n",
    "\n",
    "y = bos['Price']\n",
    "X = bos.drop(['Price'], axis=1)"
   ]
  },
  {
   "cell_type": "code",
   "execution_count": 69,
   "metadata": {},
   "outputs": [
    {
     "data": {
      "text/plain": [
       "RidgeCV(alphas=array([0.01      , 0.01023531, 0.01047616, 0.01072267, 0.01097499,\n",
       "       0.01123324, 0.01149757, 0.01176812, 0.01204504, 0.01232847,\n",
       "       0.01261857, 0.0129155 , 0.01321941, 0.01353048, 0.01384886,\n",
       "       0.01417474, 0.01450829, 0.01484968, 0.01519911, 0.01555676,\n",
       "       0.01592283, 0.01629751, 0.01668101, 0.01707353, 0.01747528,\n",
       "       0.0178865 , 0.01830738, 0.01873817, 0.0191791 , 0.01963041,\n",
       "       0.02009...\n",
       "       0.05722368, 0.05857021, 0.05994843, 0.06135907, 0.06280291,\n",
       "       0.06428073, 0.06579332, 0.06734151, 0.06892612, 0.07054802,\n",
       "       0.07220809, 0.07390722, 0.07564633, 0.07742637, 0.07924829,\n",
       "       0.08111308, 0.08302176, 0.08497534, 0.0869749 , 0.08902151,\n",
       "       0.09111628, 0.09326033, 0.09545485, 0.097701  , 0.1       ]),\n",
       "        cv=None, fit_intercept=True, gcv_mode=None, normalize=False,\n",
       "        scoring=None, store_cv_values=True)"
      ]
     },
     "execution_count": 69,
     "metadata": {},
     "output_type": "execute_result"
    }
   ],
   "source": [
    "ridge_alphas = np.logspace(-2, -1, 100)\n",
    "ridge_cv = RidgeCV(alphas = ridge_alphas, store_cv_values=True)\n",
    "ridge_cv.fit(X, y)"
   ]
  },
  {
   "cell_type": "code",
   "execution_count": 70,
   "metadata": {},
   "outputs": [
    {
     "data": {
      "text/plain": [
       "0.03678379771828634"
      ]
     },
     "execution_count": 70,
     "metadata": {},
     "output_type": "execute_result"
    }
   ],
   "source": [
    "ridge_cv.alpha_"
   ]
  },
  {
   "cell_type": "code",
   "execution_count": 71,
   "metadata": {},
   "outputs": [
    {
     "data": {
      "text/plain": [
       "array([-1.07805433e-01,  4.64780992e-02,  1.88138779e-02,  2.68045230e+00,\n",
       "       -1.73526918e+01,  3.81310803e+00,  3.24038433e-04, -1.46946799e+00,\n",
       "        3.05078019e-01, -1.23674033e-02, -9.48157516e-01,  9.33326854e-03,\n",
       "       -5.25217160e-01])"
      ]
     },
     "execution_count": 71,
     "metadata": {},
     "output_type": "execute_result"
    }
   ],
   "source": [
    "ridge_cv.coef_"
   ]
  },
  {
   "cell_type": "code",
   "execution_count": 72,
   "metadata": {},
   "outputs": [
    {
     "data": {
      "text/html": [
       "<div>\n",
       "<style scoped>\n",
       "    .dataframe tbody tr th:only-of-type {\n",
       "        vertical-align: middle;\n",
       "    }\n",
       "\n",
       "    .dataframe tbody tr th {\n",
       "        vertical-align: top;\n",
       "    }\n",
       "\n",
       "    .dataframe thead th {\n",
       "        text-align: right;\n",
       "    }\n",
       "</style>\n",
       "<table border=\"1\" class=\"dataframe\">\n",
       "  <thead>\n",
       "    <tr style=\"text-align: right;\">\n",
       "      <th></th>\n",
       "      <th>coefs</th>\n",
       "    </tr>\n",
       "  </thead>\n",
       "  <tbody>\n",
       "    <tr>\n",
       "      <td>CRIM</td>\n",
       "      <td>-0.107805</td>\n",
       "    </tr>\n",
       "    <tr>\n",
       "      <td>ZN</td>\n",
       "      <td>0.046478</td>\n",
       "    </tr>\n",
       "    <tr>\n",
       "      <td>INDUS</td>\n",
       "      <td>0.018814</td>\n",
       "    </tr>\n",
       "    <tr>\n",
       "      <td>CHAS</td>\n",
       "      <td>2.680452</td>\n",
       "    </tr>\n",
       "    <tr>\n",
       "      <td>NOX</td>\n",
       "      <td>-17.352692</td>\n",
       "    </tr>\n",
       "    <tr>\n",
       "      <td>RM</td>\n",
       "      <td>3.813108</td>\n",
       "    </tr>\n",
       "    <tr>\n",
       "      <td>AGE</td>\n",
       "      <td>0.000324</td>\n",
       "    </tr>\n",
       "    <tr>\n",
       "      <td>DIS</td>\n",
       "      <td>-1.469468</td>\n",
       "    </tr>\n",
       "    <tr>\n",
       "      <td>RAD</td>\n",
       "      <td>0.305078</td>\n",
       "    </tr>\n",
       "    <tr>\n",
       "      <td>TAX</td>\n",
       "      <td>-0.012367</td>\n",
       "    </tr>\n",
       "    <tr>\n",
       "      <td>PTRATIO</td>\n",
       "      <td>-0.948158</td>\n",
       "    </tr>\n",
       "    <tr>\n",
       "      <td>B</td>\n",
       "      <td>0.009333</td>\n",
       "    </tr>\n",
       "    <tr>\n",
       "      <td>LSTAT</td>\n",
       "      <td>-0.525217</td>\n",
       "    </tr>\n",
       "  </tbody>\n",
       "</table>\n",
       "</div>"
      ],
      "text/plain": [
       "             coefs\n",
       "CRIM     -0.107805\n",
       "ZN        0.046478\n",
       "INDUS     0.018814\n",
       "CHAS      2.680452\n",
       "NOX     -17.352692\n",
       "RM        3.813108\n",
       "AGE       0.000324\n",
       "DIS      -1.469468\n",
       "RAD       0.305078\n",
       "TAX      -0.012367\n",
       "PTRATIO  -0.948158\n",
       "B         0.009333\n",
       "LSTAT    -0.525217"
      ]
     },
     "execution_count": 72,
     "metadata": {},
     "output_type": "execute_result"
    }
   ],
   "source": [
    "pd.DataFrame(ridge_cv.coef_, index = X.columns, columns = ['coefs'])"
   ]
  },
  {
   "cell_type": "code",
   "execution_count": 73,
   "metadata": {},
   "outputs": [
    {
     "data": {
      "text/plain": [
       "array([23.72547778, 23.72547254, 23.72546722, 23.72546184, 23.72545638,\n",
       "       23.72545085, 23.72544525, 23.72543958, 23.72543384, 23.72542804,\n",
       "       23.72542217, 23.72541624, 23.72541025, 23.7254042 , 23.72539809,\n",
       "       23.72539193, 23.72538571, 23.72537945, 23.72537315, 23.7253668 ,\n",
       "       23.72536042, 23.72535401, 23.72534756, 23.7253411 , 23.72533462,\n",
       "       23.72532813, 23.72532163, 23.72531513, 23.72530865, 23.72530217,\n",
       "       23.72529573, 23.72528931, 23.72528294, 23.72527662, 23.72527037,\n",
       "       23.72526418, 23.72525809, 23.72525209, 23.7252462 , 23.72524044,\n",
       "       23.72523481, 23.72522935, 23.72522405, 23.72521895, 23.72521405,\n",
       "       23.72520939, 23.72520497, 23.72520083, 23.72519698, 23.72519345,\n",
       "       23.72519026, 23.72518745, 23.72518504, 23.72518306, 23.72518154,\n",
       "       23.72518052, 23.72518003, 23.72518011, 23.7251808 , 23.72518214,\n",
       "       23.72518417, 23.72518694, 23.72519049, 23.72519488, 23.72520015,\n",
       "       23.72520637, 23.72521359, 23.72522187, 23.72523127, 23.72524186,\n",
       "       23.72525371, 23.7252669 , 23.72528149, 23.72529757, 23.72531523,\n",
       "       23.72533455, 23.72535562, 23.72537854, 23.72540341, 23.72543033,\n",
       "       23.72545942, 23.72549079, 23.72552455, 23.72556084, 23.72559978,\n",
       "       23.72564151, 23.72568617, 23.72573392, 23.7257849 , 23.72583927,\n",
       "       23.72589722, 23.7259589 , 23.72602451, 23.72609423, 23.72616827,\n",
       "       23.72624682, 23.72633011, 23.72641836, 23.7265118 , 23.72661067])"
      ]
     },
     "execution_count": 73,
     "metadata": {},
     "output_type": "execute_result"
    }
   ],
   "source": [
    "ridge_cv.cv_values_.mean(0)"
   ]
  },
  {
   "cell_type": "code",
   "execution_count": 74,
   "metadata": {},
   "outputs": [
    {
     "data": {
      "text/plain": [
       "[<matplotlib.lines.Line2D at 0x1cb58bd58c8>]"
      ]
     },
     "execution_count": 74,
     "metadata": {},
     "output_type": "execute_result"
    },
    {
     "data": {
      "image/png": "[encoded data removed]",
      "text/plain": [
       "<Figure size 432x288 with 1 Axes>"
      ]
     },
     "metadata": {
      "needs_background": "light"
     },
     "output_type": "display_data"
    }
   ],
   "source": [
    "plt.plot(np.logspace(-3, 1, 100), ridge_cv.cv_values_.mean(0))"
   ]
  },
  {
   "cell_type": "code",
   "execution_count": 75,
   "metadata": {},
   "outputs": [
    {
     "data": {
      "image/png": "[encoded data removed]",
      "text/plain": [
       "<Figure size 432x288 with 1 Axes>"
      ]
     },
     "metadata": {
      "needs_background": "light"
     },
     "output_type": "display_data"
    }
   ],
   "source": [
    "plt.plot(ridge_cv.alphas, ridge_cv.cv_values_.mean(0))\n",
    "plt.axvline(ridge_cv.alpha_, c = 'g')\n",
    "plt.xlabel('Alphas')\n",
    "plt.ylabel('MSE')\n",
    "plt.show()"
   ]
  },
  {
   "cell_type": "markdown",
   "metadata": {},
   "source": [
    "### Elastic Net Regularization"
   ]
  },
  {
   "cell_type": "code",
   "execution_count": 76,
   "metadata": {},
   "outputs": [
    {
     "data": {
      "text/plain": [
       "ElasticNetCV(alphas=array([0.001     , 0.00102353, 0.00104762, 0.00107227, 0.0010975 ,\n",
       "       0.00112332, 0.00114976, 0.00117681, 0.0012045 , 0.00123285,\n",
       "       0.00126186, 0.00129155, 0.00132194, 0.00135305, 0.00138489,\n",
       "       0.00141747, 0.00145083, 0.00148497, 0.00151991, 0.00155568,\n",
       "       0.00159228, 0.00162975, 0.0016681 , 0.00170735, 0.00174753,\n",
       "       0.00178865, 0.00183074, 0.00187382, 0.00191791, 0.00196304,\n",
       "       0...\n",
       "       0.00722081, 0.00739072, 0.00756463, 0.00774264, 0.00792483,\n",
       "       0.00811131, 0.00830218, 0.00849753, 0.00869749, 0.00890215,\n",
       "       0.00911163, 0.00932603, 0.00954548, 0.0097701 , 0.01      ]),\n",
       "             copy_X=True, cv=3, eps=0.001, fit_intercept=True, l1_ratio=0.5,\n",
       "             max_iter=1000, n_alphas=100, n_jobs=None, normalize=False,\n",
       "             positive=False, precompute='auto', random_state=3,\n",
       "             selection='cyclic', tol=0.0001, verbose=0)"
      ]
     },
     "execution_count": 76,
     "metadata": {},
     "output_type": "execute_result"
    }
   ],
   "source": [
    "alphas = np.logspace(-3, -2, 100)\n",
    "\n",
    "en_cv = ElasticNetCV(alphas=alphas, cv=3, random_state=3)\n",
    "en_cv.fit(X, y)"
   ]
  },
  {
   "cell_type": "code",
   "execution_count": 77,
   "metadata": {},
   "outputs": [
    {
     "data": {
      "text/plain": [
       "0.001"
      ]
     },
     "execution_count": 77,
     "metadata": {},
     "output_type": "execute_result"
    }
   ],
   "source": [
    "en_cv.alpha_"
   ]
  },
  {
   "cell_type": "markdown",
   "metadata": {},
   "source": [
    "Since optimal alpha is hitting the boundary at lowest level, we can conclude that elastic net is not required for this model."
   ]
  },
  {
   "cell_type": "code",
   "execution_count": null,
   "metadata": {},
   "outputs": [],
   "source": []
  }
 ],
 "metadata": {
  "kernelspec": {
   "display_name": "Python 3",
   "language": "python",
   "name": "python3"
  },
  "language_info": {
   "codemirror_mode": {
    "name": "ipython",
    "version": 3
   },
   "file_extension": ".py",
   "mimetype": "text/x-python",
   "name": "python",
   "nbconvert_exporter": "python",
   "pygments_lexer": "ipython3",
   "version": "3.7.4"
  }
 },
 "nbformat": 4,
 "nbformat_minor": 2
}
