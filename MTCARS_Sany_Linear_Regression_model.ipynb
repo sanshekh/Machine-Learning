{
 "cells": [
  {
   "cell_type": "code",
   "execution_count": 1,
   "metadata": {},
   "outputs": [],
   "source": [
    "import numpy as np\n",
    "import pandas as pd\n",
    "import matplotlib.pyplot as plt\n",
    "import seaborn as sns\n",
    "%matplotlib inline"
   ]
  },
  {
   "cell_type": "code",
   "execution_count": 2,
   "metadata": {},
   "outputs": [
    {
     "data": {
      "text/html": [
       "<div>\n",
       "<style scoped>\n",
       "    .dataframe tbody tr th:only-of-type {\n",
       "        vertical-align: middle;\n",
       "    }\n",
       "\n",
       "    .dataframe tbody tr th {\n",
       "        vertical-align: top;\n",
       "    }\n",
       "\n",
       "    .dataframe thead th {\n",
       "        text-align: right;\n",
       "    }\n",
       "</style>\n",
       "<table border=\"1\" class=\"dataframe\">\n",
       "  <thead>\n",
       "    <tr style=\"text-align: right;\">\n",
       "      <th></th>\n",
       "      <th>model</th>\n",
       "      <th>mpg</th>\n",
       "      <th>cyl</th>\n",
       "      <th>disp</th>\n",
       "      <th>hp</th>\n",
       "      <th>drat</th>\n",
       "      <th>wt</th>\n",
       "      <th>qsec</th>\n",
       "      <th>vs</th>\n",
       "      <th>am</th>\n",
       "      <th>gear</th>\n",
       "      <th>carb</th>\n",
       "    </tr>\n",
       "  </thead>\n",
       "  <tbody>\n",
       "    <tr>\n",
       "      <th>0</th>\n",
       "      <td>Mazda RX4</td>\n",
       "      <td>21.0</td>\n",
       "      <td>6</td>\n",
       "      <td>160.0</td>\n",
       "      <td>110</td>\n",
       "      <td>3.90</td>\n",
       "      <td>2.620</td>\n",
       "      <td>16.46</td>\n",
       "      <td>0</td>\n",
       "      <td>1</td>\n",
       "      <td>4</td>\n",
       "      <td>4</td>\n",
       "    </tr>\n",
       "    <tr>\n",
       "      <th>1</th>\n",
       "      <td>Mazda RX4 Wag</td>\n",
       "      <td>21.0</td>\n",
       "      <td>6</td>\n",
       "      <td>160.0</td>\n",
       "      <td>110</td>\n",
       "      <td>3.90</td>\n",
       "      <td>2.875</td>\n",
       "      <td>17.02</td>\n",
       "      <td>0</td>\n",
       "      <td>1</td>\n",
       "      <td>4</td>\n",
       "      <td>4</td>\n",
       "    </tr>\n",
       "    <tr>\n",
       "      <th>2</th>\n",
       "      <td>Datsun 710</td>\n",
       "      <td>22.8</td>\n",
       "      <td>4</td>\n",
       "      <td>108.0</td>\n",
       "      <td>93</td>\n",
       "      <td>3.85</td>\n",
       "      <td>2.320</td>\n",
       "      <td>18.61</td>\n",
       "      <td>1</td>\n",
       "      <td>1</td>\n",
       "      <td>4</td>\n",
       "      <td>1</td>\n",
       "    </tr>\n",
       "    <tr>\n",
       "      <th>3</th>\n",
       "      <td>Hornet 4 Drive</td>\n",
       "      <td>21.4</td>\n",
       "      <td>6</td>\n",
       "      <td>258.0</td>\n",
       "      <td>110</td>\n",
       "      <td>3.08</td>\n",
       "      <td>3.215</td>\n",
       "      <td>19.44</td>\n",
       "      <td>1</td>\n",
       "      <td>0</td>\n",
       "      <td>3</td>\n",
       "      <td>1</td>\n",
       "    </tr>\n",
       "    <tr>\n",
       "      <th>4</th>\n",
       "      <td>Hornet Sportabout</td>\n",
       "      <td>18.7</td>\n",
       "      <td>8</td>\n",
       "      <td>360.0</td>\n",
       "      <td>175</td>\n",
       "      <td>3.15</td>\n",
       "      <td>3.440</td>\n",
       "      <td>17.02</td>\n",
       "      <td>0</td>\n",
       "      <td>0</td>\n",
       "      <td>3</td>\n",
       "      <td>2</td>\n",
       "    </tr>\n",
       "  </tbody>\n",
       "</table>\n",
       "</div>"
      ],
      "text/plain": [
       "               model   mpg  cyl   disp   hp  drat     wt   qsec  vs  am  gear  \\\n",
       "0          Mazda RX4  21.0    6  160.0  110  3.90  2.620  16.46   0   1     4   \n",
       "1      Mazda RX4 Wag  21.0    6  160.0  110  3.90  2.875  17.02   0   1     4   \n",
       "2         Datsun 710  22.8    4  108.0   93  3.85  2.320  18.61   1   1     4   \n",
       "3     Hornet 4 Drive  21.4    6  258.0  110  3.08  3.215  19.44   1   0     3   \n",
       "4  Hornet Sportabout  18.7    8  360.0  175  3.15  3.440  17.02   0   0     3   \n",
       "\n",
       "   carb  \n",
       "0     4  \n",
       "1     4  \n",
       "2     1  \n",
       "3     1  \n",
       "4     2  "
      ]
     },
     "execution_count": 2,
     "metadata": {},
     "output_type": "execute_result"
    }
   ],
   "source": [
    "df = pd.read_csv('mtcars.csv')\n",
    "df.head()"
   ]
  },
  {
   "cell_type": "code",
   "execution_count": 3,
   "metadata": {},
   "outputs": [
    {
     "data": {
      "text/plain": [
       "(32, 12)"
      ]
     },
     "execution_count": 3,
     "metadata": {},
     "output_type": "execute_result"
    }
   ],
   "source": [
    "df.shape"
   ]
  },
  {
   "cell_type": "code",
   "execution_count": 4,
   "metadata": {},
   "outputs": [
    {
     "data": {
      "text/plain": [
       "model    0\n",
       "mpg      0\n",
       "cyl      0\n",
       "disp     0\n",
       "hp       0\n",
       "drat     0\n",
       "wt       0\n",
       "qsec     0\n",
       "vs       0\n",
       "am       0\n",
       "gear     0\n",
       "carb     0\n",
       "dtype: int64"
      ]
     },
     "execution_count": 4,
     "metadata": {},
     "output_type": "execute_result"
    }
   ],
   "source": [
    "df.isnull().sum()"
   ]
  },
  {
   "cell_type": "markdown",
   "metadata": {},
   "source": [
    "- There are no missing values"
   ]
  },
  {
   "cell_type": "code",
   "execution_count": 5,
   "metadata": {},
   "outputs": [
    {
     "data": {
      "text/plain": [
       "(32, 11)"
      ]
     },
     "execution_count": 5,
     "metadata": {},
     "output_type": "execute_result"
    }
   ],
   "source": [
    "df = df.drop('model',1)\n",
    "df.shape"
   ]
  },
  {
   "cell_type": "markdown",
   "metadata": {},
   "source": [
    "- Dropped the column model as it's not significant for preparing the model."
   ]
  },
  {
   "cell_type": "markdown",
   "metadata": {},
   "source": [
    "### Chceking the features distribution"
   ]
  },
  {
   "cell_type": "code",
   "execution_count": 6,
   "metadata": {},
   "outputs": [
    {
     "data": {
      "image/png": "[encoded data removed]",
      "text/plain": [
       "<Figure size 432x288 with 1 Axes>"
      ]
     },
     "metadata": {
      "needs_background": "light"
     },
     "output_type": "display_data"
    },
    {
     "data": {
      "image/png": "[encoded data removed]",
      "text/plain": [
       "<Figure size 432x288 with 1 Axes>"
      ]
     },
     "metadata": {
      "needs_background": "light"
     },
     "output_type": "display_data"
    },
    {
     "data": {
      "image/png": "[encoded data removed]",
      "text/plain": [
       "<Figure size 432x288 with 1 Axes>"
      ]
     },
     "metadata": {
      "needs_background": "light"
     },
     "output_type": "display_data"
    },
    {
     "data": {
      "image/png": "[encoded data removed]",
      "text/plain": [
       "<Figure size 432x288 with 1 Axes>"
      ]
     },
     "metadata": {
      "needs_background": "light"
     },
     "output_type": "display_data"
    },
    {
     "data": {
      "image/png": "[encoded data removed]",
      "text/plain": [
       "<Figure size 432x288 with 1 Axes>"
      ]
     },
     "metadata": {
      "needs_background": "light"
     },
     "output_type": "display_data"
    },
    {
     "data": {
      "image/png": "[encoded data removed]",
      "text/plain": [
       "<Figure size 432x288 with 1 Axes>"
      ]
     },
     "metadata": {
      "needs_background": "light"
     },
     "output_type": "display_data"
    },
    {
     "data": {
      "image/png": "[encoded data removed]",
      "text/plain": [
       "<Figure size 432x288 with 1 Axes>"
      ]
     },
     "metadata": {
      "needs_background": "light"
     },
     "output_type": "display_data"
    },
    {
     "data": {
      "image/png": "[encoded data removed]",
      "text/plain": [
       "<Figure size 432x288 with 1 Axes>"
      ]
     },
     "metadata": {
      "needs_background": "light"
     },
     "output_type": "display_data"
    },
    {
     "data": {
      "image/png": "[encoded data removed]",
      "text/plain": [
       "<Figure size 432x288 with 1 Axes>"
      ]
     },
     "metadata": {
      "needs_background": "light"
     },
     "output_type": "display_data"
    },
    {
     "data": {
      "image/png": "[encoded data removed]",
      "text/plain": [
       "<Figure size 432x288 with 1 Axes>"
      ]
     },
     "metadata": {
      "needs_background": "light"
     },
     "output_type": "display_data"
    },
    {
     "data": {
      "image/png": "[encoded data removed]",
      "text/plain": [
       "<Figure size 432x288 with 1 Axes>"
      ]
     },
     "metadata": {
      "needs_background": "light"
     },
     "output_type": "display_data"
    }
   ],
   "source": [
    "for i in df:\n",
    "    sns.distplot(df[i], color='g')\n",
    "    plt.axvline(df[i].mean(), color='r', linestyle='--')\n",
    "    plt.show()"
   ]
  },
  {
   "cell_type": "code",
   "execution_count": 7,
   "metadata": {},
   "outputs": [
    {
     "data": {
      "image/png": "[encoded data removed]",
      "text/plain": [
       "<Figure size 432x288 with 1 Axes>"
      ]
     },
     "metadata": {
      "needs_background": "light"
     },
     "output_type": "display_data"
    },
    {
     "data": {
      "image/png": "[encoded data removed]",
      "text/plain": [
       "<Figure size 432x288 with 1 Axes>"
      ]
     },
     "metadata": {
      "needs_background": "light"
     },
     "output_type": "display_data"
    },
    {
     "data": {
      "image/png": "[encoded data removed]",
      "text/plain": [
       "<Figure size 432x288 with 1 Axes>"
      ]
     },
     "metadata": {
      "needs_background": "light"
     },
     "output_type": "display_data"
    },
    {
     "data": {
      "image/png": "[encoded data removed]",
      "text/plain": [
       "<Figure size 432x288 with 1 Axes>"
      ]
     },
     "metadata": {
      "needs_background": "light"
     },
     "output_type": "display_data"
    },
    {
     "data": {
      "image/png": "[encoded data removed]",
      "text/plain": [
       "<Figure size 432x288 with 1 Axes>"
      ]
     },
     "metadata": {
      "needs_background": "light"
     },
     "output_type": "display_data"
    },
    {
     "data": {
      "image/png": "[encoded data removed]",
      "text/plain": [
       "<Figure size 432x288 with 1 Axes>"
      ]
     },
     "metadata": {
      "needs_background": "light"
     },
     "output_type": "display_data"
    },
    {
     "data": {
      "image/png": "[encoded data removed]",
      "text/plain": [
       "<Figure size 432x288 with 1 Axes>"
      ]
     },
     "metadata": {
      "needs_background": "light"
     },
     "output_type": "display_data"
    },
    {
     "data": {
      "image/png": "[encoded data removed]",
      "text/plain": [
       "<Figure size 432x288 with 1 Axes>"
      ]
     },
     "metadata": {
      "needs_background": "light"
     },
     "output_type": "display_data"
    },
    {
     "data": {
      "image/png": "[encoded data removed]",
      "text/plain": [
       "<Figure size 432x288 with 1 Axes>"
      ]
     },
     "metadata": {
      "needs_background": "light"
     },
     "output_type": "display_data"
    },
    {
     "data": {
      "image/png": "[encoded data removed]",
      "text/plain": [
       "<Figure size 432x288 with 1 Axes>"
      ]
     },
     "metadata": {
      "needs_background": "light"
     },
     "output_type": "display_data"
    },
    {
     "data": {
      "image/png": "[encoded data removed]",
      "text/plain": [
       "<Figure size 432x288 with 1 Axes>"
      ]
     },
     "metadata": {
      "needs_background": "light"
     },
     "output_type": "display_data"
    }
   ],
   "source": [
    "### Chceking if the dataset has outliers\n",
    "\n",
    "for i in df.columns:\n",
    "    sns.boxplot(df[i])\n",
    "    plt.show()"
   ]
  },
  {
   "cell_type": "code",
   "execution_count": 8,
   "metadata": {},
   "outputs": [
    {
     "data": {
      "image/png": "[encoded data removed]",
      "text/plain": [
       "<Figure size 864x360 with 1 Axes>"
      ]
     },
     "metadata": {
      "needs_background": "light"
     },
     "output_type": "display_data"
    }
   ],
   "source": [
    "plt.figure(figsize=(12,5))\n",
    "sns.boxplot(data=df)\n",
    "plt.show()"
   ]
  },
  {
   "cell_type": "markdown",
   "metadata": {},
   "source": [
    "-There are outliers in the dataset."
   ]
  },
  {
   "cell_type": "code",
   "execution_count": 9,
   "metadata": {},
   "outputs": [
    {
     "data": {
      "text/plain": [
       "Index(['mpg', 'cyl', 'disp', 'hp', 'drat', 'wt', 'qsec', 'vs', 'am', 'gear',\n",
       "       'carb'],\n",
       "      dtype='object')"
      ]
     },
     "execution_count": 9,
     "metadata": {},
     "output_type": "execute_result"
    }
   ],
   "source": [
    "df.columns"
   ]
  },
  {
   "cell_type": "markdown",
   "metadata": {},
   "source": [
    "### Building the Model without Outliers Treatment"
   ]
  },
  {
   "cell_type": "code",
   "execution_count": 10,
   "metadata": {},
   "outputs": [],
   "source": [
    "# Defining the independant and the dependent features\n",
    "\n",
    "X = df.drop('mpg', axis=1)\n",
    "y = df['mpg']"
   ]
  },
  {
   "cell_type": "markdown",
   "metadata": {},
   "source": [
    "#### Splitting the data"
   ]
  },
  {
   "cell_type": "code",
   "execution_count": 11,
   "metadata": {},
   "outputs": [],
   "source": [
    "from sklearn.model_selection import train_test_split"
   ]
  },
  {
   "cell_type": "code",
   "execution_count": 12,
   "metadata": {},
   "outputs": [],
   "source": [
    "X_train, X_test, y_train, y_test = train_test_split(X, y, test_size=0.30, random_state=42)"
   ]
  },
  {
   "cell_type": "markdown",
   "metadata": {},
   "source": [
    "### Building OLS Model"
   ]
  },
  {
   "cell_type": "code",
   "execution_count": 13,
   "metadata": {},
   "outputs": [],
   "source": [
    "import statsmodels.api as sm"
   ]
  },
  {
   "cell_type": "code",
   "execution_count": 14,
   "metadata": {},
   "outputs": [
    {
     "name": "stdout",
     "output_type": "stream",
     "text": [
      "                            OLS Regression Results                            \n",
      "==============================================================================\n",
      "Dep. Variable:                    mpg   R-squared:                       0.869\n",
      "Model:                            OLS   Adj. R-squared:                  0.807\n",
      "Method:                 Least Squares   F-statistic:                     13.93\n",
      "Date:                Mon, 27 Jul 2020   Prob (F-statistic):           3.79e-07\n",
      "Time:                        17:42:48   Log-Likelihood:                -69.855\n",
      "No. Observations:                  32   AIC:                             161.7\n",
      "Df Residuals:                      21   BIC:                             177.8\n",
      "Df Model:                          10                                         \n",
      "Covariance Type:            nonrobust                                         \n",
      "==============================================================================\n",
      "                 coef    std err          t      P>|t|      [0.025      0.975]\n",
      "------------------------------------------------------------------------------\n",
      "const         12.3034     18.718      0.657      0.518     -26.623      51.229\n",
      "cyl           -0.1114      1.045     -0.107      0.916      -2.285       2.062\n",
      "disp           0.0133      0.018      0.747      0.463      -0.024       0.050\n",
      "hp            -0.0215      0.022     -0.987      0.335      -0.067       0.024\n",
      "drat           0.7871      1.635      0.481      0.635      -2.614       4.188\n",
      "wt            -3.7153      1.894     -1.961      0.063      -7.655       0.224\n",
      "qsec           0.8210      0.731      1.123      0.274      -0.699       2.341\n",
      "vs             0.3178      2.105      0.151      0.881      -4.059       4.694\n",
      "am             2.5202      2.057      1.225      0.234      -1.757       6.797\n",
      "gear           0.6554      1.493      0.439      0.665      -2.450       3.761\n",
      "carb          -0.1994      0.829     -0.241      0.812      -1.923       1.524\n",
      "==============================================================================\n",
      "Omnibus:                        1.907   Durbin-Watson:                   1.861\n",
      "Prob(Omnibus):                  0.385   Jarque-Bera (JB):                1.747\n",
      "Skew:                           0.521   Prob(JB):                        0.418\n",
      "Kurtosis:                       2.526   Cond. No.                     1.22e+04\n",
      "==============================================================================\n",
      "\n",
      "Warnings:\n",
      "[1] Standard Errors assume that the covariance matrix of the errors is correctly specified.\n",
      "[2] The condition number is large, 1.22e+04. This might indicate that there are\n",
      "strong multicollinearity or other numerical problems.\n"
     ]
    }
   ],
   "source": [
    "Xc = sm.add_constant(X)\n",
    "model = sm.OLS(y, Xc).fit()\n",
    "print(model.summary())"
   ]
  },
  {
   "cell_type": "markdown",
   "metadata": {},
   "source": [
    "- Based on the Durbin-Watson test we can interpret that there is almost no auto correlation."
   ]
  },
  {
   "cell_type": "markdown",
   "metadata": {},
   "source": [
    "#### Checking the model performance measure"
   ]
  },
  {
   "cell_type": "code",
   "execution_count": 15,
   "metadata": {},
   "outputs": [
    {
     "name": "stdout",
     "output_type": "stream",
     "text": [
      "R^2 score for train: 0.8609650315534105\n",
      "R^2 score for test: 0.8869538413492843\n"
     ]
    }
   ],
   "source": [
    "from sklearn.linear_model import LinearRegression\n",
    "\n",
    "lin_reg = LinearRegression()\n",
    "lin_reg.fit(X,y)\n",
    "y_pred = lin_reg.predict(X_test)\n",
    "y_pred_train = lin_reg.predict(X_train)\n",
    "\n",
    "print(\"R^2 score for train: {}\".format(lin_reg.score(X_train, y_train)))\n",
    "print(\"R^2 score for test: {}\".format(lin_reg.score(X_test, y_test)))"
   ]
  },
  {
   "cell_type": "code",
   "execution_count": 16,
   "metadata": {},
   "outputs": [
    {
     "name": "stdout",
     "output_type": "stream",
     "text": [
      "Coefficients: [-0.11144048  0.01333524 -0.02148212  0.78711097 -3.71530393  0.82104075\n",
      "  0.31776281  2.52022689  0.65541302 -0.19941925]\n",
      "Intercept: 12.303374155996305\n",
      "R^2 score: 0.8690157644777647\n"
     ]
    }
   ],
   "source": [
    "print(f'Coefficients: {lin_reg.coef_}')\n",
    "print(f'Intercept: {lin_reg.intercept_}')\n",
    "print(f'R^2 score: {lin_reg.score(X, y)}')"
   ]
  },
  {
   "cell_type": "code",
   "execution_count": 17,
   "metadata": {},
   "outputs": [
    {
     "name": "stdout",
     "output_type": "stream",
     "text": [
      "1.5150367191771092\n",
      "1.9601015413797032\n"
     ]
    }
   ],
   "source": [
    "from sklearn.metrics import mean_absolute_error, mean_squared_error\n",
    "print(mean_absolute_error(y_test, y_pred))\n",
    "print(np.sqrt(mean_squared_error(y_test, y_pred)))"
   ]
  },
  {
   "cell_type": "markdown",
   "metadata": {},
   "source": [
    "## Assumptions Of Linear Regression"
   ]
  },
  {
   "cell_type": "markdown",
   "metadata": {},
   "source": [
    "#### 1. No Autocorrelation"
   ]
  },
  {
   "cell_type": "code",
   "execution_count": 18,
   "metadata": {},
   "outputs": [
    {
     "name": "stderr",
     "output_type": "stream",
     "text": [
      "<ipython-input-18-3374cb46d92d>:4: UserWarning: Matplotlib is currently using module://ipykernel.pylab.backend_inline, which is a non-GUI backend, so cannot show the figure.\n",
      "  acf.show()\n"
     ]
    },
    {
     "data": {
      "image/png": "[encoded data removed]",
      "text/plain": [
       "<Figure size 432x288 with 1 Axes>"
      ]
     },
     "metadata": {
      "needs_background": "light"
     },
     "output_type": "display_data"
    }
   ],
   "source": [
    "import statsmodels.tsa.api as smt\n",
    "\n",
    "acf = smt.graphics.plot_acf(model.resid, lags=30, alpha=0.05)\n",
    "acf.show()"
   ]
  },
  {
   "cell_type": "markdown",
   "metadata": {},
   "source": [
    "- Based on the plot and the Durbin Watson test there is a bit of positive correlation."
   ]
  },
  {
   "cell_type": "markdown",
   "metadata": {},
   "source": [
    "### 2. Linearity in Residuals"
   ]
  },
  {
   "cell_type": "code",
   "execution_count": 19,
   "metadata": {},
   "outputs": [
    {
     "data": {
      "image/png": "[encoded data removed]",
      "text/plain": [
       "<Figure size 432x288 with 1 Axes>"
      ]
     },
     "metadata": {
      "needs_background": "light"
     },
     "output_type": "display_data"
    }
   ],
   "source": [
    "from scipy import stats\n",
    "stats.probplot(model.resid, plot=plt)\n",
    "plt.show()"
   ]
  },
  {
   "cell_type": "code",
   "execution_count": 20,
   "metadata": {},
   "outputs": [
    {
     "data": {
      "image/png": "[encoded data removed]",
      "text/plain": [
       "<Figure size 792x360 with 2 Axes>"
      ]
     },
     "metadata": {
      "needs_background": "light"
     },
     "output_type": "display_data"
    }
   ],
   "source": [
    "fitted_vals = model.predict()\n",
    "resids = model.resid\n",
    "\n",
    "fig, ax = plt.subplots(1,2, figsize=(11,5))\n",
    "\n",
    "sns.regplot(x=fitted_vals, y=y, ax=ax[0], lowess=True, line_kws={'color':'red'})\n",
    "ax[0].set_title(\"Predicted vs Observed\")\n",
    "ax[0].set(xlabel='Predicted', ylabel='Observed')\n",
    "\n",
    "sns.regplot(x=fitted_vals, y=resids, ax=ax[1], lowess=True, line_kws={'color':'red'})\n",
    "ax[1].set_title(\"Predicted vs Residuals\")\n",
    "ax[1].set(xlabel='Predicted', ylabel='Residuals')\n",
    "plt.show()"
   ]
  },
  {
   "cell_type": "code",
   "execution_count": 21,
   "metadata": {},
   "outputs": [
    {
     "name": "stdout",
     "output_type": "stream",
     "text": [
      "[('F-statistics', 3.857711147953162), ('p-value', 0.07119712038953625)]\n"
     ]
    }
   ],
   "source": [
    "from statsmodels.compat import lzip\n",
    "import statsmodels.api as sm\n",
    "\n",
    "name = ['F-statistics', 'p-value']\n",
    "test = sm.stats.linear_rainbow(res=model, frac=0.5)\n",
    "print(lzip(name, test))"
   ]
  },
  {
   "cell_type": "markdown",
   "metadata": {},
   "source": [
    "Since p-val> 0.05, we'll accept null hypothesis and conclude that there is linearity in residuals."
   ]
  },
  {
   "cell_type": "markdown",
   "metadata": {},
   "source": [
    "### 3.Normality in Residuals"
   ]
  },
  {
   "cell_type": "code",
   "execution_count": 22,
   "metadata": {},
   "outputs": [
    {
     "data": {
      "text/plain": [
       "Jarque_beraResult(statistic=1.7466576018548121, pvalue=0.41755926155190337)"
      ]
     },
     "execution_count": 22,
     "metadata": {},
     "output_type": "execute_result"
    }
   ],
   "source": [
    "from scipy import stats\n",
    "stats.jarque_bera(model.resid)"
   ]
  },
  {
   "cell_type": "markdown",
   "metadata": {},
   "source": [
    "- Since p-val is greator than 0.05, so we'll accept the null hypothesis and conclude that the residuals are normally distributed."
   ]
  },
  {
   "cell_type": "code",
   "execution_count": 23,
   "metadata": {},
   "outputs": [
    {
     "data": {
      "image/png": "[encoded data removed]",
      "text/plain": [
       "<Figure size 432x288 with 1 Axes>"
      ]
     },
     "metadata": {
      "needs_background": "light"
     },
     "output_type": "display_data"
    }
   ],
   "source": [
    "sns.distplot(model.resid)\n",
    "plt.show()"
   ]
  },
  {
   "cell_type": "code",
   "execution_count": 24,
   "metadata": {},
   "outputs": [
    {
     "data": {
      "image/png": "[encoded data removed]",
      "text/plain": [
       "<Figure size 432x288 with 1 Axes>"
      ]
     },
     "metadata": {
      "needs_background": "light"
     },
     "output_type": "display_data"
    }
   ],
   "source": [
    "from scipy.stats import norm\n",
    "norm.fit(model.resid)\n",
    "sns.distplot(model.resid, fit=norm)\n",
    "plt.show()"
   ]
  },
  {
   "cell_type": "markdown",
   "metadata": {},
   "source": [
    "### 4. Homoscedasticity"
   ]
  },
  {
   "cell_type": "code",
   "execution_count": 25,
   "metadata": {},
   "outputs": [
    {
     "data": {
      "image/png": "[encoded data removed]",
      "text/plain": [
       "<Figure size 432x288 with 1 Axes>"
      ]
     },
     "metadata": {
      "needs_background": "light"
     },
     "output_type": "display_data"
    }
   ],
   "source": [
    "sns.residplot(y, model.resid)\n",
    "plt.show()"
   ]
  },
  {
   "cell_type": "code",
   "execution_count": 26,
   "metadata": {},
   "outputs": [
    {
     "name": "stdout",
     "output_type": "stream",
     "text": [
      "[('F-statistics', 28.863993040889987), ('p-value', 0.001074898144721464)]\n"
     ]
    }
   ],
   "source": [
    "import statsmodels.stats.api as sms\n",
    "\n",
    "name = ['F-statistics', 'p-value']\n",
    "test = sms.het_goldfeldquandt(model.resid, model.model.exog)\n",
    "\n",
    "print(lzip(name, test))"
   ]
  },
  {
   "cell_type": "markdown",
   "metadata": {},
   "source": [
    "- Since p-val is greator than 0.05, so we'll accept the null hypothesis and conclude that the residuals are uniformally distributed."
   ]
  },
  {
   "cell_type": "markdown",
   "metadata": {},
   "source": [
    "### 5. No Multicollinearity"
   ]
  },
  {
   "cell_type": "code",
   "execution_count": 27,
   "metadata": {},
   "outputs": [
    {
     "data": {
      "image/png": "[encoded data removed]",
      "text/plain": [
       "<Figure size 864x432 with 2 Axes>"
      ]
     },
     "metadata": {
      "needs_background": "light"
     },
     "output_type": "display_data"
    }
   ],
   "source": [
    "# Checking the correlation of the independent features\n",
    "\n",
    "plt.figure(figsize=(12,6))\n",
    "ax = sns.heatmap(X.corr(), annot=True)\n",
    "bottom, top = ax.get_ylim()\n",
    "ax.set_ylim(bottom+0.5, top-0.5)\n",
    "plt.show()"
   ]
  },
  {
   "cell_type": "code",
   "execution_count": 28,
   "metadata": {},
   "outputs": [],
   "source": [
    "from statsmodels.stats.outliers_influence import variance_inflation_factor as vif"
   ]
  },
  {
   "cell_type": "code",
   "execution_count": 29,
   "metadata": {},
   "outputs": [
    {
     "data": {
      "text/html": [
       "<div>\n",
       "<style scoped>\n",
       "    .dataframe tbody tr th:only-of-type {\n",
       "        vertical-align: middle;\n",
       "    }\n",
       "\n",
       "    .dataframe tbody tr th {\n",
       "        vertical-align: top;\n",
       "    }\n",
       "\n",
       "    .dataframe thead th {\n",
       "        text-align: right;\n",
       "    }\n",
       "</style>\n",
       "<table border=\"1\" class=\"dataframe\">\n",
       "  <thead>\n",
       "    <tr style=\"text-align: right;\">\n",
       "      <th></th>\n",
       "      <th>Vif_value</th>\n",
       "    </tr>\n",
       "  </thead>\n",
       "  <tbody>\n",
       "    <tr>\n",
       "      <th>const</th>\n",
       "      <td>1596.273030</td>\n",
       "    </tr>\n",
       "    <tr>\n",
       "      <th>cyl</th>\n",
       "      <td>15.373833</td>\n",
       "    </tr>\n",
       "    <tr>\n",
       "      <th>disp</th>\n",
       "      <td>21.620241</td>\n",
       "    </tr>\n",
       "    <tr>\n",
       "      <th>hp</th>\n",
       "      <td>9.832037</td>\n",
       "    </tr>\n",
       "    <tr>\n",
       "      <th>drat</th>\n",
       "      <td>3.374620</td>\n",
       "    </tr>\n",
       "    <tr>\n",
       "      <th>wt</th>\n",
       "      <td>15.164887</td>\n",
       "    </tr>\n",
       "    <tr>\n",
       "      <th>qsec</th>\n",
       "      <td>7.527958</td>\n",
       "    </tr>\n",
       "    <tr>\n",
       "      <th>vs</th>\n",
       "      <td>4.965873</td>\n",
       "    </tr>\n",
       "    <tr>\n",
       "      <th>am</th>\n",
       "      <td>4.648487</td>\n",
       "    </tr>\n",
       "    <tr>\n",
       "      <th>gear</th>\n",
       "      <td>5.357452</td>\n",
       "    </tr>\n",
       "    <tr>\n",
       "      <th>carb</th>\n",
       "      <td>7.908747</td>\n",
       "    </tr>\n",
       "  </tbody>\n",
       "</table>\n",
       "</div>"
      ],
      "text/plain": [
       "         Vif_value\n",
       "const  1596.273030\n",
       "cyl      15.373833\n",
       "disp     21.620241\n",
       "hp        9.832037\n",
       "drat      3.374620\n",
       "wt       15.164887\n",
       "qsec      7.527958\n",
       "vs        4.965873\n",
       "am        4.648487\n",
       "gear      5.357452\n",
       "carb      7.908747"
      ]
     },
     "execution_count": 29,
     "metadata": {},
     "output_type": "execute_result"
    }
   ],
   "source": [
    "pd.DataFrame([vif(Xc.values, i) for i in range(Xc.shape[1])], index=Xc.columns, columns=['Vif_value'])"
   ]
  },
  {
   "cell_type": "markdown",
   "metadata": {},
   "source": [
    "- Based on the Vif values, there seem to be multicollinearity."
   ]
  },
  {
   "cell_type": "code",
   "execution_count": 30,
   "metadata": {},
   "outputs": [],
   "source": [
    "Xc1 = X.drop('disp', axis=1)"
   ]
  },
  {
   "cell_type": "code",
   "execution_count": 31,
   "metadata": {},
   "outputs": [
    {
     "data": {
      "text/html": [
       "<div>\n",
       "<style scoped>\n",
       "    .dataframe tbody tr th:only-of-type {\n",
       "        vertical-align: middle;\n",
       "    }\n",
       "\n",
       "    .dataframe tbody tr th {\n",
       "        vertical-align: top;\n",
       "    }\n",
       "\n",
       "    .dataframe thead th {\n",
       "        text-align: right;\n",
       "    }\n",
       "</style>\n",
       "<table border=\"1\" class=\"dataframe\">\n",
       "  <thead>\n",
       "    <tr style=\"text-align: right;\">\n",
       "      <th></th>\n",
       "      <th>vif_value</th>\n",
       "    </tr>\n",
       "  </thead>\n",
       "  <tbody>\n",
       "    <tr>\n",
       "      <th>cyl</th>\n",
       "      <td>96.707994</td>\n",
       "    </tr>\n",
       "    <tr>\n",
       "      <th>hp</th>\n",
       "      <td>40.467587</td>\n",
       "    </tr>\n",
       "    <tr>\n",
       "      <th>drat</th>\n",
       "      <td>129.763464</td>\n",
       "    </tr>\n",
       "    <tr>\n",
       "      <th>wt</th>\n",
       "      <td>74.211685</td>\n",
       "    </tr>\n",
       "    <tr>\n",
       "      <th>qsec</th>\n",
       "      <td>259.663980</td>\n",
       "    </tr>\n",
       "    <tr>\n",
       "      <th>vs</th>\n",
       "      <td>8.661065</td>\n",
       "    </tr>\n",
       "    <tr>\n",
       "      <th>am</th>\n",
       "      <td>7.407920</td>\n",
       "    </tr>\n",
       "    <tr>\n",
       "      <th>gear</th>\n",
       "      <td>118.749935</td>\n",
       "    </tr>\n",
       "    <tr>\n",
       "      <th>carb</th>\n",
       "      <td>17.258037</td>\n",
       "    </tr>\n",
       "  </tbody>\n",
       "</table>\n",
       "</div>"
      ],
      "text/plain": [
       "       vif_value\n",
       "cyl    96.707994\n",
       "hp     40.467587\n",
       "drat  129.763464\n",
       "wt     74.211685\n",
       "qsec  259.663980\n",
       "vs      8.661065\n",
       "am      7.407920\n",
       "gear  118.749935\n",
       "carb   17.258037"
      ]
     },
     "execution_count": 31,
     "metadata": {},
     "output_type": "execute_result"
    }
   ],
   "source": [
    "pd.DataFrame([vif(Xc1.values,i) for i in range(Xc1.shape[1])], index=Xc1.columns, columns=['vif_value'])"
   ]
  },
  {
   "cell_type": "markdown",
   "metadata": {},
   "source": [
    "- By removing the highest vif value feature the collinearity increases, we'll continue using the earlier features."
   ]
  },
  {
   "cell_type": "markdown",
   "metadata": {},
   "source": [
    "### Ridge Regularisation"
   ]
  },
  {
   "cell_type": "code",
   "execution_count": 32,
   "metadata": {},
   "outputs": [],
   "source": [
    "from sklearn.linear_model import Ridge, RidgeCV"
   ]
  },
  {
   "cell_type": "code",
   "execution_count": 33,
   "metadata": {},
   "outputs": [
    {
     "data": {
      "text/plain": [
       "RidgeCV(alphas=array([ 1.00002303,  1.01166116,  1.02343473,  1.03534532,  1.04739453,\n",
       "        1.05958396,  1.07191526,  1.08439006,  1.09701004,  1.10977689,\n",
       "        1.12269233,  1.13575806,  1.14897586,  1.16234748,  1.17587472,\n",
       "        1.18955939,  1.20340332,  1.21740836,  1.2315764 ,  1.24590931,\n",
       "        1.26040903,  1.2750775 ,  1.28991668,  1.30492855,  1.32011513,\n",
       "        1.33547845,  1.35102056,  1.36674356,  1.38264953,  1.39874062,...\n",
       "        6.7475706 ,  6.8260979 ,  6.90553909,  6.9859048 ,  7.06720581,\n",
       "        7.14945298,  7.23265733,  7.31683   ,  7.40198227,  7.48812552,\n",
       "        7.5752713 ,  7.66343126,  7.75261722,  7.84284112,  7.93411503,\n",
       "        8.02645117,  8.1198619 ,  8.21435974,  8.30995733,  8.40666748,\n",
       "        8.50450312,  8.60347736,  8.70360345,  8.80489479,  8.90736495,\n",
       "        9.01102764,  9.11589674,  9.22198629,  9.3293105 ,  9.43788374,\n",
       "        9.54772053,  9.65883559,  9.7712438 ,  9.88496019, 10.        ]),\n",
       "        cv=3, scoring='r2')"
      ]
     },
     "execution_count": 33,
     "metadata": {},
     "output_type": "execute_result"
    }
   ],
   "source": [
    "alphas = np.logspace(0.00001, 1, 200)\n",
    "\n",
    "ridge_cv = RidgeCV(alphas=alphas, scoring='r2', cv=3)\n",
    "ridge_cv.fit(X, y)"
   ]
  },
  {
   "cell_type": "code",
   "execution_count": 34,
   "metadata": {},
   "outputs": [
    {
     "data": {
      "text/plain": [
       "4.448818864392709"
      ]
     },
     "execution_count": 34,
     "metadata": {},
     "output_type": "execute_result"
    }
   ],
   "source": [
    "ridge_cv.alpha_"
   ]
  },
  {
   "cell_type": "code",
   "execution_count": 35,
   "metadata": {},
   "outputs": [
    {
     "data": {
      "text/plain": [
       "array([-0.50227122, -0.00675384, -0.01537584,  0.6404558 , -1.47504103,\n",
       "        0.02156638,  0.12309122,  0.99847705,  0.73353664, -0.7011099 ])"
      ]
     },
     "execution_count": 35,
     "metadata": {},
     "output_type": "execute_result"
    }
   ],
   "source": [
    "ridge_cv.coef_"
   ]
  },
  {
   "cell_type": "code",
   "execution_count": 36,
   "metadata": {},
   "outputs": [],
   "source": [
    "from sklearn.metrics import r2_score, mean_squared_error"
   ]
  },
  {
   "cell_type": "code",
   "execution_count": 37,
   "metadata": {},
   "outputs": [
    {
     "name": "stdout",
     "output_type": "stream",
     "text": [
      "R-squared of train: 0.8440393008423834\n",
      "R-squared of test: 0.8265268807428914\n"
     ]
    }
   ],
   "source": [
    "ridge = Ridge(alpha = ridge_cv.alpha_, random_state=3)\n",
    "ridge.fit(X_train, y_train)\n",
    "y_train_pred = ridge.predict(X_train)\n",
    "y_pred = ridge.predict(X_test)\n",
    "print(\"R-squared of train: {}\".format(r2_score(y_train, y_train_pred)))\n",
    "print(\"R-squared of test: {}\".format(r2_score(y_test, y_pred)))"
   ]
  },
  {
   "cell_type": "markdown",
   "metadata": {},
   "source": [
    "- Ridge Regularisation doesn't help in improving the r-square value."
   ]
  },
  {
   "cell_type": "markdown",
   "metadata": {},
   "source": [
    "### Lasso Regularisation"
   ]
  },
  {
   "cell_type": "code",
   "execution_count": 38,
   "metadata": {},
   "outputs": [],
   "source": [
    "from sklearn.linear_model import Lasso, LassoCV"
   ]
  },
  {
   "cell_type": "code",
   "execution_count": 39,
   "metadata": {},
   "outputs": [
    {
     "data": {
      "text/plain": [
       "LassoCV(alphas=array([1.00000000e-05, 1.01109091e-02, 2.02118182e-02, 3.03127273e-02,\n",
       "       4.04136364e-02, 5.05145455e-02, 6.06154545e-02, 7.07163636e-02,\n",
       "       8.08172727e-02, 9.09181818e-02, 1.01019091e-01, 1.11120000e-01,\n",
       "       1.21220909e-01, 1.31321818e-01, 1.41422727e-01, 1.51523636e-01,\n",
       "       1.61624545e-01, 1.71725455e-01, 1.81826364e-01, 1.91927273e-01,\n",
       "       2.02028182e-01, 2.12129091e-0...\n",
       "       7.67679091e-01, 7.77780000e-01, 7.87880909e-01, 7.97981818e-01,\n",
       "       8.08082727e-01, 8.18183636e-01, 8.28284545e-01, 8.38385455e-01,\n",
       "       8.48486364e-01, 8.58587273e-01, 8.68688182e-01, 8.78789091e-01,\n",
       "       8.88890000e-01, 8.98990909e-01, 9.09091818e-01, 9.19192727e-01,\n",
       "       9.29293636e-01, 9.39394545e-01, 9.49495455e-01, 9.59596364e-01,\n",
       "       9.69697273e-01, 9.79798182e-01, 9.89899091e-01, 1.00000000e+00]),\n",
       "        cv=3, random_state=3)"
      ]
     },
     "execution_count": 39,
     "metadata": {},
     "output_type": "execute_result"
    }
   ],
   "source": [
    "alphas = np.linspace(0.00001, 1, 100)\n",
    "lasso_cv = LassoCV(alphas=alphas, cv=3, random_state=3)\n",
    "lasso_cv.fit(X, y)"
   ]
  },
  {
   "cell_type": "code",
   "execution_count": 40,
   "metadata": {},
   "outputs": [
    {
     "data": {
      "text/plain": [
       "0.20202818181818183"
      ]
     },
     "execution_count": 40,
     "metadata": {},
     "output_type": "execute_result"
    }
   ],
   "source": [
    "lasso_cv.alpha_"
   ]
  },
  {
   "cell_type": "code",
   "execution_count": 41,
   "metadata": {},
   "outputs": [
    {
     "name": "stdout",
     "output_type": "stream",
     "text": [
      "R-squared of train: 0.748706023493898\n",
      "R-squared of test: 0.7288366688710186\n"
     ]
    }
   ],
   "source": [
    "lasso = Lasso(alpha = ridge_cv.alpha_, random_state=3)\n",
    "lasso.fit(X_train, y_train)\n",
    "y_train_pred = lasso.predict(X_train)\n",
    "y_pred = lasso.predict(X_test)\n",
    "print(\"R-squared of train: {}\".format(r2_score(y_train, y_train_pred)))\n",
    "print(\"R-squared of test: {}\".format(r2_score(y_test, y_pred)))"
   ]
  },
  {
   "cell_type": "markdown",
   "metadata": {},
   "source": [
    "- So, both the regularization techniques doesn't help in improving the model r-square values."
   ]
  },
  {
   "cell_type": "code",
   "execution_count": null,
   "metadata": {},
   "outputs": [],
   "source": []
  },
  {
   "cell_type": "markdown",
   "metadata": {},
   "source": [
    "### Model buiding after the Outliers Treatment"
   ]
  },
  {
   "cell_type": "code",
   "execution_count": 48,
   "metadata": {},
   "outputs": [],
   "source": [
    "num_features = df.select_dtypes(include='number')"
   ]
  },
  {
   "cell_type": "code",
   "execution_count": 49,
   "metadata": {},
   "outputs": [
    {
     "data": {
      "image/png": "[encoded data removed]",
      "text/plain": [
       "<Figure size 432x288 with 1 Axes>"
      ]
     },
     "metadata": {
      "needs_background": "light"
     },
     "output_type": "display_data"
    },
    {
     "data": {
      "image/png": "[encoded data removed]",
      "text/plain": [
       "<Figure size 432x288 with 1 Axes>"
      ]
     },
     "metadata": {
      "needs_background": "light"
     },
     "output_type": "display_data"
    },
    {
     "data": {
      "image/png": "[encoded data removed]",
      "text/plain": [
       "<Figure size 432x288 with 1 Axes>"
      ]
     },
     "metadata": {
      "needs_background": "light"
     },
     "output_type": "display_data"
    },
    {
     "data": {
      "image/png": "[encoded data removed]",
      "text/plain": [
       "<Figure size 432x288 with 1 Axes>"
      ]
     },
     "metadata": {
      "needs_background": "light"
     },
     "output_type": "display_data"
    },
    {
     "data": {
      "image/png": "[encoded data removed]",
      "text/plain": [
       "<Figure size 432x288 with 1 Axes>"
      ]
     },
     "metadata": {
      "needs_background": "light"
     },
     "output_type": "display_data"
    },
    {
     "data": {
      "image/png": "[encoded data removed]",
      "text/plain": [
       "<Figure size 432x288 with 1 Axes>"
      ]
     },
     "metadata": {
      "needs_background": "light"
     },
     "output_type": "display_data"
    },
    {
     "data": {
      "image/png": "[encoded data removed]",
      "text/plain": [
       "<Figure size 432x288 with 1 Axes>"
      ]
     },
     "metadata": {
      "needs_background": "light"
     },
     "output_type": "display_data"
    },
    {
     "data": {
      "image/png": "[encoded data removed]",
      "text/plain": [
       "<Figure size 432x288 with 1 Axes>"
      ]
     },
     "metadata": {
      "needs_background": "light"
     },
     "output_type": "display_data"
    },
    {
     "data": {
      "image/png": "[encoded data removed]",
      "text/plain": [
       "<Figure size 432x288 with 1 Axes>"
      ]
     },
     "metadata": {
      "needs_background": "light"
     },
     "output_type": "display_data"
    },
    {
     "data": {
      "image/png": "[encoded data removed]",
      "text/plain": [
       "<Figure size 432x288 with 1 Axes>"
      ]
     },
     "metadata": {
      "needs_background": "light"
     },
     "output_type": "display_data"
    },
    {
     "data": {
      "image/png": "[encoded data removed]",
      "text/plain": [
       "<Figure size 432x288 with 1 Axes>"
      ]
     },
     "metadata": {
      "needs_background": "light"
     },
     "output_type": "display_data"
    }
   ],
   "source": [
    "for i in num_features:\n",
    "    sns.boxplot(df[i])\n",
    "    plt.show()"
   ]
  },
  {
   "cell_type": "markdown",
   "metadata": {},
   "source": [
    "- There are outliers in a lot of features."
   ]
  },
  {
   "cell_type": "code",
   "execution_count": 50,
   "metadata": {},
   "outputs": [
    {
     "data": {
      "text/html": [
       "<div>\n",
       "<style scoped>\n",
       "    .dataframe tbody tr th:only-of-type {\n",
       "        vertical-align: middle;\n",
       "    }\n",
       "\n",
       "    .dataframe tbody tr th {\n",
       "        vertical-align: top;\n",
       "    }\n",
       "\n",
       "    .dataframe thead th {\n",
       "        text-align: right;\n",
       "    }\n",
       "</style>\n",
       "<table border=\"1\" class=\"dataframe\">\n",
       "  <thead>\n",
       "    <tr style=\"text-align: right;\">\n",
       "      <th></th>\n",
       "      <th>mpg</th>\n",
       "      <th>cyl</th>\n",
       "      <th>disp</th>\n",
       "      <th>hp</th>\n",
       "      <th>drat</th>\n",
       "      <th>wt</th>\n",
       "      <th>qsec</th>\n",
       "      <th>vs</th>\n",
       "      <th>am</th>\n",
       "      <th>gear</th>\n",
       "      <th>carb</th>\n",
       "    </tr>\n",
       "  </thead>\n",
       "  <tbody>\n",
       "    <tr>\n",
       "      <th>count</th>\n",
       "      <td>32.000000</td>\n",
       "      <td>32.000000</td>\n",
       "      <td>32.000000</td>\n",
       "      <td>32.000000</td>\n",
       "      <td>32.000000</td>\n",
       "      <td>32.000000</td>\n",
       "      <td>32.000000</td>\n",
       "      <td>32.000000</td>\n",
       "      <td>32.000000</td>\n",
       "      <td>32.000000</td>\n",
       "      <td>32.0000</td>\n",
       "    </tr>\n",
       "    <tr>\n",
       "      <th>mean</th>\n",
       "      <td>20.090625</td>\n",
       "      <td>6.187500</td>\n",
       "      <td>230.721875</td>\n",
       "      <td>146.687500</td>\n",
       "      <td>3.596563</td>\n",
       "      <td>3.217250</td>\n",
       "      <td>17.848750</td>\n",
       "      <td>0.437500</td>\n",
       "      <td>0.406250</td>\n",
       "      <td>3.687500</td>\n",
       "      <td>2.8125</td>\n",
       "    </tr>\n",
       "    <tr>\n",
       "      <th>std</th>\n",
       "      <td>6.026948</td>\n",
       "      <td>1.785922</td>\n",
       "      <td>123.938694</td>\n",
       "      <td>68.562868</td>\n",
       "      <td>0.534679</td>\n",
       "      <td>0.978457</td>\n",
       "      <td>1.786943</td>\n",
       "      <td>0.504016</td>\n",
       "      <td>0.498991</td>\n",
       "      <td>0.737804</td>\n",
       "      <td>1.6152</td>\n",
       "    </tr>\n",
       "    <tr>\n",
       "      <th>min</th>\n",
       "      <td>10.400000</td>\n",
       "      <td>4.000000</td>\n",
       "      <td>71.100000</td>\n",
       "      <td>52.000000</td>\n",
       "      <td>2.760000</td>\n",
       "      <td>1.513000</td>\n",
       "      <td>14.500000</td>\n",
       "      <td>0.000000</td>\n",
       "      <td>0.000000</td>\n",
       "      <td>3.000000</td>\n",
       "      <td>1.0000</td>\n",
       "    </tr>\n",
       "    <tr>\n",
       "      <th>25%</th>\n",
       "      <td>15.425000</td>\n",
       "      <td>4.000000</td>\n",
       "      <td>120.825000</td>\n",
       "      <td>96.500000</td>\n",
       "      <td>3.080000</td>\n",
       "      <td>2.581250</td>\n",
       "      <td>16.892500</td>\n",
       "      <td>0.000000</td>\n",
       "      <td>0.000000</td>\n",
       "      <td>3.000000</td>\n",
       "      <td>2.0000</td>\n",
       "    </tr>\n",
       "  </tbody>\n",
       "</table>\n",
       "</div>"
      ],
      "text/plain": [
       "             mpg        cyl        disp          hp       drat         wt  \\\n",
       "count  32.000000  32.000000   32.000000   32.000000  32.000000  32.000000   \n",
       "mean   20.090625   6.187500  230.721875  146.687500   3.596563   3.217250   \n",
       "std     6.026948   1.785922  123.938694   68.562868   0.534679   0.978457   \n",
       "min    10.400000   4.000000   71.100000   52.000000   2.760000   1.513000   \n",
       "25%    15.425000   4.000000  120.825000   96.500000   3.080000   2.581250   \n",
       "\n",
       "            qsec         vs         am       gear     carb  \n",
       "count  32.000000  32.000000  32.000000  32.000000  32.0000  \n",
       "mean   17.848750   0.437500   0.406250   3.687500   2.8125  \n",
       "std     1.786943   0.504016   0.498991   0.737804   1.6152  \n",
       "min    14.500000   0.000000   0.000000   3.000000   1.0000  \n",
       "25%    16.892500   0.000000   0.000000   3.000000   2.0000  "
      ]
     },
     "execution_count": 50,
     "metadata": {},
     "output_type": "execute_result"
    }
   ],
   "source": [
    "x = df.describe()\n",
    "x.head()"
   ]
  },
  {
   "cell_type": "code",
   "execution_count": 53,
   "metadata": {},
   "outputs": [],
   "source": [
    "for i in num_features:\n",
    "    q1 = x.loc['25%'][i]\n",
    "    q3 = x.loc['75%'][i]\n",
    "    iqr = q3-q1\n",
    "    uppl = q3 + 1.5*iqr\n",
    "    lowl = q1 - 1.5*iqr\n",
    "    df[i] = df[i].apply(lambda x:uppl if x>uppl else x)\n",
    "    df[i] = df[i].apply(lambda x:lowl if x<lowl else x)"
   ]
  },
  {
   "cell_type": "code",
   "execution_count": 54,
   "metadata": {},
   "outputs": [
    {
     "data": {
      "image/png": "[encoded data removed]",
      "text/plain": [
       "<Figure size 1008x432 with 1 Axes>"
      ]
     },
     "metadata": {
      "needs_background": "light"
     },
     "output_type": "display_data"
    }
   ],
   "source": [
    "plt.figure(figsize=(14,6))\n",
    "sns.boxplot(data=df)\n",
    "plt.show()"
   ]
  },
  {
   "cell_type": "code",
   "execution_count": 55,
   "metadata": {},
   "outputs": [
    {
     "data": {
      "image/png": "[encoded data removed]",
      "text/plain": [
       "<Figure size 432x288 with 1 Axes>"
      ]
     },
     "metadata": {
      "needs_background": "light"
     },
     "output_type": "display_data"
    },
    {
     "data": {
      "image/png": "[encoded data removed]",
      "text/plain": [
       "<Figure size 432x288 with 1 Axes>"
      ]
     },
     "metadata": {
      "needs_background": "light"
     },
     "output_type": "display_data"
    },
    {
     "data": {
      "image/png": "[encoded data removed]",
      "text/plain": [
       "<Figure size 432x288 with 1 Axes>"
      ]
     },
     "metadata": {
      "needs_background": "light"
     },
     "output_type": "display_data"
    },
    {
     "data": {
      "image/png": "[encoded data removed]",
      "text/plain": [
       "<Figure size 432x288 with 1 Axes>"
      ]
     },
     "metadata": {
      "needs_background": "light"
     },
     "output_type": "display_data"
    },
    {
     "data": {
      "image/png": "[encoded data removed]",
      "text/plain": [
       "<Figure size 432x288 with 1 Axes>"
      ]
     },
     "metadata": {
      "needs_background": "light"
     },
     "output_type": "display_data"
    },
    {
     "data": {
      "image/png": "[encoded data removed]",
      "text/plain": [
       "<Figure size 432x288 with 1 Axes>"
      ]
     },
     "metadata": {
      "needs_background": "light"
     },
     "output_type": "display_data"
    },
    {
     "data": {
      "image/png": "[encoded data removed]",
      "text/plain": [
       "<Figure size 432x288 with 1 Axes>"
      ]
     },
     "metadata": {
      "needs_background": "light"
     },
     "output_type": "display_data"
    },
    {
     "data": {
      "image/png": "[encoded data removed]",
      "text/plain": [
       "<Figure size 432x288 with 1 Axes>"
      ]
     },
     "metadata": {
      "needs_background": "light"
     },
     "output_type": "display_data"
    },
    {
     "data": {
      "image/png": "[encoded data removed]",
      "text/plain": [
       "<Figure size 432x288 with 1 Axes>"
      ]
     },
     "metadata": {
      "needs_background": "light"
     },
     "output_type": "display_data"
    },
    {
     "data": {
      "image/png": "[encoded data removed]",
      "text/plain": [
       "<Figure size 432x288 with 1 Axes>"
      ]
     },
     "metadata": {
      "needs_background": "light"
     },
     "output_type": "display_data"
    },
    {
     "data": {
      "image/png": "[encoded data removed]",
      "text/plain": [
       "<Figure size 432x288 with 1 Axes>"
      ]
     },
     "metadata": {
      "needs_background": "light"
     },
     "output_type": "display_data"
    }
   ],
   "source": [
    "for i in num_features:\n",
    "    sns.boxplot(df[i])\n",
    "    plt.show()"
   ]
  },
  {
   "cell_type": "markdown",
   "metadata": {},
   "source": [
    "- The outliers have been removed."
   ]
  },
  {
   "cell_type": "markdown",
   "metadata": {},
   "source": [
    "### Building the models after outliers treatment"
   ]
  },
  {
   "cell_type": "code",
   "execution_count": 56,
   "metadata": {},
   "outputs": [],
   "source": [
    "X = df.drop('mpg', axis=1)\n",
    "y = df['mpg']"
   ]
  },
  {
   "cell_type": "code",
   "execution_count": 58,
   "metadata": {},
   "outputs": [],
   "source": [
    "X_train, X_test, y_train, y_test = train_test_split(X, y, test_size=0.30, random_state=42)"
   ]
  },
  {
   "cell_type": "markdown",
   "metadata": {},
   "source": [
    "### Building OLS Model"
   ]
  },
  {
   "cell_type": "code",
   "execution_count": 59,
   "metadata": {},
   "outputs": [],
   "source": [
    "import statsmodels.api as sm"
   ]
  },
  {
   "cell_type": "code",
   "execution_count": 61,
   "metadata": {},
   "outputs": [
    {
     "name": "stdout",
     "output_type": "stream",
     "text": [
      "                            OLS Regression Results                            \n",
      "==============================================================================\n",
      "Dep. Variable:                    mpg   R-squared:                       0.876\n",
      "Model:                            OLS   Adj. R-squared:                  0.818\n",
      "Method:                 Least Squares   F-statistic:                     14.89\n",
      "Date:                Mon, 27 Jul 2020   Prob (F-statistic):           2.13e-07\n",
      "Time:                        17:56:29   Log-Likelihood:                -68.913\n",
      "No. Observations:                  32   AIC:                             159.8\n",
      "Df Residuals:                      21   BIC:                             175.9\n",
      "Df Model:                          10                                         \n",
      "Covariance Type:            nonrobust                                         \n",
      "==============================================================================\n",
      "                 coef    std err          t      P>|t|      [0.025      0.975]\n",
      "------------------------------------------------------------------------------\n",
      "const          6.2971     20.612      0.306      0.763     -36.569      49.163\n",
      "cyl            0.0843      1.007      0.084      0.934      -2.009       2.178\n",
      "disp           0.0143      0.017      0.845      0.408      -0.021       0.049\n",
      "hp            -0.0210      0.022     -0.953      0.351      -0.067       0.025\n",
      "drat           0.9368      1.608      0.583      0.566      -2.407       4.281\n",
      "wt            -4.3673      2.100     -2.080      0.050      -8.734      -0.001\n",
      "qsec           1.1228      0.888      1.264      0.220      -0.724       2.969\n",
      "vs            -0.2143      2.144     -0.100      0.921      -4.672       4.244\n",
      "am             2.0565      1.986      1.035      0.312      -2.074       6.187\n",
      "gear           0.9311      1.452      0.641      0.528      -2.089       3.951\n",
      "carb          -0.1922      0.837     -0.230      0.821      -1.932       1.548\n",
      "==============================================================================\n",
      "Omnibus:                        2.123   Durbin-Watson:                   1.930\n",
      "Prob(Omnibus):                  0.346   Jarque-Bera (JB):                1.939\n",
      "Skew:                           0.541   Prob(JB):                        0.379\n",
      "Kurtosis:                       2.467   Cond. No.                     1.38e+04\n",
      "==============================================================================\n",
      "\n",
      "Warnings:\n",
      "[1] Standard Errors assume that the covariance matrix of the errors is correctly specified.\n",
      "[2] The condition number is large, 1.38e+04. This might indicate that there are\n",
      "strong multicollinearity or other numerical problems.\n"
     ]
    }
   ],
   "source": [
    "Xc = sm.add_constant(X)\n",
    "mod2 = sm.OLS(y, Xc).fit()\n",
    "print(mod2.summary())"
   ]
  },
  {
   "cell_type": "markdown",
   "metadata": {},
   "source": [
    "- The model's R-square value has increased after the outlier's treatment.\n",
    "- Also based on the Durbin Watson test there's almost no autocorrelation"
   ]
  },
  {
   "cell_type": "markdown",
   "metadata": {},
   "source": [
    "### Checking the Model Performance"
   ]
  },
  {
   "cell_type": "code",
   "execution_count": 62,
   "metadata": {},
   "outputs": [
    {
     "name": "stdout",
     "output_type": "stream",
     "text": [
      "R-square for train: 0.8702708346614005\n",
      "R-square for test: 0.8898897029036036\n"
     ]
    }
   ],
   "source": [
    "from sklearn.linear_model import LinearRegression\n",
    "\n",
    "lin_reg = LinearRegression()\n",
    "lin_reg.fit(X, y)\n",
    "y_pred = lin_reg.predict(X_test)\n",
    "y_pred_train = lin_reg.predict(X_train)\n",
    "\n",
    "print(\"R-square for train: {}\".format(lin_reg.score(X_train, y_train)))\n",
    "print(\"R-square for test: {}\".format(lin_reg.score(X_test, y_test)))"
   ]
  },
  {
   "cell_type": "code",
   "execution_count": 66,
   "metadata": {},
   "outputs": [
    {
     "name": "stdout",
     "output_type": "stream",
     "text": [
      "Coefficeints: [ 0.08429442  0.01425419 -0.02098602  0.93680309 -4.36731366  1.12277407\n",
      " -0.21434898  2.05649186  0.93113227 -0.1922466 ]\n",
      "Intercept: 6.297138762728409\n",
      "Overall R-square: 0.8763921195657585\n"
     ]
    }
   ],
   "source": [
    "print(\"Coefficeints: {}\".format(lin_reg.coef_))\n",
    "print(\"Intercept: {}\".format(lin_reg.intercept_))\n",
    "print(\"Overall R-square: {}\".format(lin_reg.score(X,y)))"
   ]
  },
  {
   "cell_type": "code",
   "execution_count": 67,
   "metadata": {},
   "outputs": [],
   "source": [
    "from sklearn.metrics import mean_absolute_error, mean_squared_error"
   ]
  },
  {
   "cell_type": "code",
   "execution_count": 75,
   "metadata": {},
   "outputs": [
    {
     "name": "stdout",
     "output_type": "stream",
     "text": [
      "Mean Absolute Error: 15.956620733270949\n",
      "Root Mean square error: 16.778255044336888\n"
     ]
    }
   ],
   "source": [
    "print(\"Mean Absolute Error: {}\".format(mean_absolute_error(y_test, y_pred)))\n",
    "print(\"Root Mean square error: {}\".format(np.sqrt(mean_squared_error(y_test, y_pred))))"
   ]
  },
  {
   "cell_type": "markdown",
   "metadata": {},
   "source": [
    "- MAE and RMSE have increased after the outliers treatment."
   ]
  },
  {
   "cell_type": "code",
   "execution_count": 76,
   "metadata": {},
   "outputs": [],
   "source": [
    "VIF = pd.DataFrame([vif(Xc.values,i) for i in range(Xc.shape[1])], index = Xc.columns, columns=['vif_value'])"
   ]
  },
  {
   "cell_type": "code",
   "execution_count": 80,
   "metadata": {},
   "outputs": [
    {
     "data": {
      "text/html": [
       "<div>\n",
       "<style scoped>\n",
       "    .dataframe tbody tr th:only-of-type {\n",
       "        vertical-align: middle;\n",
       "    }\n",
       "\n",
       "    .dataframe tbody tr th {\n",
       "        vertical-align: top;\n",
       "    }\n",
       "\n",
       "    .dataframe thead th {\n",
       "        text-align: right;\n",
       "    }\n",
       "</style>\n",
       "<table border=\"1\" class=\"dataframe\">\n",
       "  <thead>\n",
       "    <tr style=\"text-align: right;\">\n",
       "      <th></th>\n",
       "      <th>vif_value</th>\n",
       "    </tr>\n",
       "  </thead>\n",
       "  <tbody>\n",
       "    <tr>\n",
       "      <th>const</th>\n",
       "      <td>2053.157503</td>\n",
       "    </tr>\n",
       "    <tr>\n",
       "      <th>disp</th>\n",
       "      <td>20.486335</td>\n",
       "    </tr>\n",
       "    <tr>\n",
       "      <th>wt</th>\n",
       "      <td>18.230011</td>\n",
       "    </tr>\n",
       "    <tr>\n",
       "      <th>cyl</th>\n",
       "      <td>15.134728</td>\n",
       "    </tr>\n",
       "    <tr>\n",
       "      <th>qsec</th>\n",
       "      <td>10.710451</td>\n",
       "    </tr>\n",
       "    <tr>\n",
       "      <th>hp</th>\n",
       "      <td>9.910179</td>\n",
       "    </tr>\n",
       "    <tr>\n",
       "      <th>carb</th>\n",
       "      <td>7.557540</td>\n",
       "    </tr>\n",
       "    <tr>\n",
       "      <th>vs</th>\n",
       "      <td>5.464679</td>\n",
       "    </tr>\n",
       "    <tr>\n",
       "      <th>gear</th>\n",
       "      <td>5.373063</td>\n",
       "    </tr>\n",
       "    <tr>\n",
       "      <th>am</th>\n",
       "      <td>4.597784</td>\n",
       "    </tr>\n",
       "    <tr>\n",
       "      <th>drat</th>\n",
       "      <td>3.459862</td>\n",
       "    </tr>\n",
       "  </tbody>\n",
       "</table>\n",
       "</div>"
      ],
      "text/plain": [
       "         vif_value\n",
       "const  2053.157503\n",
       "disp     20.486335\n",
       "wt       18.230011\n",
       "cyl      15.134728\n",
       "qsec     10.710451\n",
       "hp        9.910179\n",
       "carb      7.557540\n",
       "vs        5.464679\n",
       "gear      5.373063\n",
       "am        4.597784\n",
       "drat      3.459862"
      ]
     },
     "execution_count": 80,
     "metadata": {},
     "output_type": "execute_result"
    }
   ],
   "source": [
    "VIF.sort_values(\"vif_value\", ascending=False)"
   ]
  },
  {
   "cell_type": "markdown",
   "metadata": {},
   "source": [
    "- Without the outliers treatment the model performs better."
   ]
  },
  {
   "cell_type": "markdown",
   "metadata": {},
   "source": [
    "### Ridge Regularisation"
   ]
  },
  {
   "cell_type": "code",
   "execution_count": 81,
   "metadata": {},
   "outputs": [],
   "source": [
    "from sklearn.linear_model import Ridge, RidgeCV"
   ]
  },
  {
   "cell_type": "code",
   "execution_count": 82,
   "metadata": {},
   "outputs": [
    {
     "data": {
      "text/plain": [
       "RidgeCV(alphas=array([ 1.00023029,  1.01186977,  1.02364471,  1.03555667,  1.04760724,\n",
       "        1.05979805,  1.07213072,  1.0846069 ,  1.09722826,  1.1099965 ,\n",
       "        1.12291331,  1.13598044,  1.14919963,  1.16257265,  1.17610128,\n",
       "        1.18978735,  1.20363268,  1.21763912,  1.23180856,  1.24614288,\n",
       "        1.260644  ,  1.27531388,  1.29015446,  1.30516774,  1.32035573,\n",
       "        1.33572046,  1.35126398,  1.36698838,  1.38289577,  1.39898826,\n",
       "        1....\n",
       "        6.74780951,  6.82633248,  6.90576921,  6.98613033,  7.0674266 ,\n",
       "        7.14966889,  7.23286822,  7.31703573,  7.40218268,  7.48832047,\n",
       "        7.57546063,  7.66361482,  7.75279484,  7.84301263,  7.93428028,\n",
       "        8.02660998,  8.12001411,  8.21450517,  8.31009579,  8.40679879,\n",
       "        8.50462711,  8.60359383,  8.70371221,  8.80499565,  8.9074577 ,\n",
       "        9.01111209,  9.11597268,  9.22205352,  9.32936879,  9.43793288,\n",
       "        9.5477603 ,  9.65886577,  9.77126415,  9.88497048, 10.        ]),\n",
       "        cv=3, scoring='r2')"
      ]
     },
     "execution_count": 82,
     "metadata": {},
     "output_type": "execute_result"
    }
   ],
   "source": [
    "alphas = np.logspace(0.0001, 1, 200)\n",
    "\n",
    "ridge_cv = RidgeCV(alphas=alphas, scoring='r2', cv=3)\n",
    "ridge_cv.fit(X, y)"
   ]
  },
  {
   "cell_type": "code",
   "execution_count": 83,
   "metadata": {},
   "outputs": [
    {
     "data": {
      "text/plain": [
       "3.612710537495407"
      ]
     },
     "execution_count": 83,
     "metadata": {},
     "output_type": "execute_result"
    }
   ],
   "source": [
    "ridge_cv.alpha_"
   ]
  },
  {
   "cell_type": "code",
   "execution_count": 84,
   "metadata": {},
   "outputs": [
    {
     "data": {
      "text/plain": [
       "array([-0.3900149 , -0.00472723, -0.01985836,  0.73660746, -1.64557456,\n",
       "        0.03504661,  0.09982752,  1.02360695,  0.810626  , -0.7653643 ])"
      ]
     },
     "execution_count": 84,
     "metadata": {},
     "output_type": "execute_result"
    }
   ],
   "source": [
    "ridge_cv.coef_"
   ]
  },
  {
   "cell_type": "code",
   "execution_count": 85,
   "metadata": {},
   "outputs": [
    {
     "name": "stdout",
     "output_type": "stream",
     "text": [
      "R-squared of train: 0.8510982301046843\n",
      "R-squared of test: 0.8471689834332665\n"
     ]
    }
   ],
   "source": [
    "ridge = Ridge(alpha = ridge_cv.alpha_, random_state=3)\n",
    "ridge.fit(X_train, y_train)\n",
    "y_train_pred = ridge.predict(X_train)\n",
    "y_pred = ridge.predict(X_test)\n",
    "print(\"R-squared of train: {}\".format(r2_score(y_train, y_train_pred)))\n",
    "print(\"R-squared of test: {}\".format(r2_score(y_test, y_pred)))"
   ]
  },
  {
   "cell_type": "code",
   "execution_count": 86,
   "metadata": {},
   "outputs": [],
   "source": [
    "from sklearn.linear_model import Lasso, LassoCV"
   ]
  },
  {
   "cell_type": "code",
   "execution_count": 87,
   "metadata": {},
   "outputs": [
    {
     "name": "stderr",
     "output_type": "stream",
     "text": [
      "F:\\Anaconda_3\\lib\\site-packages\\sklearn\\linear_model\\_coordinate_descent.py:525: ConvergenceWarning: Objective did not converge. You might want to increase the number of iterations. Duality gap: 3.3155613928764893, tolerance: 0.10429105059523806\n",
      "  model = cd_fast.enet_coordinate_descent_gram(\n"
     ]
    },
    {
     "data": {
      "text/plain": [
       "LassoCV(alphas=array([1.00000000e-05, 1.01109091e-02, 2.02118182e-02, 3.03127273e-02,\n",
       "       4.04136364e-02, 5.05145455e-02, 6.06154545e-02, 7.07163636e-02,\n",
       "       8.08172727e-02, 9.09181818e-02, 1.01019091e-01, 1.11120000e-01,\n",
       "       1.21220909e-01, 1.31321818e-01, 1.41422727e-01, 1.51523636e-01,\n",
       "       1.61624545e-01, 1.71725455e-01, 1.81826364e-01, 1.91927273e-01,\n",
       "       2.02028182e-01, 2.12129091e-0...\n",
       "       7.67679091e-01, 7.77780000e-01, 7.87880909e-01, 7.97981818e-01,\n",
       "       8.08082727e-01, 8.18183636e-01, 8.28284545e-01, 8.38385455e-01,\n",
       "       8.48486364e-01, 8.58587273e-01, 8.68688182e-01, 8.78789091e-01,\n",
       "       8.88890000e-01, 8.98990909e-01, 9.09091818e-01, 9.19192727e-01,\n",
       "       9.29293636e-01, 9.39394545e-01, 9.49495455e-01, 9.59596364e-01,\n",
       "       9.69697273e-01, 9.79798182e-01, 9.89899091e-01, 1.00000000e+00]),\n",
       "        cv=3, random_state=3)"
      ]
     },
     "execution_count": 87,
     "metadata": {},
     "output_type": "execute_result"
    }
   ],
   "source": [
    "alphas = np.linspace(0.00001, 1, 100)\n",
    "lasso_cv = LassoCV(alphas=alphas, cv=3, random_state=3)\n",
    "lasso_cv.fit(X, y)"
   ]
  },
  {
   "cell_type": "code",
   "execution_count": 88,
   "metadata": {},
   "outputs": [
    {
     "data": {
      "text/plain": [
       "0.19192727272727272"
      ]
     },
     "execution_count": 88,
     "metadata": {},
     "output_type": "execute_result"
    }
   ],
   "source": [
    "lasso_cv.alpha_"
   ]
  },
  {
   "cell_type": "code",
   "execution_count": 89,
   "metadata": {},
   "outputs": [
    {
     "name": "stdout",
     "output_type": "stream",
     "text": [
      "R-squared of train: 0.7490990823501099\n",
      "R-squared of test: 0.7304193413713204\n"
     ]
    }
   ],
   "source": [
    "lasso = Lasso(alpha = ridge_cv.alpha_, random_state=3)\n",
    "lasso.fit(X_train, y_train)\n",
    "y_train_pred = lasso.predict(X_train)\n",
    "y_pred = lasso.predict(X_test)\n",
    "print(\"R-squared of train: {}\".format(r2_score(y_train, y_train_pred)))\n",
    "print(\"R-squared of test: {}\".format(r2_score(y_test, y_pred)))"
   ]
  },
  {
   "cell_type": "markdown",
   "metadata": {},
   "source": [
    "So, both the regularization techniques doesn't help in improving the model r-square values."
   ]
  },
  {
   "cell_type": "markdown",
   "metadata": {},
   "source": [
    "### Lasso Regression using Gridsearch Cv"
   ]
  },
  {
   "cell_type": "code",
   "execution_count": 91,
   "metadata": {},
   "outputs": [
    {
     "name": "stderr",
     "output_type": "stream",
     "text": [
      "F:\\Anaconda_3\\lib\\site-packages\\sklearn\\linear_model\\_coordinate_descent.py:529: ConvergenceWarning: Objective did not converge. You might want to increase the number of iterations. Duality gap: 46.5132068643712, tolerance: 0.10744412499999999\n",
      "  model = cd_fast.enet_coordinate_descent(\n",
      "F:\\Anaconda_3\\lib\\site-packages\\sklearn\\linear_model\\_coordinate_descent.py:529: ConvergenceWarning: Objective did not converge. You might want to increase the number of iterations. Duality gap: 55.52992964914323, tolerance: 0.10454866500000001\n",
      "  model = cd_fast.enet_coordinate_descent(\n",
      "F:\\Anaconda_3\\lib\\site-packages\\sklearn\\linear_model\\_coordinate_descent.py:529: ConvergenceWarning: Objective did not converge. You might want to increase the number of iterations. Duality gap: 23.338161536581257, tolerance: 0.04554434615384616\n",
      "  model = cd_fast.enet_coordinate_descent(\n",
      "F:\\Anaconda_3\\lib\\site-packages\\sklearn\\linear_model\\_coordinate_descent.py:529: ConvergenceWarning: Objective did not converge. You might want to increase the number of iterations. Duality gap: 43.087253642330865, tolerance: 0.09763706790865383\n",
      "  model = cd_fast.enet_coordinate_descent(\n",
      "F:\\Anaconda_3\\lib\\site-packages\\sklearn\\linear_model\\_coordinate_descent.py:529: ConvergenceWarning: Objective did not converge. You might want to increase the number of iterations. Duality gap: 44.34167783512193, tolerance: 0.0935281736778846\n",
      "  model = cd_fast.enet_coordinate_descent(\n"
     ]
    },
    {
     "name": "stdout",
     "output_type": "stream",
     "text": [
      "{'alpha': 20}\n",
      "-13.261951297783668\n"
     ]
    }
   ],
   "source": [
    "from sklearn.linear_model import Lasso\n",
    "from sklearn.model_selection import GridSearchCV\n",
    "lasso=Lasso()\n",
    "parameters={'alpha':[1e-15,1e-10,1e-8,1e-3,1e-2,1,5,10,20,30,35,40,45,50,55,100]}\n",
    "lasso_regressor=GridSearchCV(lasso,parameters,scoring='neg_mean_squared_error',cv=5)\n",
    "\n",
    "lasso_regressor.fit(X,y)\n",
    "print(lasso_regressor.best_params_)\n",
    "print(lasso_regressor.best_score_)"
   ]
  },
  {
   "cell_type": "code",
   "execution_count": 95,
   "metadata": {},
   "outputs": [
    {
     "name": "stdout",
     "output_type": "stream",
     "text": [
      "R-squared of train: 0.7448705182101075\n",
      "R-squared of test: 0.6975436271669503\n"
     ]
    }
   ],
   "source": [
    "lasso = Lasso(alpha = 20, random_state=3)\n",
    "lasso.fit(X_train, y_train)\n",
    "y_train_pred = lasso.predict(X_train)\n",
    "y_pred = lasso.predict(X_test)\n",
    "print(\"R-squared of train: {}\".format(r2_score(y_train, y_train_pred)))\n",
    "print(\"R-squared of test: {}\".format(r2_score(y_test, y_pred)))"
   ]
  },
  {
   "cell_type": "code",
   "execution_count": null,
   "metadata": {},
   "outputs": [],
   "source": []
  },
  {
   "cell_type": "markdown",
   "metadata": {},
   "source": [
    "### Ridge Regression using Gridsearch Cv"
   ]
  },
  {
   "cell_type": "code",
   "execution_count": 97,
   "metadata": {},
   "outputs": [
    {
     "data": {
      "text/plain": [
       "GridSearchCV(cv=5, estimator=Ridge(),\n",
       "             param_grid={'alpha': [1e-15, 1e-10, 1e-08, 0.001, 0.01, 1, 5, 10,\n",
       "                                   20, 30, 35, 40, 45, 50, 55, 100]},\n",
       "             scoring='neg_mean_squared_error')"
      ]
     },
     "execution_count": 97,
     "metadata": {},
     "output_type": "execute_result"
    }
   ],
   "source": [
    "from sklearn.linear_model import Ridge\n",
    "from sklearn.model_selection import GridSearchCV\n",
    "\n",
    "ridge=Ridge()\n",
    "parameters={'alpha':[1e-15,1e-10,1e-8,1e-3,1e-2,1,5,10,20,30,35,40,45,50,55,100]}\n",
    "ridge_regressor=GridSearchCV(ridge,parameters,scoring='neg_mean_squared_error',cv=5)\n",
    "ridge_regressor.fit(X,y)"
   ]
  },
  {
   "cell_type": "code",
   "execution_count": 99,
   "metadata": {},
   "outputs": [
    {
     "name": "stdout",
     "output_type": "stream",
     "text": [
      "{'alpha': 5}\n",
      "-10.087315998384193\n"
     ]
    }
   ],
   "source": [
    "print(ridge_regressor.best_params_)\n",
    "print(ridge_regressor.best_score_)"
   ]
  },
  {
   "cell_type": "code",
   "execution_count": 100,
   "metadata": {},
   "outputs": [
    {
     "name": "stdout",
     "output_type": "stream",
     "text": [
      "R-squared of train: 0.8453456877173519\n",
      "R-squared of test: 0.8424411281420139\n"
     ]
    }
   ],
   "source": [
    "ridge = Ridge(alpha = 5, random_state=3)\n",
    "ridge.fit(X_train, y_train)\n",
    "y_train_pred = ridge.predict(X_train)\n",
    "y_pred = ridge.predict(X_test)\n",
    "print(\"R-squared of train: {}\".format(r2_score(y_train, y_train_pred)))\n",
    "print(\"R-squared of test: {}\".format(r2_score(y_test, y_pred)))"
   ]
  },
  {
   "cell_type": "code",
   "execution_count": null,
   "metadata": {},
   "outputs": [],
   "source": []
  },
  {
   "cell_type": "markdown",
   "metadata": {},
   "source": [
    "### Polynomial"
   ]
  },
  {
   "cell_type": "code",
   "execution_count": 101,
   "metadata": {},
   "outputs": [],
   "source": [
    "pf = PolynomialFeatures()\n",
    "Xn = pf.fit_transform(X)\n",
    "\n",
    "poly_model = sm.OLS(y, Xn).fit()\n",
    "y_pred = poly_model.predict(Xn)"
   ]
  },
  {
   "cell_type": "code",
   "execution_count": 102,
   "metadata": {},
   "outputs": [
    {
     "name": "stdout",
     "output_type": "stream",
     "text": [
      "1.0\n",
      "nan\n"
     ]
    },
    {
     "name": "stderr",
     "output_type": "stream",
     "text": [
      "F:\\Anaconda_3\\lib\\site-packages\\statsmodels\\regression\\linear_model.py:1698: RuntimeWarning: divide by zero encountered in true_divide\n",
      "  return 1 - (np.divide(self.nobs - self.k_constant, self.df_resid)\n",
      "F:\\Anaconda_3\\lib\\site-packages\\statsmodels\\regression\\linear_model.py:1698: RuntimeWarning: invalid value encountered in double_scalars\n",
      "  return 1 - (np.divide(self.nobs - self.k_constant, self.df_resid)\n"
     ]
    }
   ],
   "source": [
    "print(poly_model.rsquared)\n",
    "print(poly_model.rsquared_adj)"
   ]
  },
  {
   "cell_type": "code",
   "execution_count": 103,
   "metadata": {},
   "outputs": [
    {
     "name": "stdout",
     "output_type": "stream",
     "text": [
      "3.9855896361018495e-12\n",
      "6.1702144280361e-12\n"
     ]
    }
   ],
   "source": [
    "from sklearn.metrics import mean_absolute_error, mean_squared_error\n",
    "print(mean_absolute_error(y, y_pred))\n",
    "print(np.sqrt(mean_squared_error(y, y_pred)))"
   ]
  },
  {
   "cell_type": "code",
   "execution_count": null,
   "metadata": {},
   "outputs": [],
   "source": []
  },
  {
   "cell_type": "code",
   "execution_count": null,
   "metadata": {},
   "outputs": [],
   "source": []
  },
  {
   "cell_type": "code",
   "execution_count": null,
   "metadata": {},
   "outputs": [],
   "source": []
  },
  {
   "cell_type": "code",
   "execution_count": null,
   "metadata": {},
   "outputs": [],
   "source": []
  },
  {
   "cell_type": "code",
   "execution_count": null,
   "metadata": {},
   "outputs": [],
   "source": []
  },
  {
   "cell_type": "code",
   "execution_count": null,
   "metadata": {},
   "outputs": [],
   "source": []
  },
  {
   "cell_type": "code",
   "execution_count": null,
   "metadata": {},
   "outputs": [],
   "source": []
  }
 ],
 "metadata": {
  "kernelspec": {
   "display_name": "Python 3",
   "language": "python",
   "name": "python3"
  },
  "language_info": {
   "codemirror_mode": {
    "name": "ipython",
    "version": 3
   },
   "file_extension": ".py",
   "mimetype": "text/x-python",
   "name": "python",
   "nbconvert_exporter": "python",
   "pygments_lexer": "ipython3",
   "version": "3.8.3"
  }
 },
 "nbformat": 4,
 "nbformat_minor": 4
}
